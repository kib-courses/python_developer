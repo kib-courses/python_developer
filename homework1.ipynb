{
 "cells": [
  {
   "cell_type": "code",
   "execution_count": 3,
   "metadata": {},
   "outputs": [],
   "source": [
    "#from collections.abc import Sequence\n",
    "\n",
    "from random import randint\n",
    "\n",
    "import numpy\n",
    "\n",
    "import array\n",
    "\n",
    "class ArrayList():\n",
    "\n",
    "    def __init__(self):\n",
    "\n",
    "        self.length = randint(1,20)\n",
    "\n",
    "        self.data = array.array('i',[randint(0, 200) for i in range(self.length)])\n",
    "\n",
    "        \n",
    "\n",
    "    def __len__(self):\n",
    "\n",
    "        return self.length\n",
    "\n",
    "    \n",
    "\n",
    "    def __getitem__(self, index):\n",
    "\n",
    "        return self.data[index]\n",
    "\n",
    "    \n",
    "\n",
    "    def __contains__(self, item):\n",
    "\n",
    "            return item in self.data\n",
    "\n",
    "        \n",
    "\n",
    "    def count(self,c):\n",
    "\n",
    "        k=0\n",
    "\n",
    "        for i in self.data:\n",
    "\n",
    "            if c==i:\n",
    "\n",
    "                k+=1\n",
    "\n",
    "        return k\n",
    "\n",
    "    \n",
    "\n",
    "    def index(self, c, start,end):\n",
    "\n",
    "        f=0\n",
    "\n",
    "        for i in range(start,end):\n",
    "\n",
    "            if c==self.data[i]:\n",
    "\n",
    "                ind=i\n",
    "\n",
    "                f=1\n",
    "\n",
    "                return ind\n",
    "\n",
    "        if f==0:\n",
    "\n",
    "            return 'did not find' "
   ]
  },
  {
   "cell_type": "code",
   "execution_count": 4,
   "metadata": {},
   "outputs": [],
   "source": [
    "al=ArrayList()"
   ]
  },
  {
   "cell_type": "code",
   "execution_count": 5,
   "metadata": {},
   "outputs": [
    {
     "name": "stdout",
     "output_type": "stream",
     "text": [
      "***length =  16\n"
     ]
    }
   ],
   "source": [
    "# len also works\n",
    "\n",
    "print('***length = ', end=' ')\n",
    "\n",
    "print(len(al))"
   ]
  },
  {
   "cell_type": "code",
   "execution_count": 6,
   "metadata": {},
   "outputs": [
    {
     "name": "stdout",
     "output_type": "stream",
     "text": [
      "***iter works\n",
      "116\n",
      "165\n",
      "174\n",
      "8\n",
      "54\n",
      "119\n",
      "48\n",
      "45\n",
      "119\n",
      "30\n",
      "62\n",
      "95\n",
      "80\n",
      "141\n",
      "131\n",
      "135\n"
     ]
    }
   ],
   "source": [
    "#iter works\n",
    "\n",
    "print('***iter works')\n",
    "\n",
    "for i in al:\n",
    "\n",
    "    print(i)"
   ]
  },
  {
   "cell_type": "code",
   "execution_count": 7,
   "metadata": {},
   "outputs": [
    {
     "name": "stdout",
     "output_type": "stream",
     "text": [
      "***reversed works\n",
      "135\n",
      "131\n",
      "141\n",
      "80\n",
      "95\n",
      "62\n",
      "30\n",
      "119\n",
      "45\n",
      "48\n",
      "119\n",
      "54\n",
      "8\n",
      "174\n",
      "165\n",
      "116\n"
     ]
    }
   ],
   "source": [
    "#итерация в обратном порядке:reversed\n",
    "\n",
    "print('***reversed works')\n",
    "\n",
    "for i in range(len(al)-1,-1,-1):\n",
    "\n",
    "    print(al[i])"
   ]
  },
  {
   "cell_type": "code",
   "execution_count": 8,
   "metadata": {},
   "outputs": [
    {
     "name": "stdout",
     "output_type": "stream",
     "text": [
      "***getitem works\n",
      "al[0] is  116\n"
     ]
    }
   ],
   "source": [
    "# getitem works\n",
    "\n",
    "print('***getitem works')\n",
    "\n",
    "print('al[0] is ', al[0])\n"
   ]
  },
  {
   "cell_type": "code",
   "execution_count": 9,
   "metadata": {},
   "outputs": [
    {
     "name": "stdout",
     "output_type": "stream",
     "text": [
      "***contains works\n",
      "does al contains 100:  False\n",
      "does al contains a=al[0]:  True\n"
     ]
    }
   ],
   "source": [
    "#есть ли в нашем массиве 100\n",
    "\n",
    "print('***contains works')\n",
    "\n",
    "print('does al contains 100: ',end=' ')\n",
    "\n",
    "print(100 in al)\n",
    "\n",
    "#проверка принадлежности нулевого элемент массиву(должно быть,конечно, TRUE)\n",
    "\n",
    "a = al[0]\n",
    "\n",
    "print('does al contains a=al[0]: ',end=' ')\n",
    "\n",
    "print(a in al)"
   ]
  },
  {
   "cell_type": "code",
   "execution_count": 10,
   "metadata": {},
   "outputs": [
    {
     "name": "stdout",
     "output_type": "stream",
     "text": [
      "***count works\n",
      "count of 171:  0\n",
      "count of al[0]:  1\n"
     ]
    }
   ],
   "source": [
    "#поиск количевств вхождений 171 и нулевого элемента\n",
    "\n",
    "print('***count works')\n",
    "\n",
    "print('count of 171: ',al.count(171))\n",
    "\n",
    "print('count of al[0]: ',al.count(al[0]))"
   ]
  },
  {
   "cell_type": "code",
   "execution_count": 11,
   "metadata": {},
   "outputs": [
    {
     "name": "stdout",
     "output_type": "stream",
     "text": [
      "***index works\n",
      "index of 24:  did not find\n",
      "index of al[0]:  0\n"
     ]
    }
   ],
   "source": [
    "\n",
    "#поиск первого индекса вводимого элемента, вид: (элемент, начало,конец поиска)\n",
    "\n",
    "#если нет вхождений возвращает ´did not find'\n",
    "\n",
    "print('***index works')\n",
    "\n",
    "print('index of 24: ',al.index(24,0,len(al)))\n",
    "\n",
    "print('index of al[0]: ',al.index(al[0],0,len(al)))"
   ]
  }
 ],
 "metadata": {
  "kernelspec": {
   "display_name": "Python 3",
   "language": "python",
   "name": "python3"
  },
  "language_info": {
   "codemirror_mode": {
    "name": "ipython",
    "version": 3
   },
   "file_extension": ".py",
   "mimetype": "text/x-python",
   "name": "python",
   "nbconvert_exporter": "python",
   "pygments_lexer": "ipython3",
   "version": "3.7.3"
  }
 },
 "nbformat": 4,
 "nbformat_minor": 2
}
