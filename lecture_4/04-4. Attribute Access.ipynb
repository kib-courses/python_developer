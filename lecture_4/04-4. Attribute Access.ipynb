{
 "cells": [
  {
   "cell_type": "markdown",
   "metadata": {},
   "source": [
    "# Методы доступа к атрибутам\n",
    "\n",
    "https://github.com/alexopryshko/advancedpython/tree/master/1\n",
    "\n",
    "В предыдущей теме были рассмотрены дескрипторы. Они позволяют переопределять доступ к атрибутам класса изнутри атрибута. Тем не менее в питоне есть еще группа магических методов, которые вызываются при доступе к атрибутам со стороны объекта вызывающего класса:\n",
    "\n",
    "- `__getattribute__(self, name)` - будет вызван при попытке получить значение атрибута. Если этот метод переопределён, стандартный механизм поиска значения атрибута не будет задействован. По умолчанию как раз он и лезет в `__dict__` объекта и вызывает в случае неудачи `__getattr__`:\n",
    "- `__getattr__(self, name)` - будет вызван в случае, если запрашиваемый атрибут не найден обычным механизмом (в `__dict__` экземпляра, класса и т.д.)\n",
    "- `__setattr__(self, name, value)` - будет вызван при попытке установить значение атрибута экземпляра. Если его переопределить, стандартный механизм установки значения не будет задействован.\n",
    "- `__delattr__(self, name)` - используется при удалении атрибута.\n",
    "\n",
    "В следующем примере показано, что `__getattr__` вызывается только тогда, когда стандартными средствами (заглянув в `__dict__` объекта и класса) найти атрибут не получается. При этом в нашем случае метод срабатывает для любых значений, не вызывая AttributeError"
   ]
  },
  {
   "cell_type": "code",
   "execution_count": 1,
   "metadata": {},
   "outputs": [
    {
     "name": "stdout",
     "output_type": "stream",
     "text": [
      "{'name': 'name'} {'__module__': '__main__', '__getattr__': <function A.__getattr__ at 0x000001C291DEC9D8>, 'field': 'field', '__dict__': <attribute '__dict__' of 'A' objects>, '__weakref__': <attribute '__weakref__' of 'A' objects>, '__doc__': None}\n",
      "\n",
      "\n",
      "a.name name\n",
      "\n",
      "a.field field\n",
      "\n",
      "__getattr__\n",
      "a.random 42\n",
      "\n"
     ]
    }
   ],
   "source": [
    "class A:\n",
    "    def __getattr__(self, attr):\n",
    "        print('__getattr__')\n",
    "        return 42\n",
    "\n",
    "    field = 'field'\n",
    "\n",
    "\n",
    "a = A()\n",
    "a.name = 'name'\n",
    "\n",
    "print(a.__dict__, A.__dict__, end='\\n\\n\\n')\n",
    "print('a.name', a.name, end='\\n\\n')\n",
    "print('a.field', a.field, end='\\n\\n')\n",
    "print('a.random', a.random, end='\\n\\n')"
   ]
  },
  {
   "cell_type": "code",
   "execution_count": 2,
   "metadata": {},
   "outputs": [
    {
     "name": "stdout",
     "output_type": "stream",
     "text": [
      "__getattr__\n"
     ]
    },
    {
     "data": {
      "text/plain": [
       "42"
      ]
     },
     "execution_count": 2,
     "metadata": {},
     "output_type": "execute_result"
    }
   ],
   "source": [
    "a.asdlubaslifubasfuib"
   ]
  },
  {
   "cell_type": "markdown",
   "metadata": {},
   "source": [
    "А если переопределим `__getattribute__`, то даже на `__dict__` посмотреть не сможем."
   ]
  },
  {
   "cell_type": "code",
   "execution_count": 3,
   "metadata": {},
   "outputs": [
    {
     "name": "stdout",
     "output_type": "stream",
     "text": [
      "__getattribute__\n",
      "__dict__ 42\n",
      "\n",
      "__getattribute__\n",
      "a.name 42\n",
      "\n",
      "__getattribute__\n",
      "a.field 42\n",
      "\n",
      "__getattribute__\n",
      "a.random 42\n",
      "\n",
      "__getattribute__\n",
      "a.__len__ 42\n",
      "\n",
      "len(a) 0\n",
      "\n",
      "test <__main__.A object at 0x000001C291E6FA58>\n",
      "type(a)... None\n",
      "\n",
      "A.field field\n",
      "\n"
     ]
    }
   ],
   "source": [
    "class A:\n",
    "    def __getattribute__(self, item):\n",
    "        if item in self.__dict__:\n",
    "            return self.__dict__[item]\n",
    "        if item in self.__class__.__dict__:\n",
    "            return self.__class__.__dict__[item]\n",
    "        if item in object.__dict__:\n",
    "            return object.__dict__[item]\n",
    "        if '__getattr__' in self.__class__.__dict__:\n",
    "            return self.__getattr__(self, item)\n",
    "        raise AttributeError\n",
    "        \n",
    "        \n",
    "        print('__getattribute__')\n",
    "        return 42\n",
    "\n",
    "    def __len__(self):\n",
    "        return 0\n",
    "\n",
    "    def test(self):\n",
    "        print('test', self)\n",
    "\n",
    "    field = 'field'\n",
    "\n",
    "\n",
    "a = A()\n",
    "a.name = 'name'\n",
    "\n",
    "print('__dict__', getattr(a, \"__dict__\"), end='\\n\\n')\n",
    "print('a.name', a.name, end='\\n\\n')\n",
    "print('a.field', a.field, end='\\n\\n')\n",
    "print('a.random', a.random, end='\\n\\n')\n",
    "print('a.__len__', a.__len__, end='\\n\\n')\n",
    "print('len(a)', len(a), end='\\n\\n')\n",
    "print('type(a)...', type(a).__dict__['test'](a), end='\\n\\n')\n",
    "print('A.field', A.field, end='\\n\\n')\n"
   ]
  },
  {
   "cell_type": "code",
   "execution_count": 5,
   "metadata": {},
   "outputs": [
    {
     "name": "stdout",
     "output_type": "stream",
     "text": [
      "__getattribute__\n"
     ]
    },
    {
     "ename": "TypeError",
     "evalue": "'int' object is not callable",
     "output_type": "error",
     "traceback": [
      "\u001b[1;31m---------------------------------------------------------------------------\u001b[0m",
      "\u001b[1;31mTypeError\u001b[0m                                 Traceback (most recent call last)",
      "\u001b[1;32m<ipython-input-5-1b18546e9402>\u001b[0m in \u001b[0;36m<module>\u001b[1;34m()\u001b[0m\n\u001b[1;32m----> 1\u001b[1;33m \u001b[0ma\u001b[0m\u001b[1;33m.\u001b[0m\u001b[0mtest\u001b[0m\u001b[1;33m(\u001b[0m\u001b[1;33m)\u001b[0m\u001b[1;33m\u001b[0m\u001b[0m\n\u001b[0m",
      "\u001b[1;31mTypeError\u001b[0m: 'int' object is not callable"
     ]
    }
   ],
   "source": [
    "a.test()"
   ]
  },
  {
   "cell_type": "markdown",
   "metadata": {},
   "source": [
    "Переопределяя `__setattr__`, рискуем не увидеть наши добавляемые атрибуты объекта в `__dict__`"
   ]
  },
  {
   "cell_type": "code",
   "execution_count": 12,
   "metadata": {},
   "outputs": [
    {
     "name": "stdout",
     "output_type": "stream",
     "text": [
      "__setattr__\n",
      "__setattr__\n",
      "a.__dict__ {}\n",
      "\n",
      "A.field new\n",
      "\n"
     ]
    }
   ],
   "source": [
    "class A:\n",
    "    def __setattr__(self, key, value):\n",
    "        print('__setattr__')\n",
    "\n",
    "    field = 'field'\n",
    "\n",
    "\n",
    "a = A()\n",
    "a.field = 1\n",
    "a.a = 1\n",
    "print('a.__dict__', a.__dict__, end='\\n\\n')\n",
    "A.field = 'new'\n",
    "print('A.field', A.field, end='\\n\\n')"
   ]
  },
  {
   "cell_type": "code",
   "execution_count": 14,
   "metadata": {},
   "outputs": [
    {
     "data": {
      "text/plain": [
       "mappingproxy({'__module__': '__main__',\n",
       "              '__setattr__': <function __main__.A.__setattr__(self, key, value)>,\n",
       "              'field': 'new',\n",
       "              '__dict__': <attribute '__dict__' of 'A' objects>,\n",
       "              '__weakref__': <attribute '__weakref__' of 'A' objects>,\n",
       "              '__doc__': None})"
      ]
     },
     "execution_count": 14,
     "metadata": {},
     "output_type": "execute_result"
    }
   ],
   "source": [
    "A.__dict__"
   ]
  },
  {
   "cell_type": "code",
   "execution_count": 13,
   "metadata": {},
   "outputs": [
    {
     "data": {
      "text/plain": [
       "['__class__',\n",
       " '__delattr__',\n",
       " '__dict__',\n",
       " '__dir__',\n",
       " '__doc__',\n",
       " '__eq__',\n",
       " '__format__',\n",
       " '__ge__',\n",
       " '__getattribute__',\n",
       " '__gt__',\n",
       " '__hash__',\n",
       " '__init__',\n",
       " '__init_subclass__',\n",
       " '__le__',\n",
       " '__lt__',\n",
       " '__module__',\n",
       " '__ne__',\n",
       " '__new__',\n",
       " '__reduce__',\n",
       " '__reduce_ex__',\n",
       " '__repr__',\n",
       " '__setattr__',\n",
       " '__sizeof__',\n",
       " '__str__',\n",
       " '__subclasshook__',\n",
       " '__weakref__',\n",
       " 'field']"
      ]
     },
     "execution_count": 13,
     "metadata": {},
     "output_type": "execute_result"
    }
   ],
   "source": [
    "dir(a)"
   ]
  },
  {
   "cell_type": "code",
   "execution_count": 9,
   "metadata": {},
   "outputs": [
    {
     "data": {
      "text/plain": [
       "1"
      ]
     },
     "execution_count": 9,
     "metadata": {},
     "output_type": "execute_result"
    }
   ],
   "source": [
    "a.a"
   ]
  },
  {
   "cell_type": "markdown",
   "metadata": {},
   "source": [
    "А таким образом можем разрешить нашему объекту возвращать только те атрибуты, название которых начинается на слово test. Теоретически, используя этот прием, можно реализовать истинно приватные атрибуты, но зачем?"
   ]
  },
  {
   "cell_type": "code",
   "execution_count": 15,
   "metadata": {},
   "outputs": [
    {
     "name": "stdout",
     "output_type": "stream",
     "text": [
      "a.__dict__ {'test_name': 1, 'name': 1}\n",
      "a.test_name 1\n"
     ]
    },
    {
     "ename": "AttributeError",
     "evalue": "",
     "output_type": "error",
     "traceback": [
      "\u001b[1;31m---------------------------------------------------------------------------\u001b[0m",
      "\u001b[1;31mAttributeError\u001b[0m                            Traceback (most recent call last)",
      "\u001b[1;32m<ipython-input-15-d32120505f02>\u001b[0m in \u001b[0;36m<module>\u001b[1;34m()\u001b[0m\n\u001b[0;32m     12\u001b[0m \u001b[0mprint\u001b[0m\u001b[1;33m(\u001b[0m\u001b[1;34m'a.__dict__'\u001b[0m\u001b[1;33m,\u001b[0m \u001b[0ma\u001b[0m\u001b[1;33m.\u001b[0m\u001b[0m__dict__\u001b[0m\u001b[1;33m)\u001b[0m\u001b[1;33m\u001b[0m\u001b[0m\n\u001b[0;32m     13\u001b[0m \u001b[0mprint\u001b[0m\u001b[1;33m(\u001b[0m\u001b[1;34m'a.test_name'\u001b[0m\u001b[1;33m,\u001b[0m \u001b[0ma\u001b[0m\u001b[1;33m.\u001b[0m\u001b[0mtest_name\u001b[0m\u001b[1;33m)\u001b[0m\u001b[1;33m\u001b[0m\u001b[0m\n\u001b[1;32m---> 14\u001b[1;33m \u001b[0mprint\u001b[0m\u001b[1;33m(\u001b[0m\u001b[1;34m'a.name'\u001b[0m\u001b[1;33m,\u001b[0m \u001b[0ma\u001b[0m\u001b[1;33m.\u001b[0m\u001b[0mname\u001b[0m\u001b[1;33m)\u001b[0m\u001b[1;33m\u001b[0m\u001b[0m\n\u001b[0m",
      "\u001b[1;32m<ipython-input-15-d32120505f02>\u001b[0m in \u001b[0;36m__getattribute__\u001b[1;34m(self, item)\u001b[0m\n\u001b[0;32m      4\u001b[0m             \u001b[1;32mreturn\u001b[0m \u001b[0msuper\u001b[0m\u001b[1;33m(\u001b[0m\u001b[1;33m)\u001b[0m\u001b[1;33m.\u001b[0m\u001b[0m__getattribute__\u001b[0m\u001b[1;33m(\u001b[0m\u001b[0mitem\u001b[0m\u001b[1;33m)\u001b[0m\u001b[1;33m\u001b[0m\u001b[0m\n\u001b[0;32m      5\u001b[0m         \u001b[1;32melse\u001b[0m\u001b[1;33m:\u001b[0m\u001b[1;33m\u001b[0m\u001b[0m\n\u001b[1;32m----> 6\u001b[1;33m             \u001b[1;32mraise\u001b[0m \u001b[0mAttributeError\u001b[0m\u001b[1;33m\u001b[0m\u001b[0m\n\u001b[0m\u001b[0;32m      7\u001b[0m \u001b[1;33m\u001b[0m\u001b[0m\n\u001b[0;32m      8\u001b[0m \u001b[1;33m\u001b[0m\u001b[0m\n",
      "\u001b[1;31mAttributeError\u001b[0m: "
     ]
    }
   ],
   "source": [
    "class A:\n",
    "    def __getattribute__(self, item):\n",
    "        if 'test' in item or '__dict__' == item:\n",
    "            return super().__getattribute__(item)\n",
    "        else:\n",
    "            raise AttributeError\n",
    "\n",
    "\n",
    "a = A()\n",
    "a.test_name = 1\n",
    "a.name = 1\n",
    "print('a.__dict__', a.__dict__)\n",
    "print('a.test_name', a.test_name)\n",
    "print('a.name', a.name)"
   ]
  },
  {
   "cell_type": "code",
   "execution_count": null,
   "metadata": {},
   "outputs": [],
   "source": [
    "class A:\n",
    "    def __init__(self):\n",
    "        self.obj_field = 4\n",
    "    \n",
    "    class_field = 5\n",
    "    \n",
    "    data_descr = DataDescriptor()\n",
    "    nondata_descr = NonDataDescriptor()\n",
    "    \n",
    "a = A()\n",
    "\n",
    "a.liunyiuynliun"
   ]
  },
  {
   "cell_type": "markdown",
   "metadata": {},
   "source": [
    "## Общий алгоритм получения атрибута\n",
    "\n",
    "Чтобы получить значение атрибута attrname:\n",
    "- Если определён метод `a.__class__.__getattribute__()`, то вызывается он и возвращается полученное значение.\n",
    "- Если attrname это специальный (определённый python-ом) атрибут, такой как `__class__` или `__doc__`, возвращается его значение.\n",
    "- Проверяется `a.__class__.__dict__` на наличие записи с attrname. Если она существует и значением является data дескриптор, возвращается результат вызова метода `__get__()` дескриптора. Также проверяются все базовые классы.\n",
    "- Если в `a.__dict__` существует запись с именем attrname, возвращается значение этой записи.\n",
    "- Проверяется `a.__class__.__dict__`, если в нём существует запись с attrname и это non-data дескриптор, возвращается результат `__get__()` дескриптора, если запись существует и там не дескриптор, возвращается значение записи. Также обыскиваются базовые классы.\n",
    "- Если существует метод `a.__class__.__getattr__()`, он вызывается и возвращается его результат. Если такого метода нет — выкидывается `AttributeError`.\n",
    "\n",
    "## Общий алгоритм назначения атрибута\n",
    "\n",
    "Чтобы установить значение value атрибута attrname экземпляра a:\n",
    "- Если существует метод `a.__class__.__setattr__()`, он вызывается.\n",
    "- Проверяется `a.__class__.__dict__`, если в нём есть запись с attrname и это дескриптор данных — вызывается метод `__set__()` дескриптора. Также проверяются базовые классы.\n",
    "- `a.__dict__` добавляется запись value с ключом attrname."
   ]
  },
  {
   "cell_type": "markdown",
   "metadata": {},
   "source": [
    "## Задание\n",
    "\n",
    "Библиотека pandas предназначена для работы с табличными данными. В ней есть сущности DataFrame (по сути, сама таблица) и Series (колонка либо строка таблицы). У колонок внутри таблицы есть названия, притом получить колонку можно двумя способами:\n",
    "\n",
    "- `dataframe.colname`\n",
    "- `dataframe['colname']`\n",
    "\n",
    "Задание: реализовать структуру данных ключ-значение, где и присваивание, и получение элементов можно будет производить обоими этими способами."
   ]
  }
 ],
 "metadata": {
  "kernelspec": {
   "display_name": "Python 3",
   "language": "python",
   "name": "python3"
  },
  "language_info": {
   "codemirror_mode": {
    "name": "ipython",
    "version": 3
   },
   "file_extension": ".py",
   "mimetype": "text/x-python",
   "name": "python",
   "nbconvert_exporter": "python",
   "pygments_lexer": "ipython3",
   "version": "3.6.5"
  }
 },
 "nbformat": 4,
 "nbformat_minor": 2
}
