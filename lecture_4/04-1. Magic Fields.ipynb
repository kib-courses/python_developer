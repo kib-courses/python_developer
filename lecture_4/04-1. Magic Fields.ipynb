{
 "cells": [
  {
   "cell_type": "markdown",
   "metadata": {},
   "source": [
    "# Магические атрибуты вызываемых объектов\n",
    "\n",
    "Здесь и далее использованы материалы: https://github.com/alexopryshko/advancedpython/\n",
    "\n",
    "В первую очередь, это, конечно, метод `__call__`:"
   ]
  },
  {
   "cell_type": "code",
   "execution_count": 1,
   "metadata": {},
   "outputs": [
    {
     "name": "stdout",
     "output_type": "stream",
     "text": [
      "Функция вызвана с параметрами:\n",
      "a = 35\n",
      "b = 5\n",
      "Без args\n",
      "kwargs: {}\n",
      "\n",
      "Функция вызвана с параметрами:\n",
      "a = 35\n",
      "b = 5\n",
      "Без args\n",
      "kwargs: {}\n"
     ]
    }
   ],
   "source": [
    "def foo(a, b=5, *args, **kwargs):\n",
    "    \"\"\"Здесь можем написать документацию для функции\"\"\"\n",
    "    print(\"Функция вызвана с параметрами:\")\n",
    "    print(\"a =\", a)\n",
    "    print(\"b =\", b)\n",
    "    for i, arg in enumerate(args):\n",
    "        print(f\"arg[{i}] =\", arg)\n",
    "    else:\n",
    "        print(\"Без args\")\n",
    "    print(\"kwargs:\", kwargs)\n",
    "    \n",
    "foo.__call__(35)\n",
    "print()\n",
    "foo(35)\n",
    "\n",
    "\n",
    "class foo:\n",
    "    def __call__(self, a, b=5, *args, **kwargs):"
   ]
  },
  {
   "cell_type": "code",
   "execution_count": 2,
   "metadata": {},
   "outputs": [
    {
     "ename": "TypeError",
     "evalue": "'int' object is not callable",
     "output_type": "error",
     "traceback": [
      "\u001b[1;31m---------------------------------------------------------------------------\u001b[0m",
      "\u001b[1;31mTypeError\u001b[0m                                 Traceback (most recent call last)",
      "\u001b[1;32m<ipython-input-2-e13cb6bb1731>\u001b[0m in \u001b[0;36m<module>\u001b[1;34m()\u001b[0m\n\u001b[0;32m      1\u001b[0m \u001b[0ma\u001b[0m \u001b[1;33m=\u001b[0m \u001b[1;36m1\u001b[0m\u001b[1;33m\u001b[0m\u001b[0m\n\u001b[1;32m----> 2\u001b[1;33m \u001b[0ma\u001b[0m\u001b[1;33m(\u001b[0m\u001b[1;33m)\u001b[0m\u001b[1;33m\u001b[0m\u001b[0m\n\u001b[0m",
      "\u001b[1;31mTypeError\u001b[0m: 'int' object is not callable"
     ]
    }
   ],
   "source": [
    "a = 1\n",
    "a.__call__()"
   ]
  },
  {
   "cell_type": "code",
   "execution_count": 4,
   "metadata": {},
   "outputs": [
    {
     "name": "stdout",
     "output_type": "stream",
     "text": [
      "Функция вызвана с параметрами:\n",
      "a = 46\n",
      "b = 5\n",
      "Без args\n",
      "kwargs: {}\n"
     ]
    }
   ],
   "source": [
    "foo.__call__.__call__.__call__.__call__.__call__.__call__(46)"
   ]
  },
  {
   "cell_type": "markdown",
   "metadata": {},
   "source": [
    "## Поля вызываемых объектов\n",
    "\n",
    "Информация о докстринге, названии функции и модуле:\n",
    "\n",
    "- `__name__` - имя функции\n",
    "- `__qualname__` - полное имя функции\n",
    "- `__doc__` - docstring\n",
    "- `__module__` - имя модуля, в котором определена функция"
   ]
  },
  {
   "cell_type": "code",
   "execution_count": 5,
   "metadata": {},
   "outputs": [
    {
     "name": "stdout",
     "output_type": "stream",
     "text": [
      "foo\n",
      "foo\n",
      "Здесь можем написать документацию для функции\n",
      "__main__\n"
     ]
    }
   ],
   "source": [
    "print(foo.__name__)\n",
    "print(foo.__qualname__)\n",
    "print(foo.__doc__)\n",
    "print(foo.__module__)"
   ]
  },
  {
   "cell_type": "code",
   "execution_count": 6,
   "metadata": {},
   "outputs": [
    {
     "data": {
      "text/plain": [
       "'wrapper.<locals>.inner_foo'"
      ]
     },
     "execution_count": 6,
     "metadata": {},
     "output_type": "execute_result"
    }
   ],
   "source": [
    "def wrapper():\n",
    "    def inner_foo():\n",
    "        pass\n",
    "    return inner_foo\n",
    "\n",
    "wrapper().__qualname__"
   ]
  },
  {
   "cell_type": "markdown",
   "metadata": {},
   "source": [
    "Информация о внутренностях функции: аргументы по умолчанию, глобальные переменные, видимые функции, код.\n",
    "\n",
    "- `__dict__` - атрибуты объекта-функции\n",
    "- `__defaults__` - кортеж значений по умолчанию\n",
    "- `__code__` - специальный объект code с кодом функции\n",
    "- `__globals__` - глобальные переменные, доступные функции"
   ]
  },
  {
   "cell_type": "code",
   "execution_count": 7,
   "metadata": {},
   "outputs": [
    {
     "name": "stdout",
     "output_type": "stream",
     "text": [
      "{}\n",
      "{'field': 'hi'}\n"
     ]
    }
   ],
   "source": [
    "print(foo.__dict__)\n",
    "foo.field = \"hi\"\n",
    "print(foo.__dict__)"
   ]
  },
  {
   "cell_type": "code",
   "execution_count": 8,
   "metadata": {
    "scrolled": true
   },
   "outputs": [
    {
     "name": "stdout",
     "output_type": "stream",
     "text": [
      "(5,)\n",
      "\n",
      "<code object foo at 0x0000024F76EF8B70, file \"<ipython-input-1-2282872ae5a3>\", line 1>\n",
      "\n",
      "{'__name__': '__main__', '__doc__': 'Automatically created module for IPython interactive environment', '__package__': None, '__loader__': None, '__spec__': None, '__builtin__': <module 'builtins' (built-in)>, '__builtins__': <module 'builtins' (built-in)>, '_ih': ['', 'def foo(a, b=5, *args, **kwargs):\\n    \"\"\"Здесь можем написать документацию для функции\"\"\"\\n    print(\"Функция вызвана с параметрами:\")\\n    print(\"a =\", a)\\n    print(\"b =\", b)\\n    for i, arg in enumerate(args):\\n        print(f\"arg[{i}] =\", arg)\\n    else:\\n        print(\"Без args\")\\n    print(\"kwargs:\", kwargs)\\n    \\nfoo.__call__(35)\\nprint()\\nfoo(35)', 'a = 1\\na()', 'foo.__call__.__call__.__call__.__call__.__call__(46)', 'foo.__call__.__call__.__call__.__call__.__call__.__call__(46)', 'print(foo.__name__)\\nprint(foo.__qualname__)\\nprint(foo.__doc__)\\nprint(foo.__module__)', 'def wrapper():\\n    def inner_foo():\\n        pass\\n    return inner_foo\\n\\nwrapper().__qualname__', 'print(foo.__dict__)\\nfoo.field = \"hi\"\\nprint(foo.__dict__)', \"print(foo.__defaults__, end='\\\\n\\\\n')\\nprint(foo.__code__, end='\\\\n\\\\n')\\nprint(foo.__globals__, end='\\\\n\\\\n')\"], '_oh': {6: 'wrapper.<locals>.inner_foo'}, '_dh': ['C:\\\\Users\\\\Иван\\\\Documents\\\\python_developer\\\\lecture_4'], 'In': ['', 'def foo(a, b=5, *args, **kwargs):\\n    \"\"\"Здесь можем написать документацию для функции\"\"\"\\n    print(\"Функция вызвана с параметрами:\")\\n    print(\"a =\", a)\\n    print(\"b =\", b)\\n    for i, arg in enumerate(args):\\n        print(f\"arg[{i}] =\", arg)\\n    else:\\n        print(\"Без args\")\\n    print(\"kwargs:\", kwargs)\\n    \\nfoo.__call__(35)\\nprint()\\nfoo(35)', 'a = 1\\na()', 'foo.__call__.__call__.__call__.__call__.__call__(46)', 'foo.__call__.__call__.__call__.__call__.__call__.__call__(46)', 'print(foo.__name__)\\nprint(foo.__qualname__)\\nprint(foo.__doc__)\\nprint(foo.__module__)', 'def wrapper():\\n    def inner_foo():\\n        pass\\n    return inner_foo\\n\\nwrapper().__qualname__', 'print(foo.__dict__)\\nfoo.field = \"hi\"\\nprint(foo.__dict__)', \"print(foo.__defaults__, end='\\\\n\\\\n')\\nprint(foo.__code__, end='\\\\n\\\\n')\\nprint(foo.__globals__, end='\\\\n\\\\n')\"], 'Out': {6: 'wrapper.<locals>.inner_foo'}, 'get_ipython': <bound method InteractiveShell.get_ipython of <ipykernel.zmqshell.ZMQInteractiveShell object at 0x0000024F76E87710>>, 'exit': <IPython.core.autocall.ZMQExitAutocall object at 0x0000024F76EE4B70>, 'quit': <IPython.core.autocall.ZMQExitAutocall object at 0x0000024F76EE4B70>, '_': 'wrapper.<locals>.inner_foo', '__': '', '___': '', '_i': 'print(foo.__dict__)\\nfoo.field = \"hi\"\\nprint(foo.__dict__)', '_ii': 'def wrapper():\\n    def inner_foo():\\n        pass\\n    return inner_foo\\n\\nwrapper().__qualname__', '_iii': 'print(foo.__name__)\\nprint(foo.__qualname__)\\nprint(foo.__doc__)\\nprint(foo.__module__)', '_i1': 'def foo(a, b=5, *args, **kwargs):\\n    \"\"\"Здесь можем написать документацию для функции\"\"\"\\n    print(\"Функция вызвана с параметрами:\")\\n    print(\"a =\", a)\\n    print(\"b =\", b)\\n    for i, arg in enumerate(args):\\n        print(f\"arg[{i}] =\", arg)\\n    else:\\n        print(\"Без args\")\\n    print(\"kwargs:\", kwargs)\\n    \\nfoo.__call__(35)\\nprint()\\nfoo(35)', 'foo': <function foo at 0x0000024F76F37BF8>, '_i2': 'a = 1\\na()', 'a': 1, '_i3': 'foo.__call__.__call__.__call__.__call__.__call__(46)', '_i4': 'foo.__call__.__call__.__call__.__call__.__call__.__call__(46)', '_i5': 'print(foo.__name__)\\nprint(foo.__qualname__)\\nprint(foo.__doc__)\\nprint(foo.__module__)', '_i6': 'def wrapper():\\n    def inner_foo():\\n        pass\\n    return inner_foo\\n\\nwrapper().__qualname__', 'wrapper': <function wrapper at 0x0000024F76F997B8>, '_6': 'wrapper.<locals>.inner_foo', '_i7': 'print(foo.__dict__)\\nfoo.field = \"hi\"\\nprint(foo.__dict__)', '_i8': \"print(foo.__defaults__, end='\\\\n\\\\n')\\nprint(foo.__code__, end='\\\\n\\\\n')\\nprint(foo.__globals__, end='\\\\n\\\\n')\"}\n",
      "\n"
     ]
    }
   ],
   "source": [
    "print(foo.__defaults__, end='\\n\\n')\n",
    "print(foo.__code__, end='\\n\\n')\n",
    "print(foo.__globals__, end='\\n\\n')"
   ]
  },
  {
   "cell_type": "markdown",
   "metadata": {},
   "source": [
    "Сигнатуру вызываемых объектов можно указывать еще парой способов. Например, аргументы, которые идут после отдельно стоящей `*`, обязательно должны быть именоваными при вызове функции. Также, начиная с Python 3.6, можно указывать аннотации типов аргументов и возвращаемого значения. Ещё пара магических атрибутов:\n",
    "\n",
    "- `__kwdefaults__` - словарь значений по умолчанию обязательно именованных аргументов\n",
    "- `__annotations__` - словарь с аннотациями аргументов и результата функции"
   ]
  },
  {
   "cell_type": "code",
   "execution_count": 9,
   "metadata": {},
   "outputs": [
    {
     "name": "stdout",
     "output_type": "stream",
     "text": [
      "{'a': 1, 'b': 'abc'}\n",
      "{'a': <class 'int'>, 'b': <class 'str'>, 'return': None}\n",
      "{}\n"
     ]
    }
   ],
   "source": [
    "def bar(*, a: int = 1, b: str = \"abc\") -> None:\n",
    "    pass\n",
    "\n",
    "print(bar.__kwdefaults__)\n",
    "print(bar.__annotations__)\n",
    "print(foo.__annotations__)"
   ]
  },
  {
   "cell_type": "markdown",
   "metadata": {},
   "source": [
    "### Замыкания\n",
    "\n",
    "__Замыкание__ (closure) в программировании — это функция, в теле которой присутствуют ссылки на переменные, объявленные вне тела этой функции в окружающем коде и не являющиеся ее параметрами.\n",
    "\n",
    "В следующем примере из внутренней функции мы обращаемся к переменным, объявленным во внешней. При этом даже после удаления внешней функции значения используемых переменных останутся сохраненными для внутренней функции. Доступ к этим значениям можно получить через поле `__closure__`."
   ]
  },
  {
   "cell_type": "code",
   "execution_count": 10,
   "metadata": {},
   "outputs": [
    {
     "name": "stdout",
     "output_type": "stream",
     "text": [
      "5 4\n",
      "Closures contents: [4, 5]\n"
     ]
    }
   ],
   "source": [
    "def outer():\n",
    "    g = 5\n",
    "    b = 4\n",
    "    def inner():\n",
    "        print(g, b)\n",
    "    return inner\n",
    "    \n",
    "f = outer()\n",
    "del outer\n",
    "f()\n",
    "print(\"Closures contents:\", [cell.cell_contents for cell in f.__closure__])"
   ]
  },
  {
   "cell_type": "markdown",
   "metadata": {},
   "source": [
    "# Магические поля методов классов\n",
    "\n",
    "- `__self__` - объект класса\n",
    "- `__func__` - объект функции метода, объявленного в классе"
   ]
  },
  {
   "cell_type": "code",
   "execution_count": 11,
   "metadata": {},
   "outputs": [
    {
     "name": "stdout",
     "output_type": "stream",
     "text": [
      "True\n",
      "method\n"
     ]
    }
   ],
   "source": [
    "class A:\n",
    "    some_field = 25\n",
    "    \n",
    "    \"A class\"\n",
    "    def func(self):\n",
    "        print(\"method\")\n",
    "        \n",
    "a = A()\n",
    "print(a.func.__self__ is a)\n",
    "a.func.__func__(a)\n",
    "A.func(a)"
   ]
  },
  {
   "cell_type": "markdown",
   "metadata": {},
   "source": [
    "# Магические поля классов\n",
    "\n",
    "- `__name__` - имя класса\n",
    "- `__module__` - модуль, в котором объявлен класс\n",
    "- `__qualname__` - fully qualified имя\n",
    "- `__doc__` - докстринг\n",
    "- `__dict__` - namespace класса"
   ]
  },
  {
   "cell_type": "code",
   "execution_count": 12,
   "metadata": {},
   "outputs": [
    {
     "name": "stdout",
     "output_type": "stream",
     "text": [
      "name: A\n",
      "qualname: A\n",
      "module: __main__\n",
      "doc: None\n",
      "mappingproxy({'__dict__': <attribute '__dict__' of 'A' objects>,\n",
      "              '__doc__': None,\n",
      "              '__module__': '__main__',\n",
      "              '__weakref__': <attribute '__weakref__' of 'A' objects>,\n",
      "              'func': <function A.func at 0x0000024F76F99D08>,\n",
      "              'some_field': 25})\n"
     ]
    }
   ],
   "source": [
    "from pprint import pprint\n",
    "\n",
    "print(\"name:\", A.__name__)\n",
    "print(\"qualname:\", A.__qualname__)\n",
    "print(\"module:\", A.__module__)\n",
    "print(\"doc:\", A.__doc__)\n",
    "pprint(A.__dict__)"
   ]
  },
  {
   "cell_type": "markdown",
   "metadata": {},
   "source": [
    "## Магические поля, содержащие информацию о наследовании\n",
    "\n",
    "- `__bases__` - базовые классы\n",
    "- `__base__` - базовый класс, который указан первым по\n",
    "порядку\n",
    "- `__mro__` - список классов, упорядоченный по вызову\n",
    "super функции"
   ]
  },
  {
   "cell_type": "code",
   "execution_count": 13,
   "metadata": {},
   "outputs": [
    {
     "name": "stdout",
     "output_type": "stream",
     "text": [
      "<class '__main__.B'>\n",
      "(<class '__main__.B'>, <class '__main__.C'>)\n",
      "(<class '__main__.D'>, <class '__main__.B'>, <class '__main__.A'>, <class '__main__.C'>, <class 'object'>)\n"
     ]
    }
   ],
   "source": [
    "class A:\n",
    "    pass\n",
    "\n",
    "\n",
    "class B(A):\n",
    "    pass\n",
    "\n",
    "\n",
    "class C:\n",
    "    pass\n",
    "\n",
    "\n",
    "class D(B, C):\n",
    "    pass\n",
    "\n",
    "\n",
    "print(D.__base__)\n",
    "print(D.__bases__)\n",
    "print(D.__mro__)"
   ]
  },
  {
   "cell_type": "markdown",
   "metadata": {},
   "source": [
    "## Поля \\__dict\\__ и \\__slots\\__\n",
    "\n",
    "https://otus.ru/nest/post/664/\n",
    "\n",
    "В обычном случае для хранения атрибутов объекта используется словарь `.__dict__`. Посмотрим, как в нём появляются объекты. При этом нужно понимать, что класс - это объект типа type, и поэтому у класса тоже есть свой \\__dict__"
   ]
  },
  {
   "cell_type": "code",
   "execution_count": 14,
   "metadata": {},
   "outputs": [
    {
     "name": "stdout",
     "output_type": "stream",
     "text": [
      "a.__dict__ {'a': 'a'}\n",
      "A.__dict__ {'__module__': '__main__', 'a_class': 'a_class', '__init__': <function A.__init__ at 0x0000024F76F99950>, '__dict__': <attribute '__dict__' of 'A' objects>, '__weakref__': <attribute '__weakref__' of 'A' objects>, '__doc__': None}\n",
      "\n",
      "b.__dict__ {'b': 'b', 'a': 'a'}\n",
      "B.__dict__ {'__module__': '__main__', 'b_class': 'b_class', '__init__': <function B.__init__ at 0x0000024F76F99AE8>, '__doc__': None}\n"
     ]
    }
   ],
   "source": [
    "class A:\n",
    "    a_class = 'a_class'\n",
    "\n",
    "    def __init__(self):\n",
    "        self.a = 'a'\n",
    "\n",
    "\n",
    "class B(A):\n",
    "    b_class = 'b_class'\n",
    "\n",
    "    def __init__(self):\n",
    "        self.b = 'b'\n",
    "        super().__init__()\n",
    "\n",
    "\n",
    "a = A()\n",
    "b = B()\n",
    "\n",
    "print('a.__dict__', a.__dict__)\n",
    "print('A.__dict__', A.__dict__)\n",
    "print()\n",
    "print('b.__dict__', b.__dict__)\n",
    "print('B.__dict__', B.__dict__)"
   ]
  },
  {
   "cell_type": "markdown",
   "metadata": {},
   "source": [
    "Наследование работает:"
   ]
  },
  {
   "cell_type": "code",
   "execution_count": 15,
   "metadata": {},
   "outputs": [
    {
     "name": "stdout",
     "output_type": "stream",
     "text": [
      "b.a_class a_class\n",
      "b.b b\n"
     ]
    }
   ],
   "source": [
    "print('b.a_class', b.a_class)\n",
    "print('b.b', b.b)"
   ]
  },
  {
   "cell_type": "markdown",
   "metadata": {},
   "source": [
    "Попробуем изменить значения полей объектов:"
   ]
  },
  {
   "cell_type": "code",
   "execution_count": 16,
   "metadata": {},
   "outputs": [
    {
     "name": "stdout",
     "output_type": "stream",
     "text": [
      "b.__dict__ {'b': 'b', 'a': 2, 'b_class': 1}\n",
      "b1.__dict__ {'b': 'b', 'a': 1}\n",
      "A.__dict__ {'__module__': '__main__', 'a_class': 'a_class', '__init__': <function A.__init__ at 0x0000024F76F99950>, '__dict__': <attribute '__dict__' of 'A' objects>, '__weakref__': <attribute '__weakref__' of 'A' objects>, '__doc__': None}\n",
      "B.__dict__ {'__module__': '__main__', 'b_class': 'b_class', '__init__': <function B.__init__ at 0x0000024F76F99AE8>, '__doc__': None}\n"
     ]
    }
   ],
   "source": [
    "b1 = B()\n",
    "b1.a = 1\n",
    "b.a = 2\n",
    "b.b_class = 1\n",
    "print('b.__dict__', b.__dict__)\n",
    "print('b1.__dict__', b1.__dict__)\n",
    "print('A.__dict__', A.__dict__)\n",
    "print('B.__dict__', B.__dict__)"
   ]
  },
  {
   "cell_type": "markdown",
   "metadata": {},
   "source": [
    "И значения полей классов:"
   ]
  },
  {
   "cell_type": "code",
   "execution_count": 17,
   "metadata": {},
   "outputs": [
    {
     "name": "stdout",
     "output_type": "stream",
     "text": [
      "b.a_class new_a_class\n",
      "b1.a_class new_a_class\n",
      "a.a_class a_class\n",
      "A.__dict__ {'__module__': '__main__', 'a_class': 'a_class', '__init__': <function A.__init__ at 0x0000024F76F99950>, '__dict__': <attribute '__dict__' of 'A' objects>, '__weakref__': <attribute '__weakref__' of 'A' objects>, '__doc__': None}\n",
      "B.__dict__ {'__module__': '__main__', 'b_class': 'b_class', '__init__': <function B.__init__ at 0x0000024F76F99AE8>, '__doc__': None, 'a_class': 'new_a_class'}\n",
      "\n",
      "b.a_class new_a_class\n",
      "a.a_class new_new_a_class\n",
      "a1.a_class new_new_a_class\n",
      "A.__dict__ {'__module__': '__main__', 'a_class': 'new_new_a_class', '__init__': <function A.__init__ at 0x0000024F76F99950>, '__dict__': <attribute '__dict__' of 'A' objects>, '__weakref__': <attribute '__weakref__' of 'A' objects>, '__doc__': None}\n"
     ]
    }
   ],
   "source": [
    "B.a_class = 'new_a_class'\n",
    "print('b.a_class', b.a_class)\n",
    "print('b1.a_class', b1.a_class)\n",
    "print('a.a_class', a.a_class)\n",
    "print('A.__dict__', A.__dict__)\n",
    "print('B.__dict__', B.__dict__)\n",
    "print()\n",
    "\n",
    "A.a_class = 'new_new_a_class'\n",
    "print('b.a_class', b.a_class)\n",
    "a1 = A()\n",
    "print('a.a_class', a.a_class)\n",
    "print('a1.a_class', a1.a_class)\n",
    "print('A.__dict__', A.__dict__)"
   ]
  },
  {
   "cell_type": "markdown",
   "metadata": {},
   "source": [
    "Поскольку Python - динамически типизированный язык и, к тому же, добавлять атрибуты объектам классов можно на лету, хранение атрибутов занимает достаточно много памяти: нужно хранить словарь атрибутов и все его элементы отдельно и с запасом памяти для новых атрибутов. Для того, чтобы минимизировать память, мы можем \"зафиксировать\" атрибуты класса. Для этого используется магическое поле `__slots__`. При этом пропадают поля `__dict__` и `__weakref__`. Давайте сравним поведение обычного класса и класса с полем `__slots__`"
   ]
  },
  {
   "cell_type": "code",
   "execution_count": 18,
   "metadata": {},
   "outputs": [
    {
     "name": "stdout",
     "output_type": "stream",
     "text": [
      "foo: 5\n",
      "one more attr\n"
     ]
    },
    {
     "data": {
      "text/plain": [
       "{'foo': 5, 'another_attr': 'one more attr'}"
      ]
     },
     "execution_count": 18,
     "metadata": {},
     "output_type": "execute_result"
    }
   ],
   "source": [
    "class RegularClass:\n",
    "    pass\n",
    "\n",
    "\n",
    "obj = RegularClass()\n",
    "obj.foo = 5\n",
    "print(\"foo:\", obj.foo)\n",
    "\n",
    "obj.another_attr = \"one more attr\"\n",
    "print(obj.another_attr)\n",
    "obj.__dict__"
   ]
  },
  {
   "cell_type": "code",
   "execution_count": 19,
   "metadata": {},
   "outputs": [
    {
     "name": "stdout",
     "output_type": "stream",
     "text": [
      "5\n"
     ]
    },
    {
     "ename": "AttributeError",
     "evalue": "'SlotsClass' object has no attribute 'another_attr'",
     "output_type": "error",
     "traceback": [
      "\u001b[1;31m---------------------------------------------------------------------------\u001b[0m",
      "\u001b[1;31mAttributeError\u001b[0m                            Traceback (most recent call last)",
      "\u001b[1;32m<ipython-input-19-369b2bf1ce1b>\u001b[0m in \u001b[0;36m<module>\u001b[1;34m()\u001b[0m\n\u001b[0;32m      7\u001b[0m \u001b[0mprint\u001b[0m\u001b[1;33m(\u001b[0m\u001b[0mobj\u001b[0m\u001b[1;33m.\u001b[0m\u001b[0mfoo\u001b[0m\u001b[1;33m)\u001b[0m\u001b[1;33m\u001b[0m\u001b[0m\n\u001b[0;32m      8\u001b[0m \u001b[1;33m\u001b[0m\u001b[0m\n\u001b[1;32m----> 9\u001b[1;33m \u001b[0mobj\u001b[0m\u001b[1;33m.\u001b[0m\u001b[0manother_attr\u001b[0m \u001b[1;33m=\u001b[0m \u001b[1;34m\"one more attr in slots class\"\u001b[0m\u001b[1;33m\u001b[0m\u001b[0m\n\u001b[0m",
      "\u001b[1;31mAttributeError\u001b[0m: 'SlotsClass' object has no attribute 'another_attr'"
     ]
    }
   ],
   "source": [
    "class SlotsClass:\n",
    "    __slots__ = ('foo', 'bar')\n",
    "    \n",
    "\n",
    "obj = SlotsClass()\n",
    "obj.foo = 5\n",
    "print(obj.foo)\n",
    "\n",
    "obj.another_attr = \"one more attr in slots class\""
   ]
  },
  {
   "cell_type": "code",
   "execution_count": 20,
   "metadata": {},
   "outputs": [
    {
     "ename": "AttributeError",
     "evalue": "'SlotsClass' object has no attribute '__dict__'",
     "output_type": "error",
     "traceback": [
      "\u001b[1;31m---------------------------------------------------------------------------\u001b[0m",
      "\u001b[1;31mAttributeError\u001b[0m                            Traceback (most recent call last)",
      "\u001b[1;32m<ipython-input-20-efbdfe8c5e29>\u001b[0m in \u001b[0;36m<module>\u001b[1;34m()\u001b[0m\n\u001b[1;32m----> 1\u001b[1;33m \u001b[0mobj\u001b[0m\u001b[1;33m.\u001b[0m\u001b[0m__dict__\u001b[0m\u001b[1;33m\u001b[0m\u001b[0m\n\u001b[0m",
      "\u001b[1;31mAttributeError\u001b[0m: 'SlotsClass' object has no attribute '__dict__'"
     ]
    }
   ],
   "source": [
    "obj.__dict__"
   ]
  },
  {
   "cell_type": "markdown",
   "metadata": {},
   "source": [
    "### Производительность \\_\\_slots\\_\\_\n",
    "\n",
    "Напишем небольшой тест:"
   ]
  },
  {
   "cell_type": "code",
   "execution_count": 22,
   "metadata": {},
   "outputs": [],
   "source": [
    "class Slots(object):\n",
    "    __slots__ = ('foo',)\n",
    "\n",
    "    \n",
    "class NoSlots(object):\n",
    "    pass\n",
    "\n",
    "\n",
    "def get_set_delete(obj):\n",
    "    obj.foo = 'foo'\n",
    "    obj.foo\n",
    "    del obj.foo\n",
    "\n",
    "\n",
    "def test_slots():\n",
    "    get_set_delete(Slots()) \n",
    "\n",
    "def test_noslots():\n",
    "    get_set_delete(NoSlots())"
   ]
  },
  {
   "cell_type": "markdown",
   "metadata": {},
   "source": [
    "Посмотрим на затрачиваемое время средствами Jupyter:"
   ]
  },
  {
   "cell_type": "code",
   "execution_count": 23,
   "metadata": {},
   "outputs": [
    {
     "name": "stdout",
     "output_type": "stream",
     "text": [
      "499 ns ± 71.9 ns per loop (mean ± std. dev. of 7 runs, 1000000 loops each)\n"
     ]
    }
   ],
   "source": [
    "%%timeit\n",
    "test_noslots()"
   ]
  },
  {
   "cell_type": "code",
   "execution_count": 24,
   "metadata": {},
   "outputs": [
    {
     "name": "stdout",
     "output_type": "stream",
     "text": [
      "456 ns ± 24.3 ns per loop (mean ± std. dev. of 7 runs, 1000000 loops each)\n"
     ]
    }
   ],
   "source": [
    "%%timeit\n",
    "test_slots()"
   ]
  },
  {
   "cell_type": "markdown",
   "metadata": {},
   "source": [
    "И средствами библиотеки timeit:"
   ]
  },
  {
   "cell_type": "code",
   "execution_count": 25,
   "metadata": {},
   "outputs": [
    {
     "name": "stdout",
     "output_type": "stream",
     "text": [
      "noslots: 0.43278560000000255\n",
      "slots: 0.4163301999999902\n"
     ]
    }
   ],
   "source": [
    "import timeit\n",
    "print(\"noslots:\", min(timeit.repeat(test_noslots)))\n",
    "print(\"slots:\", min(timeit.repeat(test_slots)))"
   ]
  },
  {
   "attachments": {
    "slots.jpg": {
     "image/jpeg": "[encoded data removed]"
    }
   },
   "cell_type": "markdown",
   "metadata": {},
   "source": [
    "#### Сравнение затрат по памяти\n",
    "\n",
    "https://stackoverflow.com/questions/472000/usage-of-slots\n",
    "\n",
    "![slots.jpg](attachment:slots.jpg)"
   ]
  },
  {
   "cell_type": "markdown",
   "metadata": {},
   "source": [
    "### Нюансы наследования\n",
    "\n",
    "Поле `__slots__` наследуется, но класс-наследник по умолчанию всё равно получает поле `__dict__`, т.е. является динамически изменяемым."
   ]
  },
  {
   "cell_type": "code",
   "execution_count": 26,
   "metadata": {},
   "outputs": [
    {
     "name": "stdout",
     "output_type": "stream",
     "text": [
      "slots of child: ('foo', 'bar')\n",
      "__dict__ есть, и он не пустой: {'something_new': 3}\n"
     ]
    }
   ],
   "source": [
    "class SlotsClass:\n",
    "    __slots__ = ('foo', 'bar')\n",
    "\n",
    "    \n",
    "class ChildSlotsClass(SlotsClass):\n",
    "    pass\n",
    "\n",
    "\n",
    "obj = ChildSlotsClass()\n",
    "print(\"slots of child:\", obj.__slots__)\n",
    "\n",
    "obj.foo = 5\n",
    "obj.something_new = 3\n",
    "print(\"__dict__ есть, и он не пустой:\", obj.__dict__)"
   ]
  },
  {
   "cell_type": "markdown",
   "metadata": {},
   "source": [
    "Если нужно, чтобы объект класса-наследника не был динамически изменяемым, нужно отдельно в нём прописать `__slots__`. При этом дублировать слоты родительского класса не нужно."
   ]
  },
  {
   "cell_type": "code",
   "execution_count": 27,
   "metadata": {},
   "outputs": [
    {
     "name": "stdout",
     "output_type": "stream",
     "text": [
      "foo & baz: 5 6\n"
     ]
    },
    {
     "ename": "AttributeError",
     "evalue": "'ChildSlotsClass' object has no attribute 'sth_else'",
     "output_type": "error",
     "traceback": [
      "\u001b[1;31m---------------------------------------------------------------------------\u001b[0m",
      "\u001b[1;31mAttributeError\u001b[0m                            Traceback (most recent call last)",
      "\u001b[1;32m<ipython-input-27-d2ecab0b554a>\u001b[0m in \u001b[0;36m<module>\u001b[1;34m()\u001b[0m\n\u001b[0;32m      7\u001b[0m \u001b[0mobj\u001b[0m\u001b[1;33m.\u001b[0m\u001b[0mbaz\u001b[0m \u001b[1;33m=\u001b[0m \u001b[1;36m6\u001b[0m\u001b[1;33m\u001b[0m\u001b[0m\n\u001b[0;32m      8\u001b[0m \u001b[0mprint\u001b[0m\u001b[1;33m(\u001b[0m\u001b[1;34m\"foo & baz:\"\u001b[0m\u001b[1;33m,\u001b[0m \u001b[0mobj\u001b[0m\u001b[1;33m.\u001b[0m\u001b[0mfoo\u001b[0m\u001b[1;33m,\u001b[0m \u001b[0mobj\u001b[0m\u001b[1;33m.\u001b[0m\u001b[0mbaz\u001b[0m\u001b[1;33m)\u001b[0m\u001b[1;33m\u001b[0m\u001b[0m\n\u001b[1;32m----> 9\u001b[1;33m \u001b[0mobj\u001b[0m\u001b[1;33m.\u001b[0m\u001b[0msth_else\u001b[0m \u001b[1;33m=\u001b[0m \u001b[1;34m\"fail\"\u001b[0m\u001b[1;33m\u001b[0m\u001b[0m\n\u001b[0m",
      "\u001b[1;31mAttributeError\u001b[0m: 'ChildSlotsClass' object has no attribute 'sth_else'"
     ]
    }
   ],
   "source": [
    "class ChildSlotsClass(SlotsClass):\n",
    "    __slots__ = ('baz',)\n",
    "    \n",
    "    \n",
    "obj = ChildSlotsClass()\n",
    "obj.foo = 5\n",
    "obj.baz = 6\n",
    "print(\"foo & baz:\", obj.foo, obj.baz)\n",
    "obj.sth_else = \"fail\""
   ]
  },
  {
   "cell_type": "markdown",
   "metadata": {},
   "source": [
    "А вот множественное наследование работать не будет."
   ]
  },
  {
   "cell_type": "code",
   "execution_count": 28,
   "metadata": {},
   "outputs": [
    {
     "ename": "TypeError",
     "evalue": "multiple bases have instance lay-out conflict",
     "output_type": "error",
     "traceback": [
      "\u001b[1;31m---------------------------------------------------------------------------\u001b[0m",
      "\u001b[1;31mTypeError\u001b[0m                                 Traceback (most recent call last)",
      "\u001b[1;32m<ipython-input-28-63647475daa1>\u001b[0m in \u001b[0;36m<module>\u001b[1;34m()\u001b[0m\n\u001b[0;32m      7\u001b[0m \u001b[1;33m\u001b[0m\u001b[0m\n\u001b[0;32m      8\u001b[0m \u001b[1;33m\u001b[0m\u001b[0m\n\u001b[1;32m----> 9\u001b[1;33m \u001b[1;32mclass\u001b[0m \u001b[0mChild\u001b[0m\u001b[1;33m(\u001b[0m\u001b[0mBaseA\u001b[0m\u001b[1;33m,\u001b[0m \u001b[0mBaseB\u001b[0m\u001b[1;33m)\u001b[0m\u001b[1;33m:\u001b[0m\u001b[1;33m\u001b[0m\u001b[0m\n\u001b[0m\u001b[0;32m     10\u001b[0m     \u001b[1;32mpass\u001b[0m\u001b[1;33m\u001b[0m\u001b[0m\n",
      "\u001b[1;31mTypeError\u001b[0m: multiple bases have instance lay-out conflict"
     ]
    }
   ],
   "source": [
    "class BaseA(object): \n",
    "    __slots__ = ('a',)\n",
    "\n",
    "    \n",
    "class BaseB(object): \n",
    "    __slots__ = ('b',)\n",
    "    \n",
    "    \n",
    "class Child(BaseA, BaseB):\n",
    "    pass"
   ]
  }
 ],
 "metadata": {
  "kernelspec": {
   "display_name": "Python 3",
   "language": "python",
   "name": "python3"
  },
  "language_info": {
   "codemirror_mode": {
    "name": "ipython",
    "version": 3
   },
   "file_extension": ".py",
   "mimetype": "text/x-python",
   "name": "python",
   "nbconvert_exporter": "python",
   "pygments_lexer": "ipython3",
   "version": "3.6.5"
  }
 },
 "nbformat": 4,
 "nbformat_minor": 2
}
