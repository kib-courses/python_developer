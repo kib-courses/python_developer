{
 "cells": [
  {
   "cell_type": "code",
   "execution_count": 1,
   "metadata": {},
   "outputs": [],
   "source": [
    "from array import array\n",
    "\n",
    "class arraylist:\n",
    "    \n",
    "    def __init__(self,typecode,data):\n",
    "        self.capacity = len(data)\n",
    "        self.typecode = typecode\n",
    "        self.arraylist = array(typecode, data)\n",
    "        \n",
    "    def __len__(self):\n",
    "        return len(self.arraylist)\n",
    "\n",
    "    def __contains__(self, item):\n",
    "        if type(item) == self.typecode:\n",
    "            for x in self:\n",
    "                if item == x:\n",
    "                    return True\n",
    "        return False\n",
    "    \n",
    "    def __getitem__(self,index):\n",
    "        return self.arraylist[index]\n",
    "        \n",
    "    def __delitem__(self,index):\n",
    "        t = self.arraylist[:index]\n",
    "        t = t + self.arraylist[index + 1:]\n",
    "        self.arraylist = array(self.typecode,t)\n",
    "        self.capacity -= 1\n",
    "        return self\n",
    "        \n",
    "    def __iadd__(self, data):\n",
    "        if ('len' in dir(data)) or ('__len__' in dir(data)):\n",
    "            amount = len(data)\n",
    "            self.capacity += amount\n",
    "            for i in range (amount):\n",
    "                self.arraylist+=array(self.typecode,[data[i]])\n",
    "        else:\n",
    "            self.arraylist=array(self.typecode,self.arraylist[:]+array(self.typecode,[data]))\n",
    "            self.capacity+=1\n",
    "        return self\n",
    "        \n",
    "    def __setitem__(self, index, value):\n",
    "        t = self.arraylist[:index]\n",
    "        v = array(self.typecode,[value])\n",
    "        t = t + v + self.arraylist[index + 1:]\n",
    "        self.arraylist = array(self.typecode,t)\n",
    "        return self\n",
    "        \n",
    "    def __iter__(self):\n",
    "        for i in range(len(self)):\n",
    "            yield self.arraylist[i]\n",
    "            \n",
    "    def __reversed__(self):\n",
    "        for i in range(len(self)-1,-1,-1):\n",
    "            yield self.arraylist[i]\n",
    "            \n",
    "    def index(self, item):\n",
    "        if type(item) == self.typecode:\n",
    "            for i, x in enumerate(self):\n",
    "                if x == item:\n",
    "                    return i\n",
    "        return None\n",
    "\n",
    "    def count(self, item):\n",
    "        i = 0\n",
    "        if self.typecode == type(item):\n",
    "            for x in self:\n",
    "                if x == item:\n",
    "                    i += 1\n",
    "            return i\n",
    "        else:\n",
    "            return None\n",
    "        \n",
    "    def remove(self, item):\n",
    "        a = self.arraylist.index(item)\n",
    "        if a:\n",
    "            t = self.arraylist[:a]\n",
    "            t = t + self.arraylist[a + 1:]\n",
    "            self.arraylist = array(self.typecode,t)\n",
    "        self.capacity -= 1\n",
    "        \n",
    "    def pop(self, index):\n",
    "        x = self[index]; \n",
    "        self.remove(self[index]); \n",
    "        self.capacity -= 1\n",
    "        return x\n",
    "    \n",
    "    def append(self,data):\n",
    "        if (('len' in dir(data)) or ('__len__' in dir(data))):\n",
    "            amount = len(data)\n",
    "            self.capacity += amount\n",
    "            for i in range (amount):\n",
    "                self.arraylist+=array(self.typecode,[data[i]])\n",
    "        else:\n",
    "            print('You were visited by code police. No fine this time, use function \"extend\" henceforth :)')\n",
    "            self.arraylist=array(self.typecode,self.arraylist[:]+array(self.typecode,[data]))\n",
    "            self.capacity+=1\n",
    "        \n",
    "    def insert(self, index, item):\n",
    "        if index!=0:\n",
    "            t = self.arraylist[index:]\n",
    "            t = self.arraylist[:index] + array(self.typecode,[item]) + t\n",
    "        elif index == 0:\n",
    "            t = array(self.typecode,[item]) + self.arraylist[index:]\n",
    "        self.arraylist = array(self.typecode,t)\n",
    "        self.capacity += 1\n",
    "        \n",
    "    def extend(self, item):\n",
    "        self.arraylist=array(self.typecode,self.arraylist[:]+array(self.typecode,[item]))\n",
    "        self.capacity+=1"
   ]
  },
  {
   "cell_type": "code",
   "execution_count": 2,
   "metadata": {},
   "outputs": [
    {
     "name": "stdout",
     "output_type": "stream",
     "text": [
      "5\n",
      "4\n",
      "3\n",
      "2\n",
      "1\n"
     ]
    }
   ],
   "source": [
    "a = arraylist('i', [1,2,3,4,5])\n",
    "for i in reversed(a):\n",
    "    print(i)"
   ]
  },
  {
   "cell_type": "code",
   "execution_count": 3,
   "metadata": {},
   "outputs": [
    {
     "data": {
      "text/plain": [
       "array('i', [1, 2, 3, 3, 4, 5])"
      ]
     },
     "execution_count": 3,
     "metadata": {},
     "output_type": "execute_result"
    }
   ],
   "source": [
    "a.insert(3, 3)\n",
    "a.arraylist"
   ]
  },
  {
   "cell_type": "code",
   "execution_count": 4,
   "metadata": {},
   "outputs": [
    {
     "data": {
      "text/plain": [
       "array('i', [0, 1, 2, 3, 3, 4, 5])"
      ]
     },
     "execution_count": 4,
     "metadata": {},
     "output_type": "execute_result"
    }
   ],
   "source": [
    "a.insert(0, 0)\n",
    "a.arraylist"
   ]
  },
  {
   "cell_type": "code",
   "execution_count": 5,
   "metadata": {},
   "outputs": [
    {
     "data": {
      "text/plain": [
       "array('i', [0, 1, 2, 3, 3, 4, 5, 6, 7, 8])"
      ]
     },
     "execution_count": 5,
     "metadata": {},
     "output_type": "execute_result"
    }
   ],
   "source": [
    "a.append([6,7,8])\n",
    "a.arraylist"
   ]
  },
  {
   "cell_type": "code",
   "execution_count": 6,
   "metadata": {},
   "outputs": [
    {
     "data": {
      "text/plain": [
       "array('i', [0, 1, 2, 3, 3, 4, 5, 6, 7, 8, 9])"
      ]
     },
     "execution_count": 6,
     "metadata": {},
     "output_type": "execute_result"
    }
   ],
   "source": [
    "a.extend(9)\n",
    "a.arraylist"
   ]
  },
  {
   "cell_type": "code",
   "execution_count": 7,
   "metadata": {},
   "outputs": [
    {
     "data": {
      "text/plain": [
       "array('i', [0, 1, 2, 3, 3, 4, 5, 6, 7, 8])"
      ]
     },
     "execution_count": 7,
     "metadata": {},
     "output_type": "execute_result"
    }
   ],
   "source": [
    "a.remove(9)\n",
    "a.arraylist"
   ]
  },
  {
   "cell_type": "code",
   "execution_count": 8,
   "metadata": {},
   "outputs": [
    {
     "name": "stdout",
     "output_type": "stream",
     "text": [
      "2\n"
     ]
    }
   ],
   "source": [
    "print(a.arraylist.count(3))"
   ]
  },
  {
   "cell_type": "code",
   "execution_count": 9,
   "metadata": {},
   "outputs": [
    {
     "name": "stdout",
     "output_type": "stream",
     "text": [
      "8\n"
     ]
    },
    {
     "data": {
      "text/plain": [
       "array('i', [0, 1, 2, 3, 3, 4, 5, 6, 7])"
      ]
     },
     "execution_count": 9,
     "metadata": {},
     "output_type": "execute_result"
    }
   ],
   "source": [
    "print(a.pop(9))\n",
    "a.arraylist"
   ]
  },
  {
   "cell_type": "code",
   "execution_count": 10,
   "metadata": {},
   "outputs": [
    {
     "data": {
      "text/plain": [
       "array('i', [0, 11, 2, 3, 3, 4, 5, 6, 7])"
      ]
     },
     "execution_count": 10,
     "metadata": {},
     "output_type": "execute_result"
    }
   ],
   "source": [
    "a[1] = 11\n",
    "a.arraylist"
   ]
  },
  {
   "cell_type": "code",
   "execution_count": 11,
   "metadata": {},
   "outputs": [
    {
     "data": {
      "text/plain": [
       "array('i', [0, 11, 2, 3, 3, 4, 5, 6, 7, 8])"
      ]
     },
     "execution_count": 11,
     "metadata": {},
     "output_type": "execute_result"
    }
   ],
   "source": [
    "a += 8\n",
    "a.arraylist"
   ]
  },
  {
   "cell_type": "code",
   "execution_count": 12,
   "metadata": {},
   "outputs": [
    {
     "data": {
      "text/plain": [
       "array('i', [0, 2, 3, 3, 4, 5, 6, 7, 8])"
      ]
     },
     "execution_count": 12,
     "metadata": {},
     "output_type": "execute_result"
    }
   ],
   "source": [
    "del a[1]\n",
    "a.arraylist"
   ]
  },
  {
   "cell_type": "code",
   "execution_count": null,
   "metadata": {},
   "outputs": [],
   "source": []
  },
  {
   "cell_type": "code",
   "execution_count": null,
   "metadata": {},
   "outputs": [],
   "source": []
  },
  {
   "cell_type": "code",
   "execution_count": null,
   "metadata": {},
   "outputs": [],
   "source": []
  },
  {
   "cell_type": "code",
   "execution_count": null,
   "metadata": {},
   "outputs": [],
   "source": []
  }
 ],
 "metadata": {
  "kernelspec": {
   "display_name": "Python 3",
   "language": "python",
   "name": "python3"
  },
  "language_info": {
   "codemirror_mode": {
    "name": "ipython",
    "version": 3
   },
   "file_extension": ".py",
   "mimetype": "text/x-python",
   "name": "python",
   "nbconvert_exporter": "python",
   "pygments_lexer": "ipython3",
   "version": "3.7.4"
  }
 },
 "nbformat": 4,
 "nbformat_minor": 2
}
