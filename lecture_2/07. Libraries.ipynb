{
 "cells": [
  {
   "cell_type": "markdown",
   "metadata": {
    "colab_type": "text",
    "id": "ThHYoaTjFv4m"
   },
   "source": [
    "# Импорт библиотек и создание рабочего окружения"
   ]
  },
  {
   "cell_type": "markdown",
   "metadata": {
    "colab_type": "text",
    "id": "Lxqk2gccLbn-"
   },
   "source": [
    "Модулем в Python называется некоторая небольшая программа.\n",
    "\n",
    "Каждая программа может импортировать модуль и получить доступ к его классам, функциям и объектам. Нужно заметить, что модуль может быть написан не только на Python, а например, на C или C++."
   ]
  },
  {
   "cell_type": "markdown",
   "metadata": {
    "colab_type": "text",
    "id": "oawrGkLQLjwd"
   },
   "source": [
    "## Подключение модуля из стандартной библиотеки\n",
    "\n",
    "Подключить модуль можно с помощью инструкции `import`. Модули обычно подключаются в самом начале кода."
   ]
  },
  {
   "cell_type": "code",
   "execution_count": 1,
   "metadata": {
    "colab": {
     "base_uri": "https://localhost:8080/",
     "height": 34
    },
    "colab_type": "code",
    "executionInfo": {
     "elapsed": 1538,
     "status": "ok",
     "timestamp": 1575366877695,
     "user": {
      "displayName": "Надежда Демиденко",
      "photoUrl": "https://lh3.googleusercontent.com/a-/AAuE7mA6D7k5OgtG9hzPe8Abs8DfOKAXQoTXaPfn7EY=s64",
      "userId": "05224310221243935536"
     },
     "user_tz": -180
    },
    "id": "swPqYbkPFqKh",
    "outputId": "1ff8a720-a12e-431c-a51a-35572eca530a"
   },
   "outputs": [
    {
     "name": "stdout",
     "output_type": "stream",
     "text": [
      "C:\\Users\\Иван\\Documents\\python_developer\\lecture_2\n"
     ]
    }
   ],
   "source": [
    "import os\n",
    "print(os.getcwd())"
   ]
  },
  {
   "cell_type": "markdown",
   "metadata": {
    "colab_type": "text",
    "id": "7G8CGVg3LxBh"
   },
   "source": [
    "После ключевого слова `import` указывается название модуля.\n",
    "\n",
    "Одной инструкцией можно подключить несколько модулей, хотя этого не рекомендуется делать, так как это снижает читаемость кода.\n",
    "\n",
    "> Когда вы импортируете модуль, интерпретатор Python ищет этот модуль в следующих местах:\n",
    "- Директория, в которой находится файл, в котором вызывается команда импорта\n",
    "- Если модуль не найден, Python ищет в каждой директории, определенной в переменной окружения PYTHONPATH.\n",
    "- Если и там модуль не найден, Python проверяет путь заданный по умолчанию\n",
    ">\n",
    "> Путь поиска модулей сохранен в системном модуле `sys` в переменной `path`. Переменная `sys.path` содержит все три вышеописанных места поиска модулей."
   ]
  },
  {
   "cell_type": "code",
   "execution_count": 2,
   "metadata": {
    "colab": {
     "base_uri": "https://localhost:8080/",
     "height": 51
    },
    "colab_type": "code",
    "executionInfo": {
     "elapsed": 1606,
     "status": "ok",
     "timestamp": 1575366915458,
     "user": {
      "displayName": "Надежда Демиденко",
      "photoUrl": "https://lh3.googleusercontent.com/a-/AAuE7mA6D7k5OgtG9hzPe8Abs8DfOKAXQoTXaPfn7EY=s64",
      "userId": "05224310221243935536"
     },
     "user_tz": -180
    },
    "id": "0zbFRQdzLxzR",
    "outputId": "16c57093-355e-46c6-d17c-d1c9b08f61be"
   },
   "outputs": [
    {
     "name": "stdout",
     "output_type": "stream",
     "text": [
      "1583945372.1565273\n",
      "0.19285441488159405\n"
     ]
    }
   ],
   "source": [
    "import time, random\n",
    "print(time.time())\n",
    "print(random.random())"
   ]
  },
  {
   "cell_type": "markdown",
   "metadata": {
    "colab_type": "text",
    "id": "0jJgLsTuL623"
   },
   "source": [
    "После импортирования модуля его название становится переменной, через которую можно получить доступ к атрибутам модуля. Например, можно обратиться к константе e, расположенной в модуле math:"
   ]
  },
  {
   "cell_type": "code",
   "execution_count": 3,
   "metadata": {
    "colab": {
     "base_uri": "https://localhost:8080/",
     "height": 34
    },
    "colab_type": "code",
    "executionInfo": {
     "elapsed": 890,
     "status": "ok",
     "timestamp": 1575366946777,
     "user": {
      "displayName": "Надежда Демиденко",
      "photoUrl": "https://lh3.googleusercontent.com/a-/AAuE7mA6D7k5OgtG9hzPe8Abs8DfOKAXQoTXaPfn7EY=s64",
      "userId": "05224310221243935536"
     },
     "user_tz": -180
    },
    "id": "pF4b11-_L7sH",
    "outputId": "c7285068-f8fb-4def-c0e2-2366ac25313c"
   },
   "outputs": [
    {
     "name": "stdout",
     "output_type": "stream",
     "text": [
      "2.718281828459045\n"
     ]
    }
   ],
   "source": [
    "import math\n",
    "print(math.e)"
   ]
  },
  {
   "cell_type": "code",
   "execution_count": 4,
   "metadata": {},
   "outputs": [
    {
     "data": {
      "text/plain": [
       "3"
      ]
     },
     "execution_count": 4,
     "metadata": {},
     "output_type": "execute_result"
    }
   ],
   "source": [
    "math.e = 3\n",
    "math.e"
   ]
  },
  {
   "cell_type": "code",
   "execution_count": 5,
   "metadata": {},
   "outputs": [
    {
     "data": {
      "text/plain": [
       "3"
      ]
     },
     "execution_count": 5,
     "metadata": {},
     "output_type": "execute_result"
    }
   ],
   "source": [
    "import math\n",
    "math.e"
   ]
  },
  {
   "cell_type": "markdown",
   "metadata": {
    "colab_type": "text",
    "id": "p13DEJvfNlvh"
   },
   "source": [
    "### Использование псевдонимов\n",
    "\n",
    "Если название модуля слишком длинное, или оно вам не нравится по каким-то другим причинам, то для него можно создать псевдоним, с помощью ключевого слова `as`.\n",
    "\n",
    "Теперь доступ ко всем атрибутам модуля math осуществляется только с помощью переменной m, а переменной math в этой программе уже не будет."
   ]
  },
  {
   "cell_type": "code",
   "execution_count": 6,
   "metadata": {
    "colab": {
     "base_uri": "https://localhost:8080/",
     "height": 34
    },
    "colab_type": "code",
    "executionInfo": {
     "elapsed": 1063,
     "status": "ok",
     "timestamp": 1575367509174,
     "user": {
      "displayName": "Надежда Демиденко",
      "photoUrl": "https://lh3.googleusercontent.com/a-/AAuE7mA6D7k5OgtG9hzPe8Abs8DfOKAXQoTXaPfn7EY=s64",
      "userId": "05224310221243935536"
     },
     "user_tz": -180
    },
    "id": "-ySNfWHIOE0G",
    "outputId": "d5bf9f55-1135-4c90-aa2c-71056f943a76"
   },
   "outputs": [
    {
     "name": "stdout",
     "output_type": "stream",
     "text": [
      "3\n"
     ]
    }
   ],
   "source": [
    "import math as m\n",
    "print(m.e)"
   ]
  },
  {
   "cell_type": "markdown",
   "metadata": {
    "colab_type": "text",
    "id": "TATqdSrcObfK"
   },
   "source": [
    "### Инструкция from\n",
    "\n",
    "Подключить определенные атрибуты модуля можно с помощью инструкции from. Она имеет несколько форматов:\n",
    "\n",
    "```\n",
    "from <Название модуля> import <Атрибут 1> [ as <Псевдоним 1> ], [<Атрибут 2> [ as <Псевдоним 2> ] ...]\n",
    "from <Название модуля> import *\n",
    "```\n",
    "\n",
    "Первый формат позволяет подключить из модуля только указанные вами атрибуты. Для длинных имен также можно назначить псевдоним, указав его после ключевого слова `as`."
   ]
  },
  {
   "cell_type": "code",
   "execution_count": 7,
   "metadata": {
    "colab": {
     "base_uri": "https://localhost:8080/",
     "height": 51
    },
    "colab_type": "code",
    "executionInfo": {
     "elapsed": 824,
     "status": "ok",
     "timestamp": 1575368355165,
     "user": {
      "displayName": "Надежда Демиденко",
      "photoUrl": "https://lh3.googleusercontent.com/a-/AAuE7mA6D7k5OgtG9hzPe8Abs8DfOKAXQoTXaPfn7EY=s64",
      "userId": "05224310221243935536"
     },
     "user_tz": -180
    },
    "id": "nHbMYOWPRSeQ",
    "outputId": "a6f7402e-fc7f-41d5-c2f5-336a70a59253"
   },
   "outputs": [
    {
     "name": "stdout",
     "output_type": "stream",
     "text": [
      "3\n",
      "5\n"
     ]
    }
   ],
   "source": [
    "from math import e, ceil as c\n",
    "print(e)\n",
    "print(c(4.6))"
   ]
  },
  {
   "cell_type": "markdown",
   "metadata": {
    "colab_type": "text",
    "id": "9h5cUJTPRd-2"
   },
   "source": [
    "Импортируемые атрибуты можно разместить на нескольких строках, если их много, для лучшей читаемости кода:"
   ]
  },
  {
   "cell_type": "code",
   "execution_count": 8,
   "metadata": {
    "colab": {},
    "colab_type": "code",
    "id": "64cizz-9Rmee"
   },
   "outputs": [],
   "source": [
    "from math import (sin, cos,\n",
    "                  tan, atan)"
   ]
  },
  {
   "cell_type": "markdown",
   "metadata": {
    "colab_type": "text",
    "id": "YDQ-IEEzRvnv"
   },
   "source": [
    "Второй формат инструкции from позволяет почти все переменные из модуля. Для примера импортируем все атрибуты из модуля sys.\n",
    "\n",
    "Следует заметить, что не все атрибуты будут импортированы. Если в модуле определена переменная `__all__` (список атрибутов, которые могут быть подключены), то будут подключены только атрибуты из этого списка. Если переменная `__all__` не определена, то будут подключены все атрибуты, не начинающиеся с нижнего подчёркивания. Кроме того, необходимо учитывать, что импортирование всех атрибутов из модуля может нарушить пространство имен главной программы, так как переменные, имеющие одинаковые имена, будут перезаписаны."
   ]
  },
  {
   "cell_type": "code",
   "execution_count": 9,
   "metadata": {
    "colab": {
     "base_uri": "https://localhost:8080/",
     "height": 68
    },
    "colab_type": "code",
    "executionInfo": {
     "elapsed": 1297,
     "status": "ok",
     "timestamp": 1575370503286,
     "user": {
      "displayName": "Надежда Демиденко",
      "photoUrl": "https://lh3.googleusercontent.com/a-/AAuE7mA6D7k5OgtG9hzPe8Abs8DfOKAXQoTXaPfn7EY=s64",
      "userId": "05224310221243935536"
     },
     "user_tz": -180
    },
    "id": "BrDBzuJ2R8kE",
    "outputId": "ce8acf51-f196-4d6c-8b90-8fe54f04127a"
   },
   "outputs": [
    {
     "name": "stdout",
     "output_type": "stream",
     "text": [
      "3.6.5 |Anaconda, Inc.| (default, Mar 29 2018, 13:32:41) [MSC v.1900 64 bit (AMD64)]\n",
      "sys.version_info(major=3, minor=6, micro=5, releaselevel='final', serial=0)\n"
     ]
    }
   ],
   "source": [
    "from sys import *\n",
    "print(version)\n",
    "print(version_info)"
   ]
  },
  {
   "cell_type": "markdown",
   "metadata": {
    "colab_type": "text",
    "id": "DxaRLoUESbIl"
   },
   "source": [
    "## Создание модуля\n",
    "\n",
    "Можно использовать как библиотеку и самостоятельно созданный файл с функциями. Он подключается так же, как и стандартные библиотеки - через имя файла.\n",
    "\n",
    "При импортировании модуля его код выполняется полностью. То есть, если программа что-то печатает, то при её импортировании это будет напечатано. Этого можно избежать, если проверять, запущен ли скрипт как программа, или импортирован. Это можно сделать с помощью переменной `__name__`, которая определена в любой программе, и равна \"`__main__`\", если скрипт запущен в качестве главной программы, и имя, если он импортирован.\n",
    "\n",
    "Пример такого кода:"
   ]
  },
  {
   "cell_type": "code",
   "execution_count": 10,
   "metadata": {
    "colab": {},
    "colab_type": "code",
    "id": "LUiv-bPZTHfK"
   },
   "outputs": [
    {
     "name": "stdout",
     "output_type": "stream",
     "text": [
      "Hello, world!\n",
      "1\n",
      "1\n",
      "1\n",
      "2\n",
      "3\n",
      "5\n",
      "8\n",
      "13\n",
      "21\n",
      "34\n"
     ]
    }
   ],
   "source": [
    "def hello():\n",
    "    print('Hello, world!')\n",
    "\n",
    "def fib(n):\n",
    "    a = b = 1\n",
    "    for i in range(n - 2):\n",
    "        a, b = b, a + b\n",
    "    return b\n",
    "\n",
    "if __name__ == \"__main__\":\n",
    "    hello()\n",
    "    for i in range(10):\n",
    "        print(fib(i))"
   ]
  },
  {
   "cell_type": "code",
   "execution_count": 1,
   "metadata": {},
   "outputs": [
    {
     "name": "stdout",
     "output_type": "stream",
     "text": [
      "all run\n"
     ]
    }
   ],
   "source": [
    "import module"
   ]
  },
  {
   "cell_type": "code",
   "execution_count": 13,
   "metadata": {},
   "outputs": [
    {
     "data": {
      "text/plain": [
       "'module'"
      ]
     },
     "execution_count": 13,
     "metadata": {},
     "output_type": "execute_result"
    }
   ],
   "source": [
    "module.__name__"
   ]
  },
  {
   "cell_type": "markdown",
   "metadata": {
    "colab_type": "text",
    "id": "ehBiYfGsU9v5"
   },
   "source": [
    "## Система управления пакетами pip\n",
    "\n",
    "Для установки пакетов Python будет использоваться pip. Это система управления пакетами, которая используется для установки пакетов из Python Package Index (PyPI). Скорее всего, если у вас уже установлен Python, то установлен и pip.\n",
    "\n",
    "Проверка версии pip:"
   ]
  },
  {
   "cell_type": "code",
   "execution_count": 2,
   "metadata": {
    "colab": {
     "base_uri": "https://localhost:8080/",
     "height": 34
    },
    "colab_type": "code",
    "executionInfo": {
     "elapsed": 3373,
     "status": "ok",
     "timestamp": 1575369458409,
     "user": {
      "displayName": "Надежда Демиденко",
      "photoUrl": "https://lh3.googleusercontent.com/a-/AAuE7mA6D7k5OgtG9hzPe8Abs8DfOKAXQoTXaPfn7EY=s64",
      "userId": "05224310221243935536"
     },
     "user_tz": -180
    },
    "id": "30l9alUrVBS8",
    "outputId": "ac135ac4-dac5-49f9-802a-c22ffa42754c"
   },
   "outputs": [
    {
     "name": "stdout",
     "output_type": "stream",
     "text": [
      "pip 18.0 from C:\\Users\\Иван\\AppData\\Roaming\\Python\\Python36\\site-packages\\pip (python 3.6)\n",
      "\n"
     ]
    }
   ],
   "source": [
    "!pip --version"
   ]
  },
  {
   "cell_type": "markdown",
   "metadata": {
    "colab_type": "text",
    "id": "4k19m70DVqB9"
   },
   "source": [
    "> **Примечание:**\n",
    ">\n",
    "> *В зависимости от того, как установлен и настроен Python в системе, может потребоваться использовать pip3 вместо pip.*"
   ]
  },
  {
   "cell_type": "markdown",
   "metadata": {
    "colab_type": "text",
    "id": "NyVkOrs0VUDX"
   },
   "source": [
    "Установка пакета:\n",
    "\n",
    "`pip install tabulate`\n",
    "\n",
    "Обновление пакета:\n",
    "\n",
    "`pip install --upgrade tabulate`\n",
    "\n",
    "Установка пакета конкретной версии:\n",
    "\n",
    "`pip install tabulate==2.6.0`\n",
    "\n",
    "Удаление пакета:\n",
    "\n",
    "`pip uninstall tabulate`"
   ]
  },
  {
   "cell_type": "markdown",
   "metadata": {
    "colab_type": "text",
    "id": "5GuZtlZDWSpj"
   },
   "source": [
    "По умолчанию pip устанавливает пакеты в системную директорию.\n",
    "\n",
    "Опция `--user` позволяет установить пакет в домашнюю директорию пользователя от имени пользователя."
   ]
  },
  {
   "cell_type": "code",
   "execution_count": null,
   "metadata": {
    "colab": {},
    "colab_type": "code",
    "id": "ynhzpADeXecs"
   },
   "outputs": [],
   "source": [
    "!pip install --user mypackage"
   ]
  },
  {
   "cell_type": "markdown",
   "metadata": {
    "colab_type": "text",
    "id": "9EXmMfXXaHuO"
   },
   "source": [
    "`pip show` выведет информацию о пакете."
   ]
  },
  {
   "cell_type": "code",
   "execution_count": null,
   "metadata": {
    "colab": {
     "base_uri": "https://localhost:8080/",
     "height": 187
    },
    "colab_type": "code",
    "executionInfo": {
     "elapsed": 5190,
     "status": "ok",
     "timestamp": 1575639193333,
     "user": {
      "displayName": "Надежда Демиденко",
      "photoUrl": "https://lh3.googleusercontent.com/a-/AAuE7mA6D7k5OgtG9hzPe8Abs8DfOKAXQoTXaPfn7EY=s64",
      "userId": "05224310221243935536"
     },
     "user_tz": -180
    },
    "id": "yiOIM1c0aLWn",
    "outputId": "7d25c527-0b8f-4eee-910e-ba6597416884"
   },
   "outputs": [],
   "source": [
    "!pip show astor"
   ]
  },
  {
   "cell_type": "markdown",
   "metadata": {
    "colab_type": "text",
    "id": "rHb1iJHqaiAm"
   },
   "source": [
    "`pip list` выведет список всех установленных в данном окружении пакетов"
   ]
  },
  {
   "cell_type": "code",
   "execution_count": 1,
   "metadata": {
    "colab": {
     "base_uri": "https://localhost:8080/",
     "height": 1000
    },
    "colab_type": "code",
    "executionInfo": {
     "elapsed": 3310,
     "status": "ok",
     "timestamp": 1575639234779,
     "user": {
      "displayName": "Надежда Демиденко",
      "photoUrl": "https://lh3.googleusercontent.com/a-/AAuE7mA6D7k5OgtG9hzPe8Abs8DfOKAXQoTXaPfn7EY=s64",
      "userId": "05224310221243935536"
     },
     "user_tz": -180
    },
    "id": "i6EZDhoOap0M",
    "outputId": "c14a76f9-0145-4158-ae4c-44c5743b2e96"
   },
   "outputs": [
    {
     "name": "stdout",
     "output_type": "stream",
     "text": [
      "Package                            Version            \n",
      "---------------------------------- -------------------\n",
      "-                                  0.13.1             \n",
      "-cikit-image                       0.13.1             \n",
      "absl-py                            0.8.1              \n",
      "alabaster                          0.7.10             \n",
      "anaconda-client                    1.6.14             \n",
      "anaconda-navigator                 1.8.7              \n",
      "anaconda-project                   0.8.2              \n",
      "asn1crypto                         0.24.0             \n",
      "astor                              0.7.1              \n",
      "astroid                            1.6.3              \n",
      "astropy                            3.0.2              \n",
      "attrs                              18.1.0             \n",
      "Babel                              2.5.3              \n",
      "backcall                           0.1.0              \n",
      "backports.shutil-get-terminal-size 1.0.0              \n",
      "beautifulsoup4                     4.6.0              \n",
      "bitarray                           0.8.1              \n",
      "bkcharts                           0.2                \n",
      "blaze                              0.11.3             \n",
      "bleach                             2.1.3              \n",
      "blis                               0.4.1              \n",
      "bokeh                              0.12.16            \n",
      "boto                               2.48.0             \n",
      "boto3                              1.9.140            \n",
      "botocore                           1.12.140           \n",
      "Bottleneck                         1.2.1              \n",
      "cachetools                         3.1.1              \n",
      "catalogue                          0.0.8              \n",
      "catboost                           0.11.1             \n",
      "certifi                            2018.4.16          \n",
      "cffi                               1.11.5             \n",
      "chardet                            3.0.4              \n",
      "click                              6.7                \n",
      "cloudpickle                        0.5.3              \n",
      "clyent                             1.2.2              \n",
      "cmd2                               1.0.0              \n",
      "colorama                           0.3.9              \n",
      "comtypes                           1.1.4              \n",
      "conda                              4.6.14             \n",
      "conda-build                        3.10.5             \n",
      "conda-verify                       2.0.0              \n",
      "contextlib2                        0.5.5              \n",
      "cryptography                       2.2.2              \n",
      "cycler                             0.10.0             \n",
      "cymem                              2.0.3              \n",
      "Cython                             0.28.2             \n",
      "cytoolz                            0.9.0.1            \n",
      "dask                               0.17.5             \n",
      "datashape                          0.5.4              \n",
      "DAWG-Python                        0.7.2              \n",
      "decorator                          4.3.0              \n",
      "distributed                        1.21.8             \n",
      "docopt                             0.6.2              \n",
      "docutils                           0.14               \n",
      "entrypoints                        0.2.3              \n",
      "enum34                             1.1.6              \n",
      "et-xmlfile                         1.0.1              \n",
      "facenet-pytorch                    0.4.0              \n",
      "fastcache                          1.0.2              \n",
      "filelock                           3.0.4              \n",
      "Flask                              1.0.2              \n",
      "Flask-Cors                         3.0.4              \n",
      "gast                               0.2.2              \n",
      "gensim                             3.7.2              \n",
      "gevent                             1.3.0              \n",
      "glob2                              0.6                \n",
      "google-auth                        1.7.0              \n",
      "google-auth-oauthlib               0.4.1              \n",
      "google-pasta                       0.1.8              \n",
      "grammar                            1.6                \n",
      "graphviz                           0.10.1             \n",
      "greenlet                           0.4.13             \n",
      "grpcio                             1.25.0             \n",
      "h5py                               2.7.1              \n",
      "heapdict                           1.0.0              \n",
      "html5lib                           1.0.1              \n",
      "idna                               2.6                \n",
      "imageio                            2.3.0              \n",
      "imagesize                          1.0.0              \n",
      "importlib-metadata                 1.2.0              \n",
      "ipykernel                          4.8.2              \n",
      "ipython                            6.4.0              \n",
      "ipython-genutils                   0.2.0              \n",
      "ipywidgets                         7.2.1              \n",
      "isort                              4.3.4              \n",
      "itsdangerous                       0.24               \n",
      "jdcal                              1.4                \n",
      "jedi                               0.12.0             \n",
      "Jinja2                             2.10               \n",
      "jmespath                           0.9.4              \n",
      "jsonschema                         2.6.0              \n",
      "jupyter                            1.0.0              \n",
      "jupyter-client                     5.2.3              \n",
      "jupyter-console                    5.2.0              \n",
      "jupyter-core                       4.4.0              \n",
      "jupyterlab                         0.32.1             \n",
      "jupyterlab-launcher                0.10.5             \n",
      "Keras                              2.3.1              \n",
      "Keras-Applications                 1.0.8              \n",
      "keras-facenet                      0.1a5              \n",
      "Keras-Preprocessing                1.1.0              \n",
      "keras-vggface                      0.6                \n",
      "kiwisolver                         1.0.1              \n",
      "lazy-object-proxy                  1.3.1              \n",
      "llvmlite                           0.23.1             \n",
      "locket                             0.2.0              \n",
      "lxml                               4.2.1              \n",
      "Markdown                           3.0.1              \n",
      "MarkupSafe                         1.0                \n",
      "matplotlib                         2.2.2              \n",
      "mccabe                             0.6.1              \n",
      "menuinst                           1.4.14             \n",
      "methodtools                        0.1.2              \n",
      "mistune                            0.8.3              \n",
      "mkl-fft                            1.0.0              \n",
      "mkl-random                         1.0.1              \n",
      "mock                               3.0.5              \n",
      "more-itertools                     4.1.0              \n",
      "mpmath                             1.0.0              \n",
      "msgpack                            0.6.0              \n",
      "msgpack-python                     0.5.6              \n",
      "mtcnn                              0.0.9              \n",
      "multipledispatch                   0.5.0              \n",
      "murmurhash                         1.0.2              \n",
      "music21                            5.7.1              \n",
      "Mypackage                          0.1                \n",
      "navigator-updater                  0.2.1              \n",
      "nbconvert                          5.3.1              \n",
      "nbformat                           4.4.0              \n",
      "networkx                           2.1                \n",
      "nltk                               3.3                \n",
      "nose                               1.3.7              \n",
      "notebook                           5.5.0              \n",
      "numba                              0.38.0             \n",
      "numexpr                            2.6.5              \n",
      "numpy                              1.17.3             \n",
      "numpydoc                           0.8.0              \n",
      "oauthlib                           3.1.0              \n",
      "odo                                0.5.1              \n",
      "olefile                            0.45.1             \n",
      "opencv-python                      4.1.1.26           \n",
      "openpyxl                           2.5.3              \n",
      "opt-einsum                         3.1.0              \n",
      "packaging                          17.1               \n",
      "pandas                             0.23.0             \n",
      "pandocfilters                      1.4.2              \n",
      "parso                              0.2.0              \n",
      "partd                              0.3.8              \n",
      "path.py                            11.0.1             \n",
      "pathlib2                           2.3.2              \n",
      "patsy                              0.5.0              \n",
      "pep8                               1.7.1              \n",
      "pickleshare                        0.7.4              \n",
      "Pillow                             6.1.0              \n",
      "pip                                18.0               \n",
      "pkginfo                            1.4.2              \n",
      "plac                               1.1.3              \n",
      "pluggy                             0.6.0              \n",
      "ply                                3.11               \n",
      "preshed                            3.0.2              \n",
      "prompt-toolkit                     1.0.15             \n",
      "protobuf                           3.10.0             \n",
      "psutil                             5.4.5              \n",
      "py                                 1.5.3              \n",
      "pyasn1                             0.4.7              \n",
      "pyasn1-modules                     0.2.7              \n",
      "pycodestyle                        2.4.0              \n",
      "pycosat                            0.6.3              \n",
      "pycparser                          2.18               \n",
      "pycrypto                           2.6.1              \n",
      "pycurl                             7.43.0.1           \n",
      "pydotplus                          2.0.2              \n",
      "pyflakes                           1.6.0              \n",
      "Pygments                           2.2.0              \n",
      "pylint                             1.8.4              \n",
      "pymorphy2                          0.8                \n",
      "pymorphy2-dicts                    2.4.393442.3710985 \n",
      "pymystem3                          0.2.0              \n",
      "pyodbc                             4.0.23             \n",
      "pyOpenSSL                          18.0.0             \n",
      "pyparsing                          2.2.0              \n",
      "pyperclip                          1.7.0              \n",
      "pyreadline                         2.1                \n",
      "PySocks                            1.6.8              \n",
      "pytest                             3.5.1              \n",
      "pytest-arraydiff                   0.2                \n",
      "pytest-astropy                     0.3.0              \n",
      "pytest-doctestplus                 0.1.3              \n",
      "pytest-openfiles                   0.3.0              \n",
      "pytest-remotedata                  0.2.1              \n",
      "python-dateutil                    2.7.3              \n",
      "pytils                             0.3                \n",
      "pytz                               2018.4             \n",
      "PyWavelets                         0.5.2              \n",
      "pywin32                            223                \n",
      "pywinpty                           0.5.1              \n",
      "PyYAML                             3.12               \n",
      "pyzmq                              17.0.0             \n",
      "QtAwesome                          0.4.4              \n",
      "qtconsole                          4.3.1              \n",
      "QtPy                               1.4.1              \n",
      "requests                           2.22.0             \n",
      "requests-oauthlib                  1.3.0              \n",
      "rope                               0.10.7             \n",
      "rsa                                4.0                \n",
      "ruamel-yaml                        0.15.35            \n",
      "s3transfer                         0.2.0              \n",
      "scikit-image                       0.16.2             \n",
      "scikit-learn                       0.19.1             \n",
      "scipy                              1.1.0              \n",
      "seaborn                            0.8.1              \n",
      "Send2Trash                         1.5.0              \n",
      "setuptools                         41.6.0             \n",
      "simplegeneric                      0.8.1              \n",
      "singledispatch                     3.4.0.3            \n",
      "six                                1.13.0             \n",
      "sklearn                            0.0                \n",
      "smart-open                         1.8.3              \n",
      "snowballstemmer                    1.2.1              \n",
      "sortedcollections                  0.6.1              \n",
      "sortedcontainers                   1.5.10             \n",
      "spacy                              2.2.3              \n",
      "Sphinx                             1.7.4              \n",
      "sphinxcontrib-websupport           1.0.1              \n",
      "spyder                             3.2.8              \n",
      "SQLAlchemy                         1.2.7              \n",
      "srsly                              0.2.0              \n",
      "statsmodels                        0.9.0              \n",
      "sympy                              1.1.1              \n",
      "tables                             3.4.3              \n",
      "tb-nightly                         2.1.0a20191108     \n",
      "tblib                              1.3.2              \n",
      "tensorboard                        1.15.0             \n",
      "tensorflow                         1.15.0             \n",
      "tensorflow-estimator               1.15.1             \n",
      "termcolor                          1.1.0              \n",
      "terminado                          0.8.1              \n",
      "testpath                           0.3.1              \n",
      "tf-estimator-nightly               2.0.0.dev2019110809\n",
      "tf-nightly                         2.1.0.dev20191108  \n",
      "thinc                              7.3.1              \n",
      "tools                              0.1.9              \n",
      "toolz                              0.9.0              \n",
      "torch                              1.3.1              \n",
      "torchvision                        0.4.2              \n",
      "tornado                            5.0.2              \n",
      "tqdm                               4.27.0             \n",
      "traitlets                          4.3.2              \n",
      "typing                             3.6.4              \n",
      "unicodecsv                         0.14.1             \n",
      "urllib3                            1.22               \n",
      "vineyard                           0.4                \n",
      "wasabi                             0.4.2              \n",
      "wcwidth                            0.1.7              \n",
      "webencodings                       0.5.1              \n",
      "Werkzeug                           0.14.1             \n",
      "wheel                              0.31.1             \n",
      "widgetsnbextension                 3.2.1              \n",
      "win-inet-pton                      1.0.1              \n",
      "win-unicode-console                0.5                \n",
      "wincertstore                       0.2                \n",
      "wirerope                           0.3.1              \n",
      "word2vec                           0.9.4+2.g8204e5c   \n",
      "wrapt                              1.11.2             \n",
      "xgboost                            0.80               \n",
      "xlrd                               1.1.0              \n",
      "XlsxWriter                         1.0.4              \n",
      "xlwings                            0.11.8             \n",
      "xlwt                               1.3.0              \n",
      "zict                               0.1.3              \n",
      "zipp                               0.6.0              \n"
     ]
    },
    {
     "name": "stderr",
     "output_type": "stream",
     "text": [
      "You are using pip version 18.0, however version 20.0.2 is available.\n",
      "You should consider upgrading via the 'python -m pip install --upgrade pip' command.\n"
     ]
    }
   ],
   "source": [
    "!pip list"
   ]
  },
  {
   "cell_type": "markdown",
   "metadata": {
    "colab_type": "text",
    "id": "YyQKBXNNW9sL"
   },
   "source": [
    "## Виртуальное окружение\n",
    "\n",
    "Виртуальное окружение - это изолированное окружение среды, которое позволяет нам использовать определенные версии приложений.\n",
    "\n",
    "Все пакеты, работающие с виртуальным окружением решают одну проблему - они позволяют проектам, которые имеют различные (и часто конфликтующие) зависимости, сосуществовать на одной системе.\n",
    "\n",
    "Некоторые пакеты для работы с виртуальными окружениями:\n",
    "\n",
    "- **Virtualenv**\n",
    "\n",
    "`virtualenv` - стандартный пакет для работы с виртуальным окружением. Используется вместе с virtualenvwrapper для более удобной работы.\n",
    "\n",
    "Установка: `pip install virtualenv`\n",
    "\n",
    "\n",
    "- **Conda**\n",
    "\n",
    "Conda - пакетный менеджер, который также позволяет нам создавать виртуальные окружения.\n",
    "\n",
    "Начиная с Python 3.3 и 3.4, рекомендуемый способ создания виртуального пространства – это использование инструмента командной строки **pyvenv**, который также включен в инсталляцию Python 3 по умолчанию. Однако, в версии 3.6 и выше, вам нужен **python3 -m venv**."
   ]
  },
  {
   "cell_type": "markdown",
   "metadata": {
    "colab_type": "text",
    "id": "JFh_bdmtRt86"
   },
   "source": [
    "Новая виртуальная среда в **venv** создается при помощи команды:\n",
    "\n",
    "```\n",
    "python3 -m venv env\n",
    "```\n",
    "\n",
    "Эта команда создает каталог под названием \"env\", структура каталога которого схожа со следующей:\n",
    "\n",
    "```\n",
    "├── bin\n",
    "│   ├── activate\n",
    "│   ├── activate.csh\n",
    "│   ├── activate.fish\n",
    "│   ├── easy_install\n",
    "│   ├── easy_install-3.5\n",
    "│   ├── pip\n",
    "│   ├── pip3\n",
    "│   ├── pip3.5\n",
    "│   ├── python -> python3.5\n",
    "│   ├── python3 -> python3.5\n",
    "│   └── python3.5 -> /Library/Frameworks/Python.framework/Versions/3.5/bin/python3.5\n",
    "├── include\n",
    "├── lib\n",
    "│   └── python3.5\n",
    "│       └── site-packages\n",
    "└── pyvenv.cfg\n",
    "```\n",
    "\n",
    "- **bin** – файлы, которые взаимодействуют с виртуальной средой;\n",
    "- **include** – С-заголовки, компилирующие пакеты Python;\n",
    "- **lib** – копия версии Python вместе с папкой \"site-packages\", в которой установлена каждая зависимость.\n",
    "\n",
    "Чтобы использовать эти пакеты (или ресурсы) среды в изоляции, вам нужно «активировать» их, запустив скрипт **activate** в каталоге \"bin\":\n",
    "\n",
    "```\n",
    "source env/bin/activate\n",
    "```\n",
    "\n",
    "Приглашение командной строки теперь носит префикс вашей среды (в нашем случае – env). Это индикатор того, что env в данный момент активен, что в свою очередь говорит о том, что выполнимые файлы Python используют пакеты и настройки только этой среды.\n",
    "\n",
    "```\n",
    "(env) $\n",
    "```\n",
    "\n",
    "Находясь в одном из окружений, можно ставить пакеты через pip, как обычно:\n",
    "\n",
    "```\n",
    "pip install flask\n",
    "```\n",
    "\n",
    "Список зависимостей проекта принято сохранять в файл с именем requirements.txt:\n",
    "\n",
    "```\n",
    "pip3 freeze > requirements.txt\n",
    "```\n",
    "\n",
    "Этот подход позволяет одной командой установить все зависимости, необходимые проекту:\n",
    "\n",
    "```\n",
    "pip3 install -r requirements.txt\n",
    "```\n",
    "\n",
    "Команда **deactivate** возвращает назад в контекст «system»."
   ]
  }
 ],
 "metadata": {
  "colab": {
   "name": "topic08.ipynb",
   "provenance": []
  },
  "kernelspec": {
   "display_name": "Python 3",
   "language": "python",
   "name": "python3"
  },
  "language_info": {
   "codemirror_mode": {
    "name": "ipython",
    "version": 3
   },
   "file_extension": ".py",
   "mimetype": "text/x-python",
   "name": "python",
   "nbconvert_exporter": "python",
   "pygments_lexer": "ipython3",
   "version": "3.6.5"
  }
 },
 "nbformat": 4,
 "nbformat_minor": 1
}
