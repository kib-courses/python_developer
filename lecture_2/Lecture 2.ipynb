{
 "cells": [
  {
   "cell_type": "markdown",
   "metadata": {},
   "source": [
    "# Lecture 2 - continuation"
   ]
  },
  {
   "cell_type": "markdown",
   "metadata": {},
   "source": [
    "# Tuple + asterisk = many fun"
   ]
  },
  {
   "cell_type": "markdown",
   "metadata": {},
   "source": [
    "## Tuple unpacking  \n",
    "  \n",
    "Как мы помним, ```tuple``` - неизменяемый контейнер, хранящий каждый объект в заданной позиции  \n",
    "Python позволяет нам \"распаковывать\" кортеж в разного рода присвоениях:"
   ]
  },
  {
   "cell_type": "code",
   "execution_count": 1,
   "metadata": {},
   "outputs": [
    {
     "name": "stdout",
     "output_type": "stream",
     "text": [
      "3\n",
      "Playing 'Only for the Weak' from the album 'Clayman', composed by In Flames\n",
      "Playing 'Change (In the House of Flies)' from the album 'White Pony', composed by Deftones\n",
      "Playing 'Blood and Thunder' from the album 'Leviathan', composed by Mastodon\n"
     ]
    }
   ],
   "source": [
    "a, b = (1,2)\n",
    "print(a+b)\n",
    "\n",
    "songs = [\n",
    "    ('In Flames', 'Clayman', 'Only for the Weak'),\n",
    "    ('Deftones', 'White Pony', 'Change (In the House of Flies)'),\n",
    "    ('Mastodon', 'Leviathan', 'Blood and Thunder')\n",
    "]\n",
    "for band, album, track in songs:\n",
    "    print(\"Playing '%s' from the album '%s', composed by %s\" % (track, album, band))"
   ]
  },
  {
   "cell_type": "markdown",
   "metadata": {},
   "source": [
    "Более того, этот механизм работает на любых итерируемых значениях!  \n",
    "Вариативность принимает одно значение, обозначенное звездочкой\n"
   ]
  },
  {
   "cell_type": "code",
   "execution_count": 2,
   "metadata": {},
   "outputs": [
    {
     "ename": "SyntaxError",
     "evalue": "two starred expressions in assignment (<ipython-input-2-5c84fcfbaf6a>, line 4)",
     "output_type": "error",
     "traceback": [
      "\u001b[0;36m  File \u001b[0;32m\"<ipython-input-2-5c84fcfbaf6a>\"\u001b[0;36m, line \u001b[0;32m4\u001b[0m\n\u001b[0;31mSyntaxError\u001b[0m\u001b[0;31m:\u001b[0m two starred expressions in assignment\n"
     ]
    }
   ],
   "source": [
    "first_name, *secondary_names, *last_name = (\"Daniel\", \"Michael\", \"Blake\", \"Day-Lewis\")"
   ]
  },
  {
   "cell_type": "code",
   "execution_count": 3,
   "metadata": {},
   "outputs": [
    {
     "name": "stdout",
     "output_type": "stream",
     "text": [
      "del Toro Sánchez\n",
      "['Monserrate', 'Rafael']\n"
     ]
    }
   ],
   "source": [
    "first_name, *secondary_names, last_name = (\"Benicio\", \"Monserrate\", \"Rafael\", \"del Toro Sánchez\")\n",
    "print(last_name)\n",
    "print(secondary_names)"
   ]
  },
  {
   "cell_type": "code",
   "execution_count": 4,
   "metadata": {},
   "outputs": [
    {
     "name": "stdout",
     "output_type": "stream",
     "text": [
      "[803, 746, 1200]\n"
     ]
    }
   ],
   "source": [
    "item, *prices = ('Absolut', 803, 746, 1200)\n",
    "print(prices)"
   ]
  },
  {
   "cell_type": "markdown",
   "metadata": {},
   "source": [
    "Как насчет вложенных значений?  \n",
    "Без проблем, нужно задать присваивание на каждом уровне.  "
   ]
  },
  {
   "cell_type": "code",
   "execution_count": 5,
   "metadata": {},
   "outputs": [
    {
     "name": "stdout",
     "output_type": "stream",
     "text": [
      "'Only for the Weak' / 'Clayman' -- In Flames => released in 2000 by label 'Nuclear Blast'\n",
      "'Change (In the House of Flies)' / 'White Pony' -- Deftones => released in 2000 by label 'Maverick Recording Company'\n",
      "'Blood and Thunder' / 'Leviathan' -- Mastodon => released in 2004 by label 'Relapse'\n"
     ]
    }
   ],
   "source": [
    "songs = [\n",
    "    ('In Flames', 'Clayman', 'Only for the Weak', (2000, 'Nuclear Blast')),\n",
    "    ('Deftones', 'White Pony', 'Change (In the House of Flies)', (2000, 'Maverick Recording Company')),\n",
    "    ('Mastodon', 'Leviathan', 'Blood and Thunder', (2004, 'Relapse'))\n",
    "]\n",
    "for band, album, track, (year, label) in songs:\n",
    "    print(\"'%s' / '%s' -- %s => released in %d by label '%s'\" % (track, album, band, year, label))"
   ]
  },
  {
   "cell_type": "markdown",
   "metadata": {},
   "source": [
    "Вариативность также применяется на каждом уровне"
   ]
  },
  {
   "cell_type": "code",
   "execution_count": 6,
   "metadata": {},
   "outputs": [
    {
     "data": {
      "text/plain": [
       "['Nuclear Blast', 1, 2, 3]"
      ]
     },
     "execution_count": 6,
     "metadata": {},
     "output_type": "execute_result"
    }
   ],
   "source": [
    "band, album, track, (year, *label), *stuff = ('In Flames', 'Clayman', 'Only for the Weak', (2000, 'Nuclear Blast', 1,2,3), 7,8,9,)\n",
    "label"
   ]
  },
  {
   "cell_type": "code",
   "execution_count": 7,
   "metadata": {
    "scrolled": true
   },
   "outputs": [
    {
     "data": {
      "text/plain": [
       "[7, 8, 9]"
      ]
     },
     "execution_count": 7,
     "metadata": {},
     "output_type": "execute_result"
    }
   ],
   "source": [
    "stuff"
   ]
  },
  {
   "cell_type": "markdown",
   "metadata": {},
   "source": [
    "## Function signatures  "
   ]
  },
  {
   "cell_type": "markdown",
   "metadata": {},
   "source": [
    "Как мы помним с прошлой лекции, параметры для функции бывают позиционные и именованные.  "
   ]
  },
  {
   "cell_type": "code",
   "execution_count": 8,
   "metadata": {},
   "outputs": [],
   "source": [
    "def func(pos_arg1, pos_arg2, kw_arg1=None, kw_arg2=None):\n",
    "    pass"
   ]
  },
  {
   "cell_type": "markdown",
   "metadata": {},
   "source": [
    "Python обладает удивительно элегантной обработкой параметров функции"
   ]
  },
  {
   "cell_type": "code",
   "execution_count": 9,
   "metadata": {},
   "outputs": [
    {
     "name": "stdout",
     "output_type": "stream",
     "text": [
      "I do sum => 300\n",
      "Have no idea what to do with that: (1, 2, 3, 4, 5)\n",
      "And of course with those ones: {'mode': 'tractor'}\n",
      "Guess I have received param 'k' = No\n"
     ]
    }
   ],
   "source": [
    "def mega_function(a,b, *args, **kwargs):\n",
    "    print(\"I do sum => %d\" % (a+b))\n",
    "    print(\"Have no idea what to do with that: %s\" % str(args))\n",
    "    print(\"And of course with those ones: %s\" % str(kwargs))\n",
    "    print(\"Guess I have received param 'k' = %s\" % kwargs.get('k', 'No'))\n",
    "\n",
    "mega_function(150, 150, 1,2,3,4,5, mode='tractor')"
   ]
  },
  {
   "cell_type": "code",
   "execution_count": 10,
   "metadata": {},
   "outputs": [
    {
     "name": "stdout",
     "output_type": "stream",
     "text": [
      "I do sum => 400\n",
      "Have no idea what to do with that: (1, 2, 3, 4, 5)\n",
      "And of course with those ones: {'mode': 'tractor', 'k': 'Yes'}\n",
      "Guess I have received param 'k' = Yes\n"
     ]
    }
   ],
   "source": [
    "mega_function(150, 250, 1,2,3,4,5, mode='tractor', k='Yes')"
   ]
  },
  {
   "cell_type": "markdown",
   "metadata": {},
   "source": [
    "Эластичная сигнатура добавляет гибкость, если не известен заранее объем входных параметров.  \n",
    "Также это помогает обеспечить совместимость с функциями, которые зависит от определяемой функции.  \n",
    "На мой взгляд, сигнатура вида ```(*args, **kwargs)``` может снизить наглядность использования"
   ]
  },
  {
   "cell_type": "code",
   "execution_count": 60,
   "metadata": {},
   "outputs": [],
   "source": [
    "# Пример из реальной жизни\n",
    "from sqlalchemy import create_engine\n",
    "create_engine??"
   ]
  },
  {
   "cell_type": "markdown",
   "metadata": {},
   "source": [
    "Начиная с Python 3.0, появился keyword-only стиль.  \n",
    "Радость этого в том, что не надо выставлять keyword-параметру значение по умолчанию.  \n",
    "Позиционные и ключевые параметры разделяются все той же звездочкой"
   ]
  },
  {
   "cell_type": "code",
   "execution_count": 13,
   "metadata": {},
   "outputs": [
    {
     "name": "stdout",
     "output_type": "stream",
     "text": [
      "3\n"
     ]
    }
   ],
   "source": [
    "def my_func(a, *, b, **kwargs):\n",
    "    print(a+b)\n",
    "\n",
    "my_func(1,b=2)"
   ]
  },
  {
   "cell_type": "markdown",
   "metadata": {},
   "source": [
    "# Object  I  \n",
    "  \n",
    "(подробнее про объекты и классы у Ивана, 18.03)  \n",
    "  \n",
    "Все в Python является объектом.  \n",
    "Даже нативные вещи вроде int, byte-строк.  \n",
    "Почему?  \n",
    "\n",
    "Подсказка - CPython разработан на C\n",
    "\n",
    "Каждый объект имеет:\n",
    "    1. идентичность (зависит от интерпретатора, в CPython - адрес в памяти)\n",
    "    2. тип значения\n",
    "    3. собственно само значение  \n",
    "    4. счетчик ссылок\n",
    "    \n",
    "**Объект тождественен классу**  \n",
    "\n",
    "Счетчик ссылок инкрементируется при каждом обращении.\n",
    "\n",
    "Если счетчик ссылок обнуляется - память переменной помечается для удаления - **garbage collection**"
   ]
  },
  {
   "cell_type": "markdown",
   "metadata": {},
   "source": [
    "# Memory layout  \n",
    "  \n",
    "После этой ячейки Ваша жизнь питониста никогда не будет прежней"
   ]
  },
  {
   "cell_type": "markdown",
   "metadata": {},
   "source": [
    "## Stack and Heap  + PyMalloc\n",
    "При запуске исполняемого файла, созданный процесс получает адресное пространство (виртуальная адресация в защищенном режиме CPU).  \n",
    "https://www.kernel.org/doc/gorman/html/understand/understand007.html  \n",
    "  \n",
    "На большинcтве Unix-like системах полученное пространство разбивается на несколько секций:  \n",
    "* Text - машинный код  \n",
    "* Data - содержит инициазированные глобальные переменные  \n",
    "* BSS - неявно инициализированные глобальные переменные (нули/NULL)  \n",
    "* Stack - подчитывается при компиляции, на Linux - <= 8мб\n",
    "* Heap - практически бесконечна. Аллокаторы памяти увеличивают пространство кучи вызывая brk()\n",
    "\n",
    "![memlayout](./ipynb_content/memlayout.png)  \n",
    "  \n",
    "  \n",
    "**Stack**:  \n",
    "* LIFO-очередь. Каждый вызов создаюет новую запись в стеке - фрейм\n",
    "* У каждого потока процесса есть свой стек\n",
    "* Выделение памяти для объектов и последующее освобождение происходит автоматически  \n",
    "* Работать с переменными в стеке - быстро (если сравнить с кучей)  \n",
    "* Переменные в стеке жестко привязаны к размеру. Можно переполнить  \n",
    " \n",
    "<img src=\"./ipynb_content/stackoverflow.jpg\" alt=\"SO\" width=\"700\"/>\n",
    "  \n",
    "**Heap**  \n",
    "* Протяженная область памяти  \n",
    "* Получить оттуда память - через аллокатор (malloc,calloc,new,...)\n",
    "* Нужно не забывать вернуть (free, ...)\n"
   ]
  },
  {
   "cell_type": "markdown",
   "metadata": {},
   "source": [
    "**Python** хранит все объекты в выделенной зоне приватной кучи процесса интерпретатора. \n",
    "<img src=\"./ipynb_content/zones.png\" alt=\"Zones\" width=\"600\"/>\n",
    "\n",
    "Управление памятью - высокуровневое, каждый тип имеет свою стратегию выделения памяти.  \n",
    "На нижних уровнях работает pymalloc  \n",
    "\n",
    "<img src=\"./ipynb_content/hierarchy.png\" alt=\"Mem hierarchy\" width=\"700\"/>  \n",
    "  \n",
    "**pymalloc** оптимизирован для выделения памяти < 512 байт.  \n",
    "Для этого он разбивает память на арены (каждая по 256КБ).  \n",
    "Арена в свою очередь состоит из пулов по 4КБ, а они уже из блоков (по 8, 16, 24, ... байт - класс хранения)  \n",
    "```\n",
    "Арена (256КБ)\n",
    "|\n",
    "|__Пул (4КБ)\n",
    "   |\n",
    "   |__Блок (зависит от категории)\n",
    "```   \n",
    "\n",
    "Каждый класс хранения оптимизирован под определенный внутренний тип данных - int4, int8, char ...  \n",
    "  \n",
    "В зависимости от обстоятельств pymalloc выберет нужную арену и свободные пулы.  \n",
    "  \n",
    "**Память CPython освобождает аренами. Поэтому если память плохо освобождается, она может начать 'протекать'**\n",
    "(не так как в C/C++, но тоже ощутимо. Пока что ни один Garbage Collector не справится полностью с ними)\n",
    "  \n",
    "<img src=\"./ipynb_content/arena.png\" alt=\"Arena\" width=\"500\"/>   \n",
    "\n",
    "https://github.com/python/cpython/blob/master/Objects/obmalloc.c  \n",
    "Подробный обзор по obmalloc.c\n",
    "https://rushter.com/blog/python-memory-managment/  \n",
    "   \n",
    "Реализация списка:  \n",
    "https://github.com/python/cpython/blob/master/Objects/listobject.c  \n",
    "  \n",
    "Пища для размышления и огромное спасибо за картинку  \n",
    "https://stackoverflow.com/questions/18522574/cpython-memory-allocation\n",
    "\n",
    "\n"
   ]
  },
  {
   "cell_type": "markdown",
   "metadata": {},
   "source": [
    "# Stack machine  \n",
    "  \n",
    "<img src=\"./ipynb_content/machine.gif\" alt=\"SO\" width=\"500\"/>  \n",
    "  \n",
    "Многие интепретируемые языки (в том числе и **Python**) реализуют стек-машину.  \n",
    "Принцип прост - на вершину стека в нужной последовательности закидываются объекты (переменные, функции, методы).  \n",
    "Затем исполняем команду (**opcode**), которая забирает для себя нужное число операндов.  \n",
    "Команда может вернуть итоговое значение на вершину стека.  \n",
    "  \n",
    "  \n",
    "  \n",
    "Каждый вложенный вызов порождает новый фрейм (элемент стека)"
   ]
  },
  {
   "cell_type": "markdown",
   "metadata": {},
   "source": [
    "## Python bytecode  \n",
    "\n",
    "Компиляция в байткод происходит:  \n",
    "* собственно при запуске (python my_script.py)  \n",
    "* при импорте компилируемого модуля (при этом сохраняется \\*.pyc-файл)\n",
    "* при вызове метода compile()"
   ]
  },
  {
   "cell_type": "markdown",
   "metadata": {},
   "source": [
    "Для наших манипуляция отлично подойдет **compile**  \n",
    "  \n",
    "  \n",
    "```compile(source, filename, mode, **kwargs)```  \n",
    "  \n",
    "* Код пользователя подается через source/filename\n",
    "* ```mode``` - что компилируем? \n",
    "    * exec - последовательность выражений\n",
    "    * eval - одно выражение\n",
    "    * single - одно интерактивное выражение  \n",
    "    \n",
    "Нв выходе получим объект типа ```code```"
   ]
  },
  {
   "cell_type": "code",
   "execution_count": 14,
   "metadata": {},
   "outputs": [
    {
     "data": {
      "text/plain": [
       "code"
      ]
     },
     "execution_count": 14,
     "metadata": {},
     "output_type": "execute_result"
    }
   ],
   "source": [
    "src_code = \"\"\"a = 123\n",
    "b = 12\n",
    "c = a+b\n",
    "print(\"c is {}\".format(c))\n",
    "\"\"\"\n",
    "\n",
    "ccode = compile(src_code, \"\", mode='exec')\n",
    "type(ccode)"
   ]
  },
  {
   "cell_type": "markdown",
   "metadata": {},
   "source": [
    "Самые полезные атрибуты объекта ```code```:    \n",
    "\n",
    "|    Атрибут    |Назначение                                           |\n",
    "| -------------- |----------------------------------------------------|\n",
    "|```co_consts```|кортеж из констант, используемых конкретным байткодом|\n",
    "|```co_names```|кортеж из глобальных переменных|\n",
    "|```co_varnames```|кортеж из локальных переменных|\n",
    "|```co_code```|собственно сам байткод|\n"
   ]
  },
  {
   "cell_type": "code",
   "execution_count": 56,
   "metadata": {},
   "outputs": [
    {
     "data": {
      "text/plain": [
       "(123, 12, 'c is {}', None)"
      ]
     },
     "execution_count": 56,
     "metadata": {},
     "output_type": "execute_result"
    }
   ],
   "source": [
    "ccode.co_consts"
   ]
  },
  {
   "cell_type": "code",
   "execution_count": 57,
   "metadata": {},
   "outputs": [
    {
     "data": {
      "text/plain": [
       "('a', 'b', 'c', 'print', 'format')"
      ]
     },
     "execution_count": 57,
     "metadata": {},
     "output_type": "execute_result"
    }
   ],
   "source": [
    "ccode.co_names"
   ]
  },
  {
   "cell_type": "code",
   "execution_count": 58,
   "metadata": {
    "scrolled": true
   },
   "outputs": [
    {
     "data": {
      "text/plain": [
       "()"
      ]
     },
     "execution_count": 58,
     "metadata": {},
     "output_type": "execute_result"
    }
   ],
   "source": [
    "ccode.co_varnames"
   ]
  },
  {
   "cell_type": "code",
   "execution_count": 59,
   "metadata": {},
   "outputs": [
    {
     "data": {
      "text/plain": [
       "b'd\\x00Z\\x00d\\x01Z\\x01e\\x00e\\x01\\x17\\x00Z\\x02e\\x03d\\x02\\xa0\\x04e\\x02\\xa1\\x01\\x83\\x01\\x01\\x00d\\x03S\\x00'"
      ]
     },
     "execution_count": 59,
     "metadata": {},
     "output_type": "execute_result"
    }
   ],
   "source": [
    "ccode.co_code"
   ]
  },
  {
   "cell_type": "markdown",
   "metadata": {},
   "source": [
    "Давайте раскодируем байткод!  \n"
   ]
  },
  {
   "cell_type": "code",
   "execution_count": 15,
   "metadata": {},
   "outputs": [],
   "source": [
    "# Мы поговорим за генераторы чуть позже\n",
    "import dis \n",
    "\n",
    "def unpack_op(bytecode): \n",
    "    extended_arg = 0\n",
    "    for i in range(0, len(bytecode), 2):\n",
    "        opcode = bytecode[i]\n",
    "        if opcode >= dis.HAVE_ARGUMENT:\n",
    "            oparg = bytecode[i+1] | extended_arg\n",
    "            extended_arg = (oparg << 8) if opcode == dis.EXTENDED_ARG else 0\n",
    "        else:\n",
    "            oparg = None\n",
    "        yield (i, opcode, oparg)"
   ]
  },
  {
   "cell_type": "code",
   "execution_count": 16,
   "metadata": {},
   "outputs": [
    {
     "name": "stdout",
     "output_type": "stream",
     "text": [
      " 0  100      0\n",
      " 2   90      0\n",
      " 4  100      1\n",
      " 6   90      1\n",
      " 8  101      0\n",
      "10  101      1\n",
      "12   23   None\n",
      "14   90      2\n",
      "16  101      3\n",
      "18  100      2\n",
      "20  160      4\n",
      "22  101      2\n",
      "24  161      1\n",
      "26  131      1\n",
      "28    1   None\n",
      "30  100      3\n",
      "32   83   None\n"
     ]
    }
   ],
   "source": [
    "for offset, opcode, oparg in unpack_op(ccode.co_code):\n",
    "    arg = 'None' if oparg is None else oparg\n",
    "    outs = '{:>2}  {:>3}  {:>5}'.format(offset, opcode, arg)\n",
    "    print(outs)"
   ]
  },
  {
   "cell_type": "code",
   "execution_count": 17,
   "metadata": {},
   "outputs": [
    {
     "name": "stdout",
     "output_type": "stream",
     "text": [
      " 0       LOAD_CONST      0\n",
      " 2       STORE_NAME      0\n",
      " 4       LOAD_CONST      1\n",
      " 6       STORE_NAME      1\n",
      " 8        LOAD_NAME      0\n",
      "10        LOAD_NAME      1\n",
      "12       BINARY_ADD   None\n",
      "14       STORE_NAME      2\n",
      "16        LOAD_NAME      3\n",
      "18       LOAD_CONST      2\n",
      "20      LOAD_METHOD      4\n",
      "22        LOAD_NAME      2\n",
      "24      CALL_METHOD      1\n",
      "26    CALL_FUNCTION      1\n",
      "28          POP_TOP   None\n",
      "30       LOAD_CONST      3\n",
      "32     RETURN_VALUE   None\n"
     ]
    }
   ],
   "source": [
    "for offset, opcode, oparg in unpack_op(ccode.co_code):\n",
    "    arg = 'None' if oparg is None else oparg\n",
    "    outs = '{:>2}  {:>15}  {:>5}'.format(offset, dis.opname[opcode], arg)\n",
    "    print(outs)"
   ]
  },
  {
   "cell_type": "markdown",
   "metadata": {},
   "source": [
    "**Описание использованных опкодов**   \n",
    "https://docs.python.org/3/library/dis.html#python-bytecode-instructions  \n",
    "  \n",
    "  **TOS** (top of stack)  \n",
    "  Приcвоить TOS - закинуть элемент на вершину стека\n",
    "\n",
    "\n",
    "|opcode|description|arguments|  \n",
    "|------|-----------|---------|\n",
    "|LOAD_CONST|TOS = константа из ```co_consts```|индекс константы\n",
    "|LOAD_NAME|TOS = значение переменной из ```co_names```|индекс переменной\n",
    "|STORE_NAME|Переменная из ```co_names``` = TOS|индекс переменной\n",
    "|BINARY_ADD|Сложение двух верхних элементов стека|нет параметров\n",
    "|CALL_FUNCTION|Вызов функции с указанием числа параметров|число параметров\n",
    "|CALL_METHOD|Вызов метода объекта с указанием числа параметров|число параметров\n",
    "|POP_TOP|удаление текущего TOS|\n",
    "|RETURN_VALUE|вернуть текущий TOS родительскому вызову"
   ]
  },
  {
   "cell_type": "markdown",
   "metadata": {},
   "source": [
    "Байт-код CPython, в отличии от Java Virtual Machine, не совместим между разными версиями.  \n",
    "Но это не беда, Python - по настоящему интепретируемый ЯП!  \n",
    "  \n",
    "Чтобы получить красивую декомпиляцию со всеми тонкостями используемой версии, воспользуемся модулем **dis** из стандартной библиотеки"
   ]
  },
  {
   "cell_type": "code",
   "execution_count": 18,
   "metadata": {},
   "outputs": [
    {
     "name": "stdout",
     "output_type": "stream",
     "text": [
      "0   a = 123\n",
      "1   b = 12\n",
      "2   c = a+b\n",
      "3   print(\"c is {}\".format(c))\n",
      "4   \n"
     ]
    }
   ],
   "source": [
    "# исходная нумерация строк\n",
    "for i,s in enumerate(src_code.split(\"\\n\")):\n",
    "    print(\"{}   {}\".format(i,s))"
   ]
  },
  {
   "cell_type": "code",
   "execution_count": 19,
   "metadata": {
    "scrolled": false
   },
   "outputs": [
    {
     "name": "stdout",
     "output_type": "stream",
     "text": [
      "  1           0 LOAD_CONST               0 (123)\n",
      "              2 STORE_NAME               0 (a)\n",
      "\n",
      "  2           4 LOAD_CONST               1 (12)\n",
      "              6 STORE_NAME               1 (b)\n",
      "\n",
      "  3           8 LOAD_NAME                0 (a)\n",
      "             10 LOAD_NAME                1 (b)\n",
      "             12 BINARY_ADD\n",
      "             14 STORE_NAME               2 (c)\n",
      "\n",
      "  4          16 LOAD_NAME                3 (print)\n",
      "             18 LOAD_CONST               2 ('c is {}')\n",
      "             20 LOAD_METHOD              4 (format)\n",
      "             22 LOAD_NAME                2 (c)\n",
      "             24 CALL_METHOD              1\n",
      "             26 CALL_FUNCTION            1\n",
      "             28 POP_TOP\n",
      "             30 LOAD_CONST               3 (None)\n",
      "             32 RETURN_VALUE\n",
      "\n",
      "\n",
      "\n",
      " [TODO] Визуализация выполнения - на доске\n"
     ]
    }
   ],
   "source": [
    "import dis\n",
    "from dis import dis as disasm\n",
    "\n",
    "# dis сохраняет порядок строк\n",
    "disasm(src_code)\n",
    "\n",
    "print(\"\\n\\n\\n [TODO] Визуализация выполнения - на доске\")"
   ]
  },
  {
   "cell_type": "markdown",
   "metadata": {},
   "source": [
    "# Objects II"
   ]
  },
  {
   "cell_type": "markdown",
   "metadata": {},
   "source": [
    "Давайте уясним одну вещь.  \n",
    "Переменная в Python (и любом современном языке) - указатель на объект (некая область в памяти).  \n",
    "Переменная сама по себе не является контейнером для объектов  \n",
    "  \n",
    "<img src=\"./ipynb_content/sticker.png\" alt=\"SO\" width=\"700\"/>  "
   ]
  },
  {
   "cell_type": "markdown",
   "metadata": {},
   "source": [
    "Парадигмы передачи объектов: "
   ]
  },
  {
   "cell_type": "markdown",
   "metadata": {},
   "source": [
    "## Call by reference  \n",
    "  \n",
    "<img src=\"./ipynb_content/cbr.jpg\" alt=\"SO\" width=\"500\"/>  "
   ]
  },
  {
   "cell_type": "markdown",
   "metadata": {},
   "source": [
    "## Call by value  \n",
    "\n",
    "<img src=\"./ipynb_content/cbv.jpg\" alt=\"SO\" width=\"500\"/>  \n",
    "  \n",
    "  \n",
    "Thanks to https://robertheaton.com/2014/02/09/pythons-pass-by-object-reference-as-explained-by-philip-k-dick/"
   ]
  },
  {
   "cell_type": "markdown",
   "metadata": {},
   "source": [
    "## Variable Scopes  \n",
    "  \n",
    "В **Python** предусмотрено три ключевых слова, определяющих зону действия переменной:  \n",
    "* global\n",
    "* local\n",
    "* nonlocal"
   ]
  },
  {
   "cell_type": "markdown",
   "metadata": {},
   "source": [
    "### global"
   ]
  },
  {
   "cell_type": "code",
   "execution_count": 20,
   "metadata": {},
   "outputs": [
    {
     "name": "stdout",
     "output_type": "stream",
     "text": [
      "1\n"
     ]
    }
   ],
   "source": [
    "a = 1\n",
    "def f1():\n",
    "    print(a)\n",
    "f1()"
   ]
  },
  {
   "cell_type": "code",
   "execution_count": 21,
   "metadata": {},
   "outputs": [
    {
     "name": "stdout",
     "output_type": "stream",
     "text": [
      "  1           0 LOAD_CONST               0 (1)\n",
      "              2 STORE_NAME               0 (a)\n",
      "\n",
      "  2           4 LOAD_CONST               1 (<code object f1 at 0x1120648a0, file \"<dis>\", line 2>)\n",
      "              6 LOAD_CONST               2 ('f1')\n",
      "              8 MAKE_FUNCTION            0\n",
      "             10 STORE_NAME               1 (f1)\n",
      "\n",
      "  4          12 LOAD_NAME                1 (f1)\n",
      "             14 CALL_FUNCTION            0\n",
      "             16 POP_TOP\n",
      "             18 LOAD_CONST               3 (None)\n",
      "             20 RETURN_VALUE\n",
      "\n",
      "Disassembly of <code object f1 at 0x1120648a0, file \"<dis>\", line 2>:\n",
      "  3           0 LOAD_GLOBAL              0 (print)\n",
      "              2 LOAD_GLOBAL              1 (a)\n",
      "              4 CALL_FUNCTION            1\n",
      "              6 POP_TOP\n",
      "              8 LOAD_CONST               0 (None)\n",
      "             10 RETURN_VALUE\n"
     ]
    }
   ],
   "source": [
    "disasm(\"\"\"a = 1\n",
    "def f1():\n",
    "    print(a)\n",
    "f1()\"\"\")"
   ]
  },
  {
   "cell_type": "code",
   "execution_count": 22,
   "metadata": {},
   "outputs": [
    {
     "name": "stdout",
     "output_type": "stream",
     "text": [
      "1000\n"
     ]
    }
   ],
   "source": [
    "# изменим глобальную переменную\n",
    "a = 1\n",
    "def f1():\n",
    "    global a\n",
    "    a *= 1000\n",
    "    print(a)\n",
    "f1()"
   ]
  },
  {
   "cell_type": "code",
   "execution_count": 23,
   "metadata": {},
   "outputs": [
    {
     "name": "stdout",
     "output_type": "stream",
     "text": [
      "  1           0 LOAD_CONST               0 (1)\n",
      "              2 STORE_GLOBAL             0 (a)\n",
      "\n",
      "  2           4 LOAD_CONST               1 (<code object f1 at 0x112064270, file \"<dis>\", line 2>)\n",
      "              6 LOAD_CONST               2 ('f1')\n",
      "              8 MAKE_FUNCTION            0\n",
      "             10 STORE_NAME               1 (f1)\n",
      "\n",
      "  6          12 LOAD_NAME                1 (f1)\n",
      "             14 CALL_FUNCTION            0\n",
      "             16 POP_TOP\n",
      "             18 LOAD_CONST               3 (None)\n",
      "             20 RETURN_VALUE\n",
      "\n",
      "Disassembly of <code object f1 at 0x112064270, file \"<dis>\", line 2>:\n",
      "  4           0 LOAD_GLOBAL              0 (a)\n",
      "              2 LOAD_CONST               1 (1000)\n",
      "              4 INPLACE_MULTIPLY\n",
      "              6 STORE_GLOBAL             0 (a)\n",
      "\n",
      "  5           8 LOAD_GLOBAL              1 (print)\n",
      "             10 LOAD_GLOBAL              0 (a)\n",
      "             12 CALL_FUNCTION            1\n",
      "             14 POP_TOP\n",
      "             16 LOAD_CONST               0 (None)\n",
      "             18 RETURN_VALUE\n"
     ]
    }
   ],
   "source": [
    "disasm(\"\"\"a = 1\n",
    "def f1():\n",
    "    global a\n",
    "    a *= 1000\n",
    "    print(a)\n",
    "f1()\"\"\")"
   ]
  },
  {
   "cell_type": "markdown",
   "metadata": {},
   "source": [
    "### local"
   ]
  },
  {
   "cell_type": "code",
   "execution_count": 24,
   "metadata": {},
   "outputs": [
    {
     "name": "stdout",
     "output_type": "stream",
     "text": [
      "2\n"
     ]
    }
   ],
   "source": [
    "a = 1\n",
    "def f1():\n",
    "    a = 2\n",
    "    print(a)\n",
    "f1()"
   ]
  },
  {
   "cell_type": "code",
   "execution_count": 25,
   "metadata": {
    "scrolled": false
   },
   "outputs": [
    {
     "name": "stdout",
     "output_type": "stream",
     "text": [
      "  1           0 LOAD_CONST               0 (1)\n",
      "              2 STORE_NAME               0 (a)\n",
      "\n",
      "  2           4 LOAD_CONST               1 (<code object f1 at 0x112064f60, file \"<dis>\", line 2>)\n",
      "              6 LOAD_CONST               2 ('f1')\n",
      "              8 MAKE_FUNCTION            0\n",
      "             10 STORE_NAME               1 (f1)\n",
      "\n",
      "  5          12 LOAD_NAME                1 (f1)\n",
      "             14 CALL_FUNCTION            0\n",
      "             16 POP_TOP\n",
      "             18 LOAD_CONST               3 (None)\n",
      "             20 RETURN_VALUE\n",
      "\n",
      "Disassembly of <code object f1 at 0x112064f60, file \"<dis>\", line 2>:\n",
      "  3           0 LOAD_CONST               1 (2)\n",
      "              2 STORE_FAST               0 (a)\n",
      "\n",
      "  4           4 LOAD_GLOBAL              0 (print)\n",
      "              6 LOAD_FAST                0 (a)\n",
      "              8 CALL_FUNCTION            1\n",
      "             10 POP_TOP\n",
      "             12 LOAD_CONST               0 (None)\n",
      "             14 RETURN_VALUE\n"
     ]
    }
   ],
   "source": [
    "disasm(\"\"\"a = 1\n",
    "def f1():\n",
    "    a = 2\n",
    "    print(a)\n",
    "f1()\"\"\")"
   ]
  },
  {
   "cell_type": "code",
   "execution_count": 26,
   "metadata": {},
   "outputs": [
    {
     "ename": "UnboundLocalError",
     "evalue": "local variable 'a' referenced before assignment",
     "output_type": "error",
     "traceback": [
      "\u001b[0;31m---------------------------------------------------------------------------\u001b[0m",
      "\u001b[0;31mUnboundLocalError\u001b[0m                         Traceback (most recent call last)",
      "\u001b[0;32m<ipython-input-26-f5776ddb1328>\u001b[0m in \u001b[0;36m<module>\u001b[0;34m\u001b[0m\n\u001b[1;32m      3\u001b[0m     \u001b[0mprint\u001b[0m\u001b[0;34m(\u001b[0m\u001b[0ma\u001b[0m\u001b[0;34m)\u001b[0m\u001b[0;34m\u001b[0m\u001b[0;34m\u001b[0m\u001b[0m\n\u001b[1;32m      4\u001b[0m     \u001b[0ma\u001b[0m \u001b[0;34m=\u001b[0m \u001b[0;36m2\u001b[0m\u001b[0;34m\u001b[0m\u001b[0;34m\u001b[0m\u001b[0m\n\u001b[0;32m----> 5\u001b[0;31m \u001b[0mf1\u001b[0m\u001b[0;34m(\u001b[0m\u001b[0;34m)\u001b[0m\u001b[0;34m\u001b[0m\u001b[0;34m\u001b[0m\u001b[0m\n\u001b[0m",
      "\u001b[0;32m<ipython-input-26-f5776ddb1328>\u001b[0m in \u001b[0;36mf1\u001b[0;34m()\u001b[0m\n\u001b[1;32m      1\u001b[0m \u001b[0ma\u001b[0m \u001b[0;34m=\u001b[0m \u001b[0;36m1\u001b[0m\u001b[0;34m\u001b[0m\u001b[0;34m\u001b[0m\u001b[0m\n\u001b[1;32m      2\u001b[0m \u001b[0;32mdef\u001b[0m \u001b[0mf1\u001b[0m\u001b[0;34m(\u001b[0m\u001b[0;34m)\u001b[0m\u001b[0;34m:\u001b[0m\u001b[0;34m\u001b[0m\u001b[0;34m\u001b[0m\u001b[0m\n\u001b[0;32m----> 3\u001b[0;31m     \u001b[0mprint\u001b[0m\u001b[0;34m(\u001b[0m\u001b[0ma\u001b[0m\u001b[0;34m)\u001b[0m\u001b[0;34m\u001b[0m\u001b[0;34m\u001b[0m\u001b[0m\n\u001b[0m\u001b[1;32m      4\u001b[0m     \u001b[0ma\u001b[0m \u001b[0;34m=\u001b[0m \u001b[0;36m2\u001b[0m\u001b[0;34m\u001b[0m\u001b[0;34m\u001b[0m\u001b[0m\n\u001b[1;32m      5\u001b[0m \u001b[0mf1\u001b[0m\u001b[0;34m(\u001b[0m\u001b[0;34m)\u001b[0m\u001b[0;34m\u001b[0m\u001b[0;34m\u001b[0m\u001b[0m\n",
      "\u001b[0;31mUnboundLocalError\u001b[0m: local variable 'a' referenced before assignment"
     ]
    }
   ],
   "source": [
    "a = 1\n",
    "def f1():\n",
    "    print(a)\n",
    "    a = 2\n",
    "f1()"
   ]
  },
  {
   "cell_type": "code",
   "execution_count": 27,
   "metadata": {},
   "outputs": [
    {
     "name": "stdout",
     "output_type": "stream",
     "text": [
      "  1           0 LOAD_CONST               0 (1)\n",
      "              2 STORE_NAME               0 (a)\n",
      "\n",
      "  2           4 LOAD_CONST               1 (<code object f1 at 0x1120e0030, file \"<dis>\", line 2>)\n",
      "              6 LOAD_CONST               2 ('f1')\n",
      "              8 MAKE_FUNCTION            0\n",
      "             10 STORE_NAME               1 (f1)\n",
      "\n",
      "  5          12 LOAD_NAME                1 (f1)\n",
      "             14 CALL_FUNCTION            0\n",
      "             16 POP_TOP\n",
      "             18 LOAD_CONST               3 (None)\n",
      "             20 RETURN_VALUE\n",
      "\n",
      "Disassembly of <code object f1 at 0x1120e0030, file \"<dis>\", line 2>:\n",
      "  3           0 LOAD_GLOBAL              0 (print)\n",
      "              2 LOAD_FAST                0 (a)\n",
      "              4 CALL_FUNCTION            1\n",
      "              6 POP_TOP\n",
      "\n",
      "  4           8 LOAD_CONST               1 (2)\n",
      "             10 STORE_FAST               0 (a)\n",
      "             12 LOAD_CONST               0 (None)\n",
      "             14 RETURN_VALUE\n"
     ]
    }
   ],
   "source": [
    "disasm(\"\"\"a = 1\n",
    "def f1():\n",
    "    print(a)\n",
    "    a = 2\n",
    "f1()\"\"\")"
   ]
  },
  {
   "cell_type": "markdown",
   "metadata": {},
   "source": [
    "### nonlocal and closure"
   ]
  },
  {
   "cell_type": "code",
   "execution_count": 63,
   "metadata": {},
   "outputs": [],
   "source": [
    "# TODO - скользящее среднее -> иллюстрация на доске\n",
    "def make_rolling_avg():\n",
    "    count = 0\n",
    "    total = 0\n",
    "    \n",
    "    def avg(new_val):\n",
    "        count += 1\n",
    "        total += new_val;\n",
    "        return total / count\n",
    "    \n",
    "    return avg"
   ]
  },
  {
   "cell_type": "code",
   "execution_count": 64,
   "metadata": {},
   "outputs": [
    {
     "ename": "UnboundLocalError",
     "evalue": "local variable 'count' referenced before assignment",
     "output_type": "error",
     "traceback": [
      "\u001b[0;31m---------------------------------------------------------------------------\u001b[0m",
      "\u001b[0;31mUnboundLocalError\u001b[0m                         Traceback (most recent call last)",
      "\u001b[0;32m<ipython-input-64-020e2b7a5a10>\u001b[0m in \u001b[0;36m<module>\u001b[0;34m\u001b[0m\n\u001b[1;32m      1\u001b[0m \u001b[0mavg\u001b[0m \u001b[0;34m=\u001b[0m \u001b[0mmake_rolling_avg\u001b[0m\u001b[0;34m(\u001b[0m\u001b[0;34m)\u001b[0m\u001b[0;34m\u001b[0m\u001b[0;34m\u001b[0m\u001b[0m\n\u001b[1;32m      2\u001b[0m \u001b[0;31m# TODO uncomment me\u001b[0m\u001b[0;34m\u001b[0m\u001b[0;34m\u001b[0m\u001b[0;34m\u001b[0m\u001b[0m\n\u001b[0;32m----> 3\u001b[0;31m \u001b[0mavg\u001b[0m\u001b[0;34m(\u001b[0m\u001b[0;36m1\u001b[0m\u001b[0;34m)\u001b[0m\u001b[0;34m\u001b[0m\u001b[0;34m\u001b[0m\u001b[0m\n\u001b[0m",
      "\u001b[0;32m<ipython-input-63-37b29e7bf897>\u001b[0m in \u001b[0;36mavg\u001b[0;34m(new_val)\u001b[0m\n\u001b[1;32m      5\u001b[0m \u001b[0;34m\u001b[0m\u001b[0m\n\u001b[1;32m      6\u001b[0m     \u001b[0;32mdef\u001b[0m \u001b[0mavg\u001b[0m\u001b[0;34m(\u001b[0m\u001b[0mnew_val\u001b[0m\u001b[0;34m)\u001b[0m\u001b[0;34m:\u001b[0m\u001b[0;34m\u001b[0m\u001b[0;34m\u001b[0m\u001b[0m\n\u001b[0;32m----> 7\u001b[0;31m         \u001b[0mcount\u001b[0m \u001b[0;34m+=\u001b[0m \u001b[0;36m1\u001b[0m\u001b[0;34m\u001b[0m\u001b[0;34m\u001b[0m\u001b[0m\n\u001b[0m\u001b[1;32m      8\u001b[0m         \u001b[0mtotal\u001b[0m \u001b[0;34m+=\u001b[0m \u001b[0mnew_val\u001b[0m\u001b[0;34m;\u001b[0m\u001b[0;34m\u001b[0m\u001b[0;34m\u001b[0m\u001b[0m\n\u001b[1;32m      9\u001b[0m         \u001b[0;32mreturn\u001b[0m \u001b[0mtotal\u001b[0m \u001b[0;34m/\u001b[0m \u001b[0mcount\u001b[0m\u001b[0;34m\u001b[0m\u001b[0;34m\u001b[0m\u001b[0m\n",
      "\u001b[0;31mUnboundLocalError\u001b[0m: local variable 'count' referenced before assignment"
     ]
    }
   ],
   "source": [
    "avg = make_rolling_avg()\n",
    "# TODO uncomment me\n",
    "avg(1)"
   ]
  },
  {
   "cell_type": "markdown",
   "metadata": {},
   "source": [
    "**Что не так с этой функцией?**  \n",
    "|  \n",
    "|  \n",
    "|  \n",
    "|  \n",
    "  "
   ]
  },
  {
   "cell_type": "markdown",
   "metadata": {},
   "source": [
    "Переменные ```count, total``` есть в скоупах обеих функций.  \n",
    "Нужно, чтобы ```avg``` работал с внешними переменными.  \n",
    "Они для нее ни локальные, ни глобальные.  \n",
    "Что остается? **nonlocal**"
   ]
  },
  {
   "cell_type": "code",
   "execution_count": 65,
   "metadata": {},
   "outputs": [],
   "source": [
    "def make_rolling_avg():\n",
    "    count = 0\n",
    "    total = 0\n",
    "    \n",
    "    def avg(new_val):\n",
    "        nonlocal count, total\n",
    "        count += 1\n",
    "        total += new_val;\n",
    "        return total / count\n",
    "    \n",
    "    return avg"
   ]
  },
  {
   "cell_type": "code",
   "execution_count": 66,
   "metadata": {},
   "outputs": [
    {
     "name": "stdout",
     "output_type": "stream",
     "text": [
      "2.0 3.0\n"
     ]
    }
   ],
   "source": [
    "avg2 = make_rolling_avg()\n",
    "print(avg2(2), avg2(4))"
   ]
  },
  {
   "cell_type": "code",
   "execution_count": 67,
   "metadata": {},
   "outputs": [
    {
     "name": "stdout",
     "output_type": "stream",
     "text": [
      "  7           0 LOAD_DEREF               0 (count)\n",
      "              2 LOAD_CONST               1 (1)\n",
      "              4 INPLACE_ADD\n",
      "              6 STORE_DEREF              0 (count)\n",
      "\n",
      "  8           8 LOAD_DEREF               1 (total)\n",
      "             10 LOAD_FAST                0 (new_val)\n",
      "             12 INPLACE_ADD\n",
      "             14 STORE_DEREF              1 (total)\n",
      "\n",
      "  9          16 LOAD_DEREF               1 (total)\n",
      "             18 LOAD_DEREF               0 (count)\n",
      "             20 BINARY_TRUE_DIVIDE\n",
      "             22 RETURN_VALUE\n"
     ]
    }
   ],
   "source": [
    "disasm(avg2)"
   ]
  },
  {
   "cell_type": "markdown",
   "metadata": {},
   "source": [
    "LOAD_DEREF(i)\n",
    "\n",
    "    Loads the cell contained in slot i of the cell and free variable storage. Pushes a reference to the object the cell contains on the stack.\n",
    "  \n",
    "Свободная переменная - локальная переменная внешней функции, запрашиваемая вложенной"
   ]
  },
  {
   "cell_type": "markdown",
   "metadata": {},
   "source": [
    "**Вывод**  \n",
    "```avg``` сохраняет доступ к внешним переменным, даже после того как породившая их функция была задана   \n",
    "  \n",
    "```avg``` - **замыкание**"
   ]
  },
  {
   "cell_type": "markdown",
   "metadata": {},
   "source": [
    "## Copy.copy()"
   ]
  },
  {
   "cell_type": "markdown",
   "metadata": {},
   "source": [
    "### Shallow copies"
   ]
  },
  {
   "cell_type": "code",
   "execution_count": 33,
   "metadata": {},
   "outputs": [
    {
     "data": {
      "text/plain": [
       "True"
      ]
     },
     "execution_count": 33,
     "metadata": {},
     "output_type": "execute_result"
    }
   ],
   "source": [
    "a = [1,2,[3,4]]\n",
    "b = list(a)\n",
    "a[2] is b[2]"
   ]
  },
  {
   "cell_type": "markdown",
   "metadata": {},
   "source": [
    "<img src=\"./ipynb_content/shallow.png\" alt=\"SO\" width=\"500\"/>  "
   ]
  },
  {
   "cell_type": "markdown",
   "metadata": {},
   "source": [
    "### Deep copies"
   ]
  },
  {
   "cell_type": "code",
   "execution_count": 34,
   "metadata": {},
   "outputs": [
    {
     "data": {
      "text/plain": [
       "False"
      ]
     },
     "execution_count": 34,
     "metadata": {},
     "output_type": "execute_result"
    }
   ],
   "source": [
    "from copy import deepcopy\n",
    "a = [1,2,[3,4]]\n",
    "b = deepcopy(a)\n",
    "a[2] is b[2]"
   ]
  },
  {
   "cell_type": "code",
   "execution_count": 35,
   "metadata": {},
   "outputs": [
    {
     "name": "stdout",
     "output_type": "stream",
     "text": [
      "4597363280\n",
      "4597363280\n"
     ]
    },
    {
     "data": {
      "text/plain": [
       "1002302"
      ]
     },
     "execution_count": 35,
     "metadata": {},
     "output_type": "execute_result"
    }
   ],
   "source": [
    "def func(i):\n",
    "    print(id(i))\n",
    "    return 2+i\n",
    "\n",
    "base = 1002300\n",
    "print(id(base))\n",
    "func(base)"
   ]
  },
  {
   "cell_type": "markdown",
   "metadata": {},
   "source": [
    "https://robertheaton.com/2014/02/09/pythons-pass-by-object-reference-as-explained-by-philip-k-dick/"
   ]
  },
  {
   "cell_type": "markdown",
   "metadata": {},
   "source": [
    "## Equality and identity  \n",
    "  \n",
    "В каждого объекта есть идентификатор. \n",
    "В CPython - адрес в памяти  \n",
    "  \n",
    "  \n",
    "Идентичность проверяется по ```id()```\n",
    "Равенство - ```==```"
   ]
  },
  {
   "cell_type": "markdown",
   "metadata": {},
   "source": [
    "**Вопрос для внимательных** - почему None is None == True?"
   ]
  },
  {
   "cell_type": "code",
   "execution_count": 36,
   "metadata": {},
   "outputs": [
    {
     "data": {
      "text/plain": [
       "True"
      ]
     },
     "execution_count": 36,
     "metadata": {},
     "output_type": "execute_result"
    }
   ],
   "source": [
    "None is None"
   ]
  },
  {
   "cell_type": "code",
   "execution_count": 37,
   "metadata": {},
   "outputs": [
    {
     "data": {
      "text/plain": [
       "True"
      ]
     },
     "execution_count": 37,
     "metadata": {},
     "output_type": "execute_result"
    }
   ],
   "source": [
    "NotImplemented is NotImplemented"
   ]
  },
  {
   "cell_type": "markdown",
   "metadata": {},
   "source": [
    "**Identity**"
   ]
  },
  {
   "cell_type": "code",
   "execution_count": 38,
   "metadata": {
    "scrolled": true
   },
   "outputs": [
    {
     "data": {
      "text/plain": [
       "4597357936"
      ]
     },
     "execution_count": 38,
     "metadata": {},
     "output_type": "execute_result"
    }
   ],
   "source": [
    "id(int(1237829))"
   ]
  },
  {
   "cell_type": "code",
   "execution_count": 39,
   "metadata": {},
   "outputs": [
    {
     "data": {
      "text/plain": [
       "4597363472"
      ]
     },
     "execution_count": 39,
     "metadata": {},
     "output_type": "execute_result"
    }
   ],
   "source": [
    "id(int(1237829))"
   ]
  },
  {
   "cell_type": "code",
   "execution_count": 40,
   "metadata": {},
   "outputs": [
    {
     "name": "stdout",
     "output_type": "stream",
     "text": [
      "My identity is 4592544896\n",
      "True\n",
      "True\n"
     ]
    }
   ],
   "source": [
    "bigmac = ['tasty', 'delicious', 'crunchy']\n",
    "evil = bigmac\n",
    "normfood = bigmac\n",
    "\n",
    "print(\"My identity is %d\" % id(bigmac))\n",
    "print(bigmac is evil)\n",
    "print(normfood == bigmac)"
   ]
  },
  {
   "cell_type": "code",
   "execution_count": 41,
   "metadata": {},
   "outputs": [
    {
     "data": {
      "text/plain": [
       "True"
      ]
     },
     "execution_count": 41,
     "metadata": {},
     "output_type": "execute_result"
    }
   ],
   "source": [
    "romans_lived = {'italy'}\n",
    "itailians_live = {'italy'}\n",
    "romans_lived == itailians_live"
   ]
  },
  {
   "cell_type": "markdown",
   "metadata": {},
   "source": [
    "![2vars1obj](./ipynb_content/2vars2obj.png)"
   ]
  },
  {
   "cell_type": "markdown",
   "metadata": {},
   "source": [
    "**Хозяйке на заметку** - Отличный визуализатор работы интерпретатора:  \n",
    "http://pythontutor.com/visualize.html#mode=edit"
   ]
  },
  {
   "cell_type": "markdown",
   "metadata": {},
   "source": [
    "# Классы  \n",
    "  \n",
    "Задать свой класс в питоне - нет ничего проще."
   ]
  },
  {
   "cell_type": "code",
   "execution_count": 42,
   "metadata": {},
   "outputs": [],
   "source": [
    "class Animal:\n",
    "    pass\n",
    "\n",
    "кошак = Animal()\n",
    "собакен = Animal()"
   ]
  },
  {
   "cell_type": "markdown",
   "metadata": {},
   "source": [
    "Класс имеет атрибуты и методы.  \n",
    "Атрибуты - ```per class / per instance```  \n",
    "Что из них статичное?"
   ]
  },
  {
   "cell_type": "code",
   "execution_count": 43,
   "metadata": {},
   "outputs": [
    {
     "data": {
      "text/plain": [
       "'mammal'"
      ]
     },
     "execution_count": 43,
     "metadata": {},
     "output_type": "execute_result"
    }
   ],
   "source": [
    "class Animal:\n",
    "    creature_type = 'mammal'\n",
    "\n",
    "кошак = Animal()\n",
    "собакен = Animal()\n",
    "\n",
    "кошак.creature_type"
   ]
  },
  {
   "cell_type": "code",
   "execution_count": 44,
   "metadata": {},
   "outputs": [
    {
     "data": {
      "text/plain": [
       "'arthropods'"
      ]
     },
     "execution_count": 44,
     "metadata": {},
     "output_type": "execute_result"
    }
   ],
   "source": [
    "Animal.creature_type = 'arthropods'\n",
    "\n",
    "кошак.creature_type"
   ]
  },
  {
   "cell_type": "markdown",
   "metadata": {},
   "source": [
    "Создание класса происходит в два этапа.  \n",
    "```__new__``` - получение экземпляра класса (instance)  \n",
    "```__init__``` - инициализация полученного экземпляра  \n",
    "  \n",
    "Разница сразу видна в сигнатурах.  \n",
    "```cls``` - указатель на класс  \n",
    "```self``` - указатель на экземпляр"
   ]
  },
  {
   "cell_type": "markdown",
   "metadata": {},
   "source": [
    "Все класс в Python происходят от ```object```"
   ]
  },
  {
   "cell_type": "code",
   "execution_count": 45,
   "metadata": {},
   "outputs": [],
   "source": [
    "CAT_COUNTER = 0\n",
    "\n",
    "class Cat():\n",
    "    def __new__(cls, *args, **kwargs):\n",
    "        global CAT_COUNTER\n",
    "        CAT_COUNTER += 1\n",
    "        return object.__new__(cls)\n",
    "    \n",
    "    def __init__(self, name):\n",
    "        self.name = name"
   ]
  },
  {
   "cell_type": "code",
   "execution_count": 46,
   "metadata": {},
   "outputs": [
    {
     "name": "stdout",
     "output_type": "stream",
     "text": [
      "4\n"
     ]
    }
   ],
   "source": [
    "for i in range(4):\n",
    "    Cat(i)\n",
    "\n",
    "print(CAT_COUNTER)"
   ]
  },
  {
   "cell_type": "markdown",
   "metadata": {},
   "source": [
    "**BTW - в Python нет приватных атрибутов, все по взрослому**"
   ]
  },
  {
   "cell_type": "code",
   "execution_count": 47,
   "metadata": {},
   "outputs": [
    {
     "data": {
      "text/plain": [
       "'murzik'"
      ]
     },
     "execution_count": 47,
     "metadata": {},
     "output_type": "execute_result"
    }
   ],
   "source": [
    "Cat('murzik').name"
   ]
  },
  {
   "cell_type": "markdown",
   "metadata": {},
   "source": [
    "# Object III"
   ]
  },
  {
   "cell_type": "markdown",
   "metadata": {},
   "source": [
    "Объект предоставляет свой протокол (проще говоря - набор функций).  \n",
    "Если реализовать часть таких функций - объект может быть принят различными функциями Python  \n",
    "Некоторые их этих функций: \n",
    "\n",
    "| Функция | Что делает |\n",
    "|---------|------------|\n",
    "|```__new__```|создание экземпляра класса|\n",
    "|```__init__```|инициализация атрибутов класса\n",
    "|```__del__```|финализатор класса (но не его деструктор)\n",
    "|```__str__```|текстовое представление класса (используется в ```print```, ```format```)\n",
    "|```__repr__```|текстовое представление класса \"для разработчика\"\n",
    "|```__bytes__```|представление класса в байтах (не совсем строка)  \n",
    "  \n",
    "Методы, название которых имеет вид **__XYZ__** часто называются \"магическими\".  \n",
    "Праивльно произношение - **dunder**.  Например: dunder-**init**"
   ]
  },
  {
   "cell_type": "markdown",
   "metadata": {},
   "source": [
    "Методы всегда принимают первым параметром указатель на экземпляр"
   ]
  },
  {
   "cell_type": "code",
   "execution_count": 48,
   "metadata": {},
   "outputs": [],
   "source": [
    "class Cat():\n",
    "    def __init__(self, name):\n",
    "        self.name = name\n",
    "        \n",
    "\n",
    "class CatStr():\n",
    "    def __init__(self, name):\n",
    "        self.name = name\n",
    "    \n",
    "    def __str__(self):\n",
    "        return \"<Cat, named='{}'>\".format(self.name)"
   ]
  },
  {
   "cell_type": "code",
   "execution_count": 49,
   "metadata": {},
   "outputs": [
    {
     "name": "stdout",
     "output_type": "stream",
     "text": [
      "<__main__.Cat object at 0x11205b890>\n"
     ]
    }
   ],
   "source": [
    "print(Cat(\"murzik\"))"
   ]
  },
  {
   "cell_type": "code",
   "execution_count": 50,
   "metadata": {},
   "outputs": [
    {
     "name": "stdout",
     "output_type": "stream",
     "text": [
      "<Cat, named='murzik'>\n"
     ]
    }
   ],
   "source": [
    "print(CatStr(\"murzik\"))"
   ]
  },
  {
   "cell_type": "markdown",
   "metadata": {},
   "source": [
    "## Collections \n",
    "\n",
    "Чтобы выступать в роли коллекции, объекту нужно предоставлять опеределенные методы.  \n",
    "В типизированных языках (Java, C#) такое явление называют интерфейсом, в Python/Smalltalk - протоколом  \n",
    "Протокол, в отличии от интерфейса, не является типом и выражает \"договоренность\"  \n"
   ]
  },
  {
   "cell_type": "markdown",
   "metadata": {},
   "source": [
    "Фреймворк коллекций в Python формализован в стандартном модуле ```collections.abc```  \n",
    "  \n",
    "https://asvetlov.blogspot.com/2014/09/abstract-containers.html"
   ]
  },
  {
   "cell_type": "code",
   "execution_count": 1,
   "metadata": {},
   "outputs": [
    {
     "data": {
      "text/html": [
       "'<iframe src=./ipynb_content/collections.pdf width=800 height=1100></iframe>'\n"
      ],
      "text/plain": [
       "<IPython.core.display.HTML object>"
      ]
     },
     "metadata": {},
     "output_type": "display_data"
    }
   ],
   "source": [
    "%%html \n",
    "'<iframe src=./ipynb_content/collections.pdf width=800 height=1100></iframe>'"
   ]
  },
  {
   "cell_type": "markdown",
   "metadata": {},
   "source": [
    "Рассмотрим один из базовых протоколов - **Sequence**"
   ]
  },
  {
   "cell_type": "code",
   "execution_count": 2,
   "metadata": {},
   "outputs": [
    {
     "data": {
      "text/html": [
       "'<iframe src=./ipynb_content/sequence.pdf width=500 height=300></iframe>'\n"
      ],
      "text/plain": [
       "<IPython.core.display.HTML object>"
      ]
     },
     "metadata": {},
     "output_type": "display_data"
    }
   ],
   "source": [
    "%%html \n",
    "'<iframe src=./ipynb_content/sequence.pdf width=500 height=300></iframe>'"
   ]
  },
  {
   "cell_type": "code",
   "execution_count": 156,
   "metadata": {
    "scrolled": true
   },
   "outputs": [
    {
     "name": "stdout",
     "output_type": "stream",
     "text": [
      "3\n",
      "3\n"
     ]
    }
   ],
   "source": [
    "data = [1,2,3]\n",
    "print(len(data))\n",
    "print(data.__len__())"
   ]
  },
  {
   "cell_type": "code",
   "execution_count": 3,
   "metadata": {},
   "outputs": [],
   "source": [
    "from collections.abc import Sequence\n",
    "from random import randint"
   ]
  },
  {
   "cell_type": "code",
   "execution_count": 4,
   "metadata": {},
   "outputs": [],
   "source": [
    "class FakeCollection(Sequence):\n",
    "    def __init__(self):\n",
    "        self.length = randint(1,15)\n",
    "        self.data = []\n",
    "        for i in range(self.length):\n",
    "            self.data.append(randint(1,100))\n",
    "    \n",
    "    def __len__(self):\n",
    "        return self.length\n",
    "    \n",
    "    def __getitem__(self, index):\n",
    "        return self.data[index]"
   ]
  },
  {
   "cell_type": "code",
   "execution_count": 5,
   "metadata": {},
   "outputs": [],
   "source": [
    "fc = FakeCollection()"
   ]
  },
  {
   "cell_type": "code",
   "execution_count": 6,
   "metadata": {},
   "outputs": [
    {
     "name": "stdout",
     "output_type": "stream",
     "text": [
      "100\n",
      "29\n",
      "73\n",
      "41\n",
      "44\n",
      "51\n",
      "46\n",
      "61\n",
      "71\n",
      "9\n",
      "89\n",
      "58\n",
      "50\n"
     ]
    }
   ],
   "source": [
    "# iter works\n",
    "for d in fc:\n",
    "    print(d)"
   ]
  },
  {
   "cell_type": "code",
   "execution_count": 7,
   "metadata": {},
   "outputs": [
    {
     "data": {
      "text/plain": [
       "100"
      ]
     },
     "execution_count": 7,
     "metadata": {},
     "output_type": "execute_result"
    }
   ],
   "source": [
    "# getitem works\n",
    "fc[0]"
   ]
  },
  {
   "cell_type": "code",
   "execution_count": 8,
   "metadata": {},
   "outputs": [
    {
     "data": {
      "text/plain": [
       "13"
      ]
     },
     "execution_count": 8,
     "metadata": {},
     "output_type": "execute_result"
    }
   ],
   "source": [
    "# len also works\n",
    "len(fc)"
   ]
  },
  {
   "cell_type": "markdown",
   "metadata": {},
   "source": [
    "## Duck typing  \n",
    "  \n",
    "```Если это выглядит как утка, плавает как утка и крякает как утка, то это, вероятно, и есть утка. ```  \n",
    "  \n",
    "Пример с ```FakeCollection``` - объект реализовал метод **__iter__**, поэтому считается итерируемым (иначе говоря, реализовывает протокол итерации).  \n",
    "\n"
   ]
  },
  {
   "cell_type": "markdown",
   "metadata": {},
   "source": [
    "# Домашнее задание  \n",
    "  \n",
    "  \n",
    "Реализовать свой домашний ```ArrayList```   \n",
    "В отличии от стандартного списка, ваш должен быть типизированным.  \n",
    "Для проходного балла - класс должен реализовать протокол ```Sequence```  \n",
    "Для мотивированных и любопытных - класс должен реализовать протокол ```MutableSequence```  \n",
    "   \n",
    "Каждый метод из протокола должен быть проверен.  \n",
    "  \n",
    "ДЗ - нужно сделать форк от нашего репозитория и прислать в Slack ссылку на Pull Request     \n",
    "\n",
    "Hint 1 - изучите плоский массив: ```array.array```, внутреннее хранение должно быть на нем.  \n",
    "Hint 2 - наследование от классов из ```collections.abc``` **не лопускается!**"
   ]
  },
  {
   "cell_type": "code",
   "execution_count": 17,
   "metadata": {},
   "outputs": [
    {
     "name": "stdout",
     "output_type": "stream",
     "text": [
      "len = 4\n",
      "1st element = 0\n",
      "slice 1:3:1 = [0.4, 0.21]\n",
      "contains 0.400000 is True \n",
      "contains 0.100000 is False \n",
      "<generator object <genexpr> at 0x776b373f20>\n",
      "0.3\n",
      "0.4\n",
      "0.21\n",
      "0.4\n",
      "0.3\n",
      "0.4\n",
      "0.21\n",
      "0.4\n",
      "index of 0.400000 = 1\n",
      "array after reverse [0.4, 0.21, 0.4, 0.3]\n",
      "index of 0.400000 = 0\n",
      "counts of 0.500000 = 0\n",
      "counts of 0.400000 = 2\n",
      "counts of 0.300000 = 1\n",
      "After set [0.4, 0.21, 0.14, 0.3]\n",
      "Deletes!\n",
      "After deletes [0.4, 0.14, 0.3]\n",
      "After implement append to (0.68,) result is [0.4, 0.14, 0.3, 0.68]\n",
      "After implement insert to (1, 0.56) result is [0.4, 0.56, 0.14, 0.3, 0.68]\n",
      "After inserts 0.560000 to 1 [0.4, 0.56, 0.14, 0.3, 0.68]\n",
      "After self reverse by reverse() [0.68, 0.3, 0.14, 0.56, 0.4]\n",
      "After implement extend to ([3.5, 0.8],) result is [0.68, 0.3, 0.14, 0.56, 0.4, 3.5, 0.8]\n",
      "Pop result 0.8 and array [0.68, 0.3, 0.14, 0.56, 0.4, 3.5]\n",
      "Pop result 3.5 and array [0.68, 0.3, 0.14, 0.56, 0.4]\n",
      "remove 0.300000 result array [0.68, 0.14, 0.56, 0.4]\n",
      "iadd result [2.4, 6.9] and array [0.68, 0.14, 0.56, 0.4, 2.4, 6.9]\n"
     ]
    }
   ],
   "source": [
    "from array import array\n",
    "from math import floor\n",
    "\n",
    "class ArrayList:\n",
    "    def __init__(self, char, collection):\n",
    "        self.__char = char\n",
    "        self.__inner_array = array(char,collection)\n",
    "        self.__list_counter = 0\n",
    "        \n",
    "    def __len__(self):\n",
    "        counts = 0\n",
    "        for elem in self.__inner_array:\n",
    "            counts+=1\n",
    "        return counts\n",
    "    \n",
    "    def __getitem__(self,index):\n",
    "        if type(index) == slice:\n",
    "            getitem_list = []\n",
    "            for elem in self.__inner_array[index]:\n",
    "                getitem_list+=[elem]\n",
    "            return getitem_list\n",
    "        else:\n",
    "            return self.__inner_array[index]\n",
    "    \n",
    "    def __setitem__(self,index,value):\n",
    "        self.__inner_array[index] = value\n",
    "    \n",
    "    def __delitem__(self, key):\n",
    "        print(\"Deletes!\")\n",
    "        del self.__inner_array[key]\n",
    "    \n",
    "    def __contains__(self,item):\n",
    "        return (item in self.__inner_array)\n",
    "    \n",
    "    def __iter__(self):\n",
    "        return self\n",
    "    \n",
    "    def __next__(self):\n",
    "        if self.__list_counter < self.__len__():\n",
    "            self.__list_counter+=1\n",
    "            return self.__inner_array[self.__list_counter-1]\n",
    "        else:\n",
    "            self.__list_counter = 0\n",
    "            raise StopIteration\n",
    "    \n",
    "    def __reversed__(self):\n",
    "        len = self.__len__()\n",
    "        for i in range(floor(len/2)):\n",
    "            elem = self.__inner_array[i]\n",
    "            self.__inner_array[i] = self.__inner_array[len - i - 1]\n",
    "            self.__inner_array[len - i - 1] = elem\n",
    "        \n",
    "    def insert(self,index,item):\n",
    "        innerarray = self.__inner_array[0:index]\n",
    "        innerarray+= array(self.__char,[item])\n",
    "        innerarray+= self.__inner_array[index::]\n",
    "        del self.__inner_array\n",
    "        self.__inner_array = innerarray\n",
    "        \n",
    "    def index(self,item):\n",
    "        index = 0\n",
    "        for elem in self.__inner_array:\n",
    "            if elem == item:\n",
    "                return index\n",
    "            index+=1\n",
    "        return 0\n",
    "    \n",
    "    def count(self,item):\n",
    "        counts = 0\n",
    "        for elem in self.__inner_array:\n",
    "            if elem == item:\n",
    "                counts+=1\n",
    "        return counts\n",
    "    \n",
    "    def append(self,item):\n",
    "        self.__inner_array+=array(self.__char,[item])\n",
    "        \n",
    "    def reverse(self):\n",
    "        self.__reversed__()\n",
    "    \n",
    "    def extend(self,item):\n",
    "        self.__inner_array+=array(self.__char,item)\n",
    "        \n",
    "    def pop(self):\n",
    "        number_be_dead = len(self)-1\n",
    "        return_item = self.__inner_array[number_be_dead]\n",
    "        del self.__inner_array[number_be_dead]\n",
    "        return return_item\n",
    "    \n",
    "    def remove(self, value):\n",
    "        for i in range(len(self.__inner_array)):\n",
    "            if self.__inner_array[i] == value:\n",
    "                del self.__inner_array[i]\n",
    "                break\n",
    "\n",
    "    def __iadd__(self,value):\n",
    "        self.__inner_array+=array(self.__char,value)\n",
    "        return self\n",
    "                \n",
    "    def return_it(self):\n",
    "        return list(self.__inner_array)\n",
    "\n",
    "this_arraylist = ArrayList(\"d\",[0.3,0.4,0.21,0.4])\n",
    "print(\"len = %d\" %len(this_arraylist))\n",
    "print(\"1st element = %d\" %this_arraylist[1])\n",
    "print(\"slice 1:3:1 = %s\" %str(this_arraylist[1:3:1]))\n",
    "print(\"contains %f is %s \" % (0.4, str(0.4 in this_arraylist)))\n",
    "print(\"contains %f is %s \" % (0.1, str(0.1 in this_arraylist)))\n",
    "print(gnome for gnome in this_arraylist)\n",
    "for gnome in this_arraylist:\n",
    "    print(gnome)\n",
    "for gnome in this_arraylist:\n",
    "    print(gnome)\n",
    "print(\"index of %f = %s\" % (0.4, str(this_arraylist.index(0.4))))\n",
    "reversed(this_arraylist)\n",
    "print(\"array after reverse %s\" % str(this_arraylist.return_it()))\n",
    "print(\"index of %f = %s\" % (0.4, str(this_arraylist.index(0.4))))\n",
    "print(\"counts of %f = %d\" %(0.5, this_arraylist.count(0.5)))\n",
    "print(\"counts of %f = %d\" %(0.4, this_arraylist.count(0.4)))\n",
    "print(\"counts of %f = %d\" %(0.3, this_arraylist.count(0.3)))\n",
    "this_arraylist[2] = 0.14\n",
    "print(\"After set %s\" %str(this_arraylist.return_it()))\n",
    "del this_arraylist[1]\n",
    "print(\"After deletes %s\" %str(this_arraylist.return_it()))\n",
    "def test_method(arraylist,method_to_do,*value_to_test):\n",
    "    method_to_do(*value_to_test)\n",
    "    print(\"After implement %s to %s result is %s\" %(str(method_to_do.__name__),str(value_to_test),str(arraylist.return_it())))\n",
    "test_method(this_arraylist,this_arraylist.append,0.68)\n",
    "test_method(this_arraylist,this_arraylist.insert,1,0.56)\n",
    "print(\"After inserts %f to %d %s\" %(0.56,1.0,str(this_arraylist.return_it())))\n",
    "this_arraylist.reverse()\n",
    "print(\"After self reverse by reverse() %s\" %str(this_arraylist.return_it()))\n",
    "list_to_extend = [3.5,0.8]\n",
    "test_method(this_arraylist,this_arraylist.extend,list_to_extend)\n",
    "#test_method([\"п\",\"о\",\"ф\",\"1\",\"g\"],this_arraylist.extend)\n",
    "#test_method(5,this_arraylist,this_arraylist.extend)\n",
    "print(\"Pop result %s and array %s\" %(str(this_arraylist.pop()),str(this_arraylist.return_it())))\n",
    "print(\"Pop result %s and array %s\" %(str(this_arraylist.pop()),str(this_arraylist.return_it())))\n",
    "this_arraylist.remove(0.3)\n",
    "print(\"remove %f result array %s\" %(0.3,str(this_arraylist.return_it())))\n",
    "list_to_test=[2.4,6.9]\n",
    "this_arraylist+=list_to_test\n",
    "print(\"iadd result %s and array %s\" %(str(list_to_test),str(this_arraylist.return_it())))"
   ]
  },
  {
   "cell_type": "markdown",
   "metadata": {},
   "source": [
    "#  На десерт (по внутренностям)"
   ]
  },
  {
   "cell_type": "markdown",
   "metadata": {},
   "source": [
    "* Воспроизвести патчинг Python (рекомендуется делать строго на виртуалке/docker под linux)  \n",
    "\n",
    "https://eli.thegreenplace.net/2010/06/30/python-internals-adding-a-new-statement-to-python/"
   ]
  },
  {
   "cell_type": "markdown",
   "metadata": {},
   "source": [
    "* Детали реализации питоновского спика\n",
    "\n",
    "http://www.laurentluce.com/posts/python-list-implementation/"
   ]
  },
  {
   "cell_type": "code",
   "execution_count": null,
   "metadata": {},
   "outputs": [],
   "source": []
  }
 ],
 "metadata": {
  "kernelspec": {
   "display_name": "Python 3",
   "language": "python",
   "name": "python3"
  },
  "language_info": {
   "codemirror_mode": {
    "name": "ipython",
    "version": 3
   },
   "file_extension": ".py",
   "mimetype": "text/x-python",
   "name": "python",
   "nbconvert_exporter": "python",
   "pygments_lexer": "ipython3",
   "version": "3.6.3"
  },
  "toc": {
   "base_numbering": 1,
   "nav_menu": {
    "height": "280px",
    "width": "160px"
   },
   "number_sections": true,
   "sideBar": true,
   "skip_h1_title": false,
   "title_cell": "Table of Contents",
   "title_sidebar": "Contents",
   "toc_cell": false,
   "toc_position": {},
   "toc_section_display": true,
   "toc_window_display": false
  }
 },
 "nbformat": 4,
 "nbformat_minor": 2
}
