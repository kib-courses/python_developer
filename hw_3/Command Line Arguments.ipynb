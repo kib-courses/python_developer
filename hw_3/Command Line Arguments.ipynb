{
 "cells": [
  {
   "cell_type": "markdown",
   "metadata": {
    "colab_type": "text",
    "id": "m23LDIArjKyj"
   },
   "source": [
    "# Передача аргументов командной строки"
   ]
  },
  {
   "cell_type": "markdown",
   "metadata": {
    "colab_type": "text",
    "id": "y7ZbSpt6Q2Fj"
   },
   "source": [
    "Параметры запуска, задаваемые через командную строку, чаще всего используют консольные программы, хотя программы с графическим интерфейсом тоже не брезгуют этой возможностью.\n",
    "\n",
    "Разберем несколько способов разобрать аргументы командной строки."
   ]
  },
  {
   "cell_type": "markdown",
   "metadata": {
    "colab_type": "text",
    "id": "hq8y-QkrQy1T"
   },
   "source": [
    "## Переменная argv\n",
    "\n",
    "`sys.argv` содержит список параметров, переданных программе через командную строку, причем нулевой элемент списка - это имя скрипта.\n",
    "\n",
    "Этот способ не очень удобный, поэтому используется редко или только в совсем несложных проектах."
   ]
  },
  {
   "cell_type": "code",
   "execution_count": null,
   "metadata": {
    "colab": {},
    "colab_type": "code",
    "id": "Uu-uheFwQy1U",
    "outputId": "2741abf4-4674-41ac-eee5-5d641cbff875"
   },
   "outputs": [],
   "source": [
    "import sys\n",
    "\n",
    "for param in sys.argv:\n",
    "    print (param)"
   ]
  },
  {
   "cell_type": "markdown",
   "metadata": {
    "colab_type": "text",
    "id": "43jwHca3Qy1X"
   },
   "source": [
    "## Библиотека argparse\n",
    "\n",
    "Стандартная библиотека **argparse** предназначена для облегчения разбора командной строки. На нее можно возложить проверку переданных параметров: их количество и обозначения, а уже после того, как эта проверка будет выполнена автоматически, использовать полученные параметры в логике своей программы.\n",
    "\n",
    "Основа работы с командной строкой в библиотеке argparse является класс **ArgumentParser**. У его конструктора и методов довольно много параметров, все их рассматривать не будем, поэтому в дальнейшем рассмотрим работу этого класса на примерах, попутно обсуждая различные параметры.\n",
    "\n",
    "Простейший принцип работы с argparse следующий:\n",
    "\n",
    "- Создаем экземпляр класса ArgumentParser.\n",
    "- Добавляем в него информацию об ожидаемых параметрах с помощью метода add_argument (по одному вызову на каждый параметр).\n",
    "- Разбираем командную строку помощью метода parse_args, передавая ему полученные параметры командной строки (кроме нулевого элемента списка sys.argv).\n",
    "- Начинаем использовать полученные параметры."
   ]
  },
  {
   "cell_type": "code",
   "execution_count": null,
   "metadata": {
    "colab": {},
    "colab_type": "code",
    "id": "6j9s9OOJQy1Y"
   },
   "outputs": [],
   "source": [
    "# Ожидаемый вызов программы:\n",
    "# python coolprogram.py [Имя]\n",
    "# где [Имя] является необязательным параметром\n",
    "\n",
    "import sys\n",
    "import argparse\n",
    "\n",
    "\n",
    "def createParser():\n",
    "    \n",
    "    # экземпляр класса ArgumentParser с параметрами по умолчанию\n",
    "    parser = argparse.ArgumentParser()\n",
    "    \n",
    "    # Параметр\n",
    "    parser.add_argument ('name', nargs='?')\n",
    "    # Такой параметр будет считаться позиционным, \n",
    "    # т.е. он должен стоять именно на этом месте \n",
    "    # и у него не будет никаких предварительных обозначений.\n",
    "    \n",
    "    # nargs - сколько аргументов ожидаем,\n",
    "    # может принимать значение '?', '+', '*' или число\n",
    " \n",
    "    return parser\n",
    " \n",
    "if __name__ == '__main__':\n",
    "    parser = createParser()\n",
    "    namespace = parser.parse_args()\n",
    "\n",
    "    # при запуске: python coolprogram.py Вася\n",
    "    # namespace(name='Вася')\n",
    "\n",
    "    # при запуске: python coolprogram.py\n",
    "    # nmespace(name=None)\n",
    "    \n",
    "    if namespace.name:\n",
    "        print (\"Привет, {}!\".format (namespace.name) )\n",
    "    else:\n",
    "        print (\"Привет, мир!\")"
   ]
  },
  {
   "cell_type": "code",
   "execution_count": null,
   "metadata": {
    "colab": {},
    "colab_type": "code",
    "id": "RAWcsj6dQy1Z"
   },
   "outputs": [],
   "source": [
    "# Параметры со значением по умолчанию\n",
    "\n",
    "import sys\n",
    "import argparse\n",
    " \n",
    "\n",
    "def createParser():\n",
    "    parser = argparse.ArgumentParser()\n",
    "    # параметр со значением по умолчанию 'мир'\n",
    "    parser.add_argument ('name', nargs='?', default='мир')\n",
    " \n",
    "    return parser\n",
    " \n",
    "if __name__ == '__main__': \n",
    "    parser = createParser()\n",
    "    namespace = parser.parse_args (sys.argv[1:])\n",
    "\n",
    "    print (\"Привет, {}!\".format (namespace.name) )"
   ]
  },
  {
   "cell_type": "code",
   "execution_count": null,
   "metadata": {
    "colab": {},
    "colab_type": "code",
    "id": "cFqg2VonQy1b"
   },
   "outputs": [],
   "source": [
    "# Именованные параметры\n",
    "\n",
    "import sys\n",
    "import argparse\n",
    " \n",
    "\n",
    "def createParser():\n",
    "    parser = argparse.ArgumentParser()\n",
    "    # именованный параметр\n",
    "    # должен передаваться после параметра --name или -n.\n",
    "    parser.add_argument ('-n', '--name', default='мир')\n",
    " \n",
    "    return parser\n",
    " \n",
    "if __name__ == '__main__':\n",
    "    parser = createParser()\n",
    "    namespace = parser.parse_args(sys.argv[1:])\n",
    " \n",
    "    print (\"Привет, {}!\".format (namespace.name) )\n",
    "\n",
    "# Все именованные параметры считаются необязательными!\n",
    "# Чтобы именованный параметр стал обязательным,\n",
    "# можно добавить 'required=True'"
   ]
  },
  {
   "cell_type": "code",
   "execution_count": null,
   "metadata": {
    "colab": {},
    "colab_type": "code",
    "id": "10IJ1lsiQy1d"
   },
   "outputs": [],
   "source": [
    "# Список разрешенных параметров\n",
    "\n",
    "import sys\n",
    "import argparse\n",
    " \n",
    "def createParser ():\n",
    "    parser = argparse.ArgumentParser()\n",
    "    parser.add_argument ('-n', '--name', choices=['Вася', 'Оля', 'Петя'], default='Оля')\n",
    " \n",
    "    return parser\n",
    "\n",
    "if __name__ == '__main__':\n",
    "    parser = createParser()\n",
    "    namespace = parser.parse_args(sys.argv[1:])\n",
    " \n",
    "    print (\"Привет, {}!\".format (namespace.name) )"
   ]
  },
  {
   "cell_type": "code",
   "execution_count": null,
   "metadata": {
    "colab": {},
    "colab_type": "code",
    "id": "5I8i7ZgyQy1e"
   },
   "outputs": [],
   "source": [
    "# Указание типов параметров\n",
    "\n",
    "import sys\n",
    "import argparse\n",
    " \n",
    "def createParser ():\n",
    "    parser = argparse.ArgumentParser()\n",
    "    parser.add_argument ('-c', '--count', default=1, type=int) \n",
    "    # в качестве значения параметра type мы передали не строку, \n",
    "    # а стандартную функцию преобразования в целое число\n",
    " \n",
    "    return parser\n",
    " \n",
    "if __name__ == '__main__':\n",
    "    parser = createParser()\n",
    "    namespace = parser.parse_args(sys.argv[1:])\n",
    " \n",
    "    for _ in range (namespace.count):\n",
    "        print (\"Привет, мир!\")"
   ]
  },
  {
   "cell_type": "code",
   "execution_count": null,
   "metadata": {
    "colab": {},
    "colab_type": "code",
    "id": "DCZAAF07Qy1g"
   },
   "outputs": [],
   "source": [
    "# Так как в type передается функция, можно таким способом проверить файл\n",
    "\n",
    "import sys\n",
    "import argparse\n",
    " \n",
    "def createParser ():\n",
    "    parser = argparse.ArgumentParser()\n",
    "    parser.add_argument ('-n', '--name', type=open)\n",
    "    \n",
    "    # более изящное решение:\n",
    "    parser.add_argument ('-n', '--name', type=argparse.FileType())\n",
    "    # функция argparse.FileType, предназначенной для безопасной попытки открытия файла\n",
    "    \n",
    "    return parser\n",
    "\n",
    "if __name__ == '__main__':\n",
    "    parser = createParser()\n",
    "    namespace = parser.parse_args(sys.argv[1:])\n",
    " \n",
    "    text = namespace.name.read()\n",
    " \n",
    "    print (text)"
   ]
  },
  {
   "cell_type": "markdown",
   "metadata": {
    "colab_type": "text",
    "id": "ZcHjkFQSQy1h"
   },
   "source": [
    "## Библиотека click\n",
    "\n",
    "Click решает ту же проблему, что и argparse, но немного иначе. Он использует декораторы, поэтому команды должны быть функциями, которые можно обернуть этими декораторами.\n",
    "\n",
    "Он принципиально отличается от argparse количеством функционала и подходом к описанию команд и параметров через декораторы, а саму логику предлагается выделять в отдельные функции вместо большого main. Авторы утверждают, что у Click много настроек, но стандартных параметров должно хватить. Среди фич подчёркиваются вложенные команды и их ленивая подгрузка. "
   ]
  },
  {
   "cell_type": "code",
   "execution_count": null,
   "metadata": {
    "colab": {},
    "colab_type": "code",
    "id": "vLGmm4rTQy1i"
   },
   "outputs": [],
   "source": [
    "# декоратор @click.command() превращает функцию в команду, \n",
    "# которая является главной точкой входа нашего скрипта.\n",
    "\n",
    "import click\n",
    "import datetime\n",
    "\n",
    "@click.group()\n",
    "def cli():\n",
    "    pass\n",
    "\n",
    "@click.command()\n",
    "# option - опция, необязательный. argument - параметр, обязательный\n",
    "@click.option('--date', default='now', help='The date format \"yyyy-mm-dd\"')\n",
    "def get_weekday(date):\n",
    "    if date == 'now':\n",
    "        date = datetime.datetime.utcnow()\n",
    "    else:\n",
    "        date = datetime.datetime.strptime(date, '%Y-%m-%d')\n",
    "\n",
    "    click.echo(date.strftime('%A'))\n",
    "\n",
    "@click.command()\n",
    "@click.option('--date1', help='The date format \"yyyy-mm-dd\"')\n",
    "@click.option('--date2', help='The date format \"yyyy-mm-dd\"')\n",
    "def delta_day(date1, date2):\n",
    "    date1 = datetime.datetime.strptime(date1, '%Y-%m-%d')\n",
    "    date2 = datetime.datetime.strptime(date2, '%Y-%m-%d')\n",
    "    delta = date1 - date2 if date1 > date2 else date2 - date1\n",
    "    click.echo(delta.days)\n",
    "\n",
    "cli.add_command(get_weekday)\n",
    "cli.add_command(delta_day)\n",
    "\n",
    "if __name__ == '__main__':\n",
    "    cli()"
   ]
  },
  {
   "cell_type": "markdown",
   "metadata": {
    "colab_type": "text",
    "id": "EiyGJBWZQy1j"
   },
   "source": [
    "Флаг `--help` выведет автоматически сгенерированную документацию.\n",
    "\n",
    "Добавив справочный текст в декоратор `@click.option(... help='...')`, мы добавим описание для опций и параметров.\n",
    "\n",
    "Добавить документацию для всей click-команды можно, добавив строку документации в основную функцию:\n",
    "\n",
    "```\n",
    "def cli():\n",
    "    '''\n",
    "    This program make\n",
    "    cool things\n",
    "    '''\n",
    "    pass\n",
    "```"
   ]
  }
 ],
 "metadata": {
  "colab": {
   "name": "topic12.ipynb",
   "provenance": []
  },
  "kernelspec": {
   "display_name": "Python 3",
   "language": "python",
   "name": "python3"
  },
  "language_info": {
   "codemirror_mode": {
    "name": "ipython",
    "version": 3
   },
   "file_extension": ".py",
   "mimetype": "text/x-python",
   "name": "python",
   "nbconvert_exporter": "python",
   "pygments_lexer": "ipython3",
   "version": "3.6.5"
  }
 },
 "nbformat": 4,
 "nbformat_minor": 1
}
