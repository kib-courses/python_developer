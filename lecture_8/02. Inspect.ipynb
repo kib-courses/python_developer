{
 "cells": [
  {
   "cell_type": "markdown",
   "metadata": {},
   "source": [
    "# Простые способы работы с типами\n",
    "\n",
    "Несколько встроенных функций:"
   ]
  },
  {
   "cell_type": "code",
   "execution_count": null,
   "metadata": {},
   "outputs": [],
   "source": [
    "print(callable(lambda: 1))\n",
    "print(isinstance(\"abc\", str))\n",
    "print(issubclass(ValueError, Exception))"
   ]
  },
  {
   "cell_type": "markdown",
   "metadata": {},
   "source": [
    "И всякие магические атрибуты (https://docs.python.org/3/library/inspect.html):"
   ]
  },
  {
   "cell_type": "markdown",
   "metadata": {},
   "source": [
    "<table class=\"docutils align-default\">\n",
    "<colgroup>\n",
    "<col style=\"width: 19%\">\n",
    "<col style=\"width: 33%\">\n",
    "<col style=\"width: 47%\">\n",
    "</colgroup>\n",
    "<thead>\n",
    "<tr class=\"row-odd\"><th class=\"head\"><p>Type</p></th>\n",
    "<th class=\"head\"><p>Attribute</p></th>\n",
    "<th class=\"head\"><p>Description</p></th>\n",
    "</tr>\n",
    "</thead>\n",
    "<tbody>\n",
    "<tr class=\"row-even\"><td><p>module</p></td>\n",
    "<td><p>\\__doc__</p></td>\n",
    "<td><p>documentation string</p></td>\n",
    "</tr>\n",
    "<tr class=\"row-odd\"><td></td>\n",
    "<td><p>\\__file__</p></td>\n",
    "<td><p>filename (missing for\n",
    "built-in modules)</p></td>\n",
    "</tr>\n",
    "<tr class=\"row-even\"><td><p>class</p></td>\n",
    "<td><p>\\__doc__</p></td>\n",
    "<td><p>documentation string</p></td>\n",
    "</tr>\n",
    "<tr class=\"row-odd\"><td></td>\n",
    "<td><p>\\__name__</p></td>\n",
    "<td><p>name with which this\n",
    "class was defined</p></td>\n",
    "</tr>\n",
    "<tr class=\"row-even\"><td></td>\n",
    "<td><p>\\__qualname__</p></td>\n",
    "<td><p>qualified name</p></td>\n",
    "</tr>\n",
    "<tr class=\"row-odd\"><td></td>\n",
    "<td><p>\\__module__</p></td>\n",
    "<td><p>name of module in which\n",
    "this class was defined</p></td>\n",
    "</tr>\n",
    "<tr class=\"row-even\"><td><p>method</p></td>\n",
    "<td><p>\\__doc__</p></td>\n",
    "<td><p>documentation string</p></td>\n",
    "</tr>\n",
    "<tr class=\"row-odd\"><td></td>\n",
    "<td><p>\\__name__</p></td>\n",
    "<td><p>name with which this\n",
    "method was defined</p></td>\n",
    "</tr>\n",
    "<tr class=\"row-even\"><td></td>\n",
    "<td><p>\\__qualname__</p></td>\n",
    "<td><p>qualified name</p></td>\n",
    "</tr>\n",
    "<tr class=\"row-odd\"><td></td>\n",
    "<td><p>\\__func__</p></td>\n",
    "<td><p>function object\n",
    "containing implementation\n",
    "of method</p></td>\n",
    "</tr>\n",
    "<tr class=\"row-even\"><td></td>\n",
    "<td><p>\\__self__</p></td>\n",
    "<td><p>instance to which this\n",
    "method is bound, or\n",
    "<code class=\"docutils literal notranslate\"><span class=\"pre\">None</span></code></p></td>\n",
    "</tr>\n",
    "<tr class=\"row-odd\"><td></td>\n",
    "<td><p>\\__module__</p></td>\n",
    "<td><p>name of module in which\n",
    "this method was defined</p></td>\n",
    "</tr>\n",
    "<tr class=\"row-even\"><td><p>function</p></td>\n",
    "<td><p>\\__doc__</p></td>\n",
    "<td><p>documentation string</p></td>\n",
    "</tr>\n",
    "<tr class=\"row-odd\"><td></td>\n",
    "<td><p>\\__name__</p></td>\n",
    "<td><p>name with which this\n",
    "function was defined</p></td>\n",
    "</tr>\n",
    "<tr class=\"row-even\"><td></td>\n",
    "<td><p>\\__qualname__</p></td>\n",
    "<td><p>qualified name</p></td>\n",
    "</tr>\n",
    "<tr class=\"row-odd\"><td></td>\n",
    "<td><p>\\__code__</p></td>\n",
    "<td><p>code object containing\n",
    "compiled function\n",
    "<a class=\"reference internal\" href=\"../glossary.html#term-bytecode\"><span class=\"xref std std-term\">bytecode</span></a></p></td>\n",
    "</tr>\n",
    "<tr class=\"row-even\"><td></td>\n",
    "<td><p>\\__defaults__</p></td>\n",
    "<td><p>tuple of any default\n",
    "values for positional or\n",
    "keyword parameters</p></td>\n",
    "</tr>\n",
    "<tr class=\"row-odd\"><td></td>\n",
    "<td><p>\\__kwdefaults__</p></td>\n",
    "<td><p>mapping of any default\n",
    "values for keyword-only\n",
    "parameters</p></td>\n",
    "</tr>\n",
    "<tr class=\"row-even\"><td></td>\n",
    "<td><p>\\__globals__</p></td>\n",
    "<td><p>global namespace in which\n",
    "this function was defined</p></td>\n",
    "</tr>\n",
    "<tr class=\"row-odd\"><td></td>\n",
    "<td><p>\\__annotations__</p></td>\n",
    "<td><p>mapping of parameters\n",
    "names to annotations;\n",
    "<code class=\"docutils literal notranslate\"><span class=\"pre\">\"return\"</span></code> key is\n",
    "reserved for return\n",
    "annotations.</p></td>\n",
    "</tr>\n",
    "<tr class=\"row-even\"><td></td>\n",
    "<td><p>\\__module__</p></td>\n",
    "<td><p>name of module in which\n",
    "this function was defined</p></td>\n",
    "</tr>\n",
    "<tr class=\"row-odd\"><td><p>traceback</p></td>\n",
    "<td><p>tb_frame</p></td>\n",
    "<td><p>frame object at this\n",
    "level</p></td>\n",
    "</tr>\n",
    "<tr class=\"row-even\"><td></td>\n",
    "<td><p>tb_lasti</p></td>\n",
    "<td><p>index of last attempted\n",
    "instruction in bytecode</p></td>\n",
    "</tr>\n",
    "<tr class=\"row-odd\"><td></td>\n",
    "<td><p>tb_lineno</p></td>\n",
    "<td><p>current line number in\n",
    "Python source code</p></td>\n",
    "</tr>\n",
    "<tr class=\"row-even\"><td></td>\n",
    "<td><p>tb_next</p></td>\n",
    "<td><p>next inner traceback\n",
    "object (called by this\n",
    "level)</p></td>\n",
    "</tr>\n",
    "<tr class=\"row-odd\"><td><p>frame</p></td>\n",
    "<td><p>f_back</p></td>\n",
    "<td><p>next outer frame object\n",
    "(this frame’s caller)</p></td>\n",
    "</tr>\n",
    "<tr class=\"row-even\"><td></td>\n",
    "<td><p>f_builtins</p></td>\n",
    "<td><p>builtins namespace seen\n",
    "by this frame</p></td>\n",
    "</tr>\n",
    "<tr class=\"row-odd\"><td></td>\n",
    "<td><p>f_code</p></td>\n",
    "<td><p>code object being\n",
    "executed in this frame</p></td>\n",
    "</tr>\n",
    "<tr class=\"row-even\"><td></td>\n",
    "<td><p>f_globals</p></td>\n",
    "<td><p>global namespace seen by\n",
    "this frame</p></td>\n",
    "</tr>\n",
    "<tr class=\"row-odd\"><td></td>\n",
    "<td><p>f_lasti</p></td>\n",
    "<td><p>index of last attempted\n",
    "instruction in bytecode</p></td>\n",
    "</tr>\n",
    "<tr class=\"row-even\"><td></td>\n",
    "<td><p>f_lineno</p></td>\n",
    "<td><p>current line number in\n",
    "Python source code</p></td>\n",
    "</tr>\n",
    "<tr class=\"row-odd\"><td></td>\n",
    "<td><p>f_locals</p></td>\n",
    "<td><p>local namespace seen by\n",
    "this frame</p></td>\n",
    "</tr>\n",
    "<tr class=\"row-even\"><td></td>\n",
    "<td><p>f_trace</p></td>\n",
    "<td><p>tracing function for this\n",
    "frame, or <code class=\"docutils literal notranslate\"><span class=\"pre\">None</span></code></p></td>\n",
    "</tr>\n",
    "<tr class=\"row-odd\"><td><p>code</p></td>\n",
    "<td><p>co_argcount</p></td>\n",
    "<td><p>number of arguments (not\n",
    "including keyword only\n",
    "arguments, * or **\n",
    "args)</p></td>\n",
    "</tr>\n",
    "<tr class=\"row-even\"><td></td>\n",
    "<td><p>co_code</p></td>\n",
    "<td><p>string of raw compiled\n",
    "bytecode</p></td>\n",
    "</tr>\n",
    "<tr class=\"row-odd\"><td></td>\n",
    "<td><p>co_cellvars</p></td>\n",
    "<td><p>tuple of names of cell\n",
    "variables (referenced by\n",
    "containing scopes)</p></td>\n",
    "</tr>\n",
    "<tr class=\"row-even\"><td></td>\n",
    "<td><p>co_consts</p></td>\n",
    "<td><p>tuple of constants used\n",
    "in the bytecode</p></td>\n",
    "</tr>\n",
    "<tr class=\"row-odd\"><td></td>\n",
    "<td><p>co_filename</p></td>\n",
    "<td><p>name of file in which\n",
    "this code object was\n",
    "created</p></td>\n",
    "</tr>\n",
    "<tr class=\"row-even\"><td></td>\n",
    "<td><p>co_firstlineno</p></td>\n",
    "<td><p>number of first line in\n",
    "Python source code</p></td>\n",
    "</tr>\n",
    "<tr class=\"row-odd\"><td></td>\n",
    "<td><p>co_flags</p></td>\n",
    "<td><p>bitmap of <code class=\"docutils literal notranslate\"><span class=\"pre\">CO_*</span></code> flags,\n",
    "read more <a class=\"reference internal\" href=\"#inspect-module-co-flags\"><span class=\"std std-ref\">here</span></a></p></td>\n",
    "</tr>\n",
    "<tr class=\"row-even\"><td></td>\n",
    "<td><p>co_lnotab</p></td>\n",
    "<td><p>encoded mapping of line\n",
    "numbers to bytecode\n",
    "indices</p></td>\n",
    "</tr>\n",
    "<tr class=\"row-odd\"><td></td>\n",
    "<td><p>co_freevars</p></td>\n",
    "<td><p>tuple of names of free\n",
    "variables (referenced via\n",
    "a function’s closure)</p></td>\n",
    "</tr>\n",
    "<tr class=\"row-even\"><td></td>\n",
    "<td><p>co_posonlyargcount</p></td>\n",
    "<td><p>number of positional only\n",
    "arguments</p></td>\n",
    "</tr>\n",
    "<tr class=\"row-odd\"><td></td>\n",
    "<td><p>co_kwonlyargcount</p></td>\n",
    "<td><p>number of keyword only\n",
    "arguments (not including\n",
    "** arg)</p></td>\n",
    "</tr>\n",
    "<tr class=\"row-even\"><td></td>\n",
    "<td><p>co_name</p></td>\n",
    "<td><p>name with which this code\n",
    "object was defined</p></td>\n",
    "</tr>\n",
    "<tr class=\"row-odd\"><td></td>\n",
    "<td><p>co_names</p></td>\n",
    "<td><p>tuple of names of local\n",
    "variables</p></td>\n",
    "</tr>\n",
    "<tr class=\"row-even\"><td></td>\n",
    "<td><p>co_nlocals</p></td>\n",
    "<td><p>number of local variables</p></td>\n",
    "</tr>\n",
    "<tr class=\"row-odd\"><td></td>\n",
    "<td><p>co_stacksize</p></td>\n",
    "<td><p>virtual machine stack\n",
    "space required</p></td>\n",
    "</tr>\n",
    "<tr class=\"row-even\"><td></td>\n",
    "<td><p>co_varnames</p></td>\n",
    "<td><p>tuple of names of\n",
    "arguments and local\n",
    "variables</p></td>\n",
    "</tr>\n",
    "<tr class=\"row-odd\"><td><p>generator</p></td>\n",
    "<td><p>\\__name__</p></td>\n",
    "<td><p>name</p></td>\n",
    "</tr>\n",
    "<tr class=\"row-even\"><td></td>\n",
    "<td><p>\\__qualname__</p></td>\n",
    "<td><p>qualified name</p></td>\n",
    "</tr>\n",
    "<tr class=\"row-odd\"><td></td>\n",
    "<td><p>gi_frame</p></td>\n",
    "<td><p>frame</p></td>\n",
    "</tr>\n",
    "<tr class=\"row-even\"><td></td>\n",
    "<td><p>gi_running</p></td>\n",
    "<td><p>is the generator running?</p></td>\n",
    "</tr>\n",
    "<tr class=\"row-odd\"><td></td>\n",
    "<td><p>gi_code</p></td>\n",
    "<td><p>code</p></td>\n",
    "</tr>\n",
    "<tr class=\"row-even\"><td></td>\n",
    "<td><p>gi_yieldfrom</p></td>\n",
    "<td><p>object being iterated by\n",
    "<code class=\"docutils literal notranslate\"><span class=\"pre\">yield</span> <span class=\"pre\">from</span></code>, or\n",
    "<code class=\"docutils literal notranslate\"><span class=\"pre\">None</span></code></p></td>\n",
    "</tr>\n",
    "<tr class=\"row-odd\"><td><p>coroutine</p></td>\n",
    "<td><p>\\__name__</p></td>\n",
    "<td><p>name</p></td>\n",
    "</tr>\n",
    "<tr class=\"row-even\"><td></td>\n",
    "<td><p>\\__qualname__</p></td>\n",
    "<td><p>qualified name</p></td>\n",
    "</tr>\n",
    "<tr class=\"row-odd\"><td></td>\n",
    "<td><p>cr_await</p></td>\n",
    "<td><p>object being awaited on,\n",
    "or <code class=\"docutils literal notranslate\"><span class=\"pre\">None</span></code></p></td>\n",
    "</tr>\n",
    "<tr class=\"row-even\"><td></td>\n",
    "<td><p>cr_frame</p></td>\n",
    "<td><p>frame</p></td>\n",
    "</tr>\n",
    "<tr class=\"row-odd\"><td></td>\n",
    "<td><p>cr_running</p></td>\n",
    "<td><p>is the coroutine running?</p></td>\n",
    "</tr>\n",
    "<tr class=\"row-even\"><td></td>\n",
    "<td><p>cr_code</p></td>\n",
    "<td><p>code</p></td>\n",
    "</tr>\n",
    "<tr class=\"row-odd\"><td></td>\n",
    "<td><p>cr_origin</p></td>\n",
    "<td><p>where coroutine was\n",
    "created, or <code class=\"docutils literal notranslate\"><span class=\"pre\">None</span></code>. See\n",
    "<a class=\"reference internal\" href=\"sys.html#sys.set_coroutine_origin_tracking_depth\" title=\"sys.set_coroutine_origin_tracking_depth\"><code class=\"xref py py-func docutils literal notranslate\"><span class=\"pre\">sys.set_coroutine_origin_tracking_depth()</span></code></a></p></td>\n",
    "</tr>\n",
    "<tr class=\"row-even\"><td><p>builtin</p></td>\n",
    "<td><p>\\__doc__</p></td>\n",
    "<td><p>documentation string</p></td>\n",
    "</tr>\n",
    "<tr class=\"row-odd\"><td></td>\n",
    "<td><p>\\__name__</p></td>\n",
    "<td><p>original name of this\n",
    "function or method</p></td>\n",
    "</tr>\n",
    "<tr class=\"row-even\"><td></td>\n",
    "<td><p>\\__qualname__</p></td>\n",
    "<td><p>qualified name</p></td>\n",
    "</tr>\n",
    "<tr class=\"row-odd\"><td></td>\n",
    "<td><p>\\__self__</p></td>\n",
    "<td><p>instance to which a\n",
    "method is bound, or\n",
    "<code class=\"docutils literal notranslate\"><span class=\"pre\">None</span></code></p></td>\n",
    "</tr>\n",
    "</tbody>\n",
    "</table>"
   ]
  },
  {
   "cell_type": "markdown",
   "metadata": {},
   "source": [
    "## Доступ к глобальным и локальным переменным"
   ]
  },
  {
   "cell_type": "code",
   "execution_count": null,
   "metadata": {},
   "outputs": [],
   "source": [
    "g = 10\n",
    "\n",
    "def some_function(a=5):\n",
    "    b = 27\n",
    "    print(locals())\n",
    "    print()\n",
    "    print(globals())\n",
    "    \n",
    "    \n",
    "some_function()"
   ]
  },
  {
   "cell_type": "markdown",
   "metadata": {},
   "source": [
    "# Модуль inspect\n",
    "\n",
    "Этот модуль позволяет получать информацию об объектах в runtime. Иногда это бывает полезно =). Создадим несколько объектов, на которых рассмотрим возможности inspect: https://www.journaldev.com/19946/python-inspect-module"
   ]
  },
  {
   "cell_type": "code",
   "execution_count": null,
   "metadata": {},
   "outputs": [],
   "source": [
    "def module_funct(arg1, arg2 = 'default', *args):\n",
    "    \"\"\"This is a module-level function.\"\"\"\n",
    "    local_var = arg1 * 3\n",
    "    return local_var\n",
    "\n",
    "class X(object):\n",
    "    \"\"\"Definition for X class.\"\"\"\n",
    "\n",
    "    def __init__(self, name):\n",
    "        self.name = name\n",
    "\n",
    "    def get_name(self):\n",
    "        \"Returns the name of the instance.\"\n",
    "        return self.name\n",
    "\n",
    "x_obj = X('sample_instance')\n",
    "\n",
    "class Y(X):\n",
    "    \"\"\"This is the Y class, \n",
    "    child of X class.\n",
    "    \"\"\"\n",
    "\n",
    "    # This method is not part of X class.\n",
    "    def do_something(self):\n",
    "        \"\"\"Anything can be done here.\"\"\"\n",
    "\n",
    "    def get_name(self):\n",
    "        \"Overrides version from X\"\n",
    "        return 'Y(' + self.name + ')'"
   ]
  },
  {
   "cell_type": "markdown",
   "metadata": {},
   "source": [
    "Этот же код содержится в файле sample.py, который лежит в этой же папке. Будем рассматривать этот файл как модуль. С помощью `inspect.getmemebrs` можем посмотреть, какие объекты содержит этот модуль."
   ]
  },
  {
   "cell_type": "code",
   "execution_count": null,
   "metadata": {},
   "outputs": [],
   "source": [
    "import inspect\n",
    "import sample\n",
    "from pprint import pprint\n",
    "\n",
    "for name, data in inspect.getmembers(sample):\n",
    "    if name.startswith('__'):\n",
    "        continue\n",
    "    print(f'{name} : {data!r}')"
   ]
  },
  {
   "cell_type": "markdown",
   "metadata": {},
   "source": [
    "Можем посмотреть только классы:"
   ]
  },
  {
   "cell_type": "code",
   "execution_count": null,
   "metadata": {},
   "outputs": [],
   "source": [
    "for key, data in inspect.getmembers(sample, inspect.isclass):\n",
    "    print('{} : {!r}'.format(key, data))"
   ]
  },
  {
   "cell_type": "markdown",
   "metadata": {},
   "source": [
    "Или методы в отдельном классе:"
   ]
  },
  {
   "cell_type": "code",
   "execution_count": null,
   "metadata": {},
   "outputs": [],
   "source": [
    "pprint(inspect.getmembers(sample.X, inspect.isfunction))"
   ]
  },
  {
   "cell_type": "markdown",
   "metadata": {},
   "source": [
    "Обратите внимание, мы увидели именно методы класса, не bound methods объекта! Чтобы посмотреть, что есть внутри объекта, нам нужно его прежде инстанцировать."
   ]
  },
  {
   "cell_type": "code",
   "execution_count": null,
   "metadata": {},
   "outputs": [],
   "source": [
    "x = sample.X(name='inspect_getmembers')\n",
    "pprint(inspect.getmembers(x, inspect.ismethod))"
   ]
  },
  {
   "cell_type": "markdown",
   "metadata": {},
   "source": [
    "Можем получить docstring:"
   ]
  },
  {
   "cell_type": "code",
   "execution_count": null,
   "metadata": {},
   "outputs": [],
   "source": [
    "print('X.__doc__:')\n",
    "print(sample.X.__doc__)\n",
    "print()\n",
    "\n",
    "print('getdoc(X):')\n",
    "print(inspect.getdoc(sample.X))"
   ]
  },
  {
   "cell_type": "markdown",
   "metadata": {},
   "source": [
    "Можно даже посмотреть исходный код сущности =)"
   ]
  },
  {
   "cell_type": "code",
   "execution_count": null,
   "metadata": {},
   "outputs": [],
   "source": [
    "print(inspect.getsource(sample.Y))"
   ]
  },
  {
   "cell_type": "code",
   "execution_count": null,
   "metadata": {},
   "outputs": [],
   "source": [
    "print(inspect.getsource(sample.Y.get_name))"
   ]
  },
  {
   "cell_type": "markdown",
   "metadata": {},
   "source": [
    "### Inspect функций:"
   ]
  },
  {
   "cell_type": "code",
   "execution_count": null,
   "metadata": {},
   "outputs": [],
   "source": [
    "def foo(a, *, b:int, **kwargs):\n",
    "    pass\n",
    "\n",
    "sig = inspect.signature(foo)\n",
    "\n",
    "print(sig)\n",
    "print(sig.parameters['b'])\n",
    "print(sig.parameters['b'].annotation)"
   ]
  },
  {
   "cell_type": "markdown",
   "metadata": {},
   "source": [
    "Кроме информации о самой функции, можно посмотреть, с какими аргументами она будет вызвана, если ее вызвать:"
   ]
  },
  {
   "cell_type": "code",
   "execution_count": null,
   "metadata": {},
   "outputs": [],
   "source": [
    "from inspect import getcallargs\n",
    "def f(a, b=1, *pos, **named):\n",
    "    pass\n",
    "\n",
    "print(getcallargs(f, 1, 2, 3))\n",
    "print(getcallargs(f, a=2, x=4))\n",
    "\n",
    "getcallargs(f)"
   ]
  },
  {
   "cell_type": "markdown",
   "metadata": {},
   "source": [
    "### Inspect окружения:"
   ]
  },
  {
   "cell_type": "code",
   "execution_count": null,
   "metadata": {},
   "outputs": [],
   "source": [
    "print('getfile', inspect.getfile(sample.module_funct), sep='\\t\\t')\n",
    "print('getmodule', inspect.getmodule(sample.module_funct), sep='\\t')\n",
    "print()\n",
    "print('getsource', inspect.getsource(sample.module_funct), sep='\\n')\n",
    "print('signature', inspect.signature(sample.module_funct), sep='\\t')"
   ]
  },
  {
   "cell_type": "markdown",
   "metadata": {},
   "source": [
    "# Стек интерпретатора\n",
    "## и абсолютно черная магия\n",
    "\n",
    "Для описания стека исполняемого кода используются два основных понятия:\n",
    "\n",
    "- __Стек вызовов__ - стек, хранящий информацию для возврата управления из подпрограмм (процедур, функций) в программу (или подпрограмму, при вложенных или рекурсивных вызовах) и/или для возврата в программу из обработчика прерывания (в том числе при переключении задач в многозадачной среде). \n",
    "\n",
    "- __Стековый кадр (frame)__ - механизм передачи аргументов и выделения временной памяти (в процедурах языков программирования высокого уровня) с использованием системного стека; ячейка памяти в стеке.\n",
    "\n",
    "В Python предусмотрены специальные объекты, которые хранят эти сущности: Traceback и Frame.\n",
    "\n",
    "https://habr.com/ru/post/255239/\n",
    "\n",
    "Traceback мы можем увидеть при выбросе исключения:"
   ]
  },
  {
   "cell_type": "code",
   "execution_count": null,
   "metadata": {},
   "outputs": [],
   "source": [
    "import requests\n",
    "requests.get(None)"
   ]
  },
  {
   "cell_type": "markdown",
   "metadata": {},
   "source": [
    "При отладке приложения нас могут интересовать, например, локальные переменные какой-то функции в момент исполнения. Когда мы получаем исключение, получить доступ к последнему фрейму достаточно легко:"
   ]
  },
  {
   "cell_type": "code",
   "execution_count": null,
   "metadata": {},
   "outputs": [],
   "source": [
    "import sys\n",
    "tb = sys.last_traceback\n",
    "tb"
   ]
  },
  {
   "cell_type": "code",
   "execution_count": null,
   "metadata": {},
   "outputs": [],
   "source": [
    "tb.tb_frame"
   ]
  },
  {
   "cell_type": "code",
   "execution_count": null,
   "metadata": {},
   "outputs": [],
   "source": [
    "tb.tb_frame.f_locals"
   ]
  },
  {
   "cell_type": "markdown",
   "metadata": {},
   "source": [
    "Но каждый раз принудительно бросать исключение для того, чтобы что-то посмотреть, накладно. Нужно как-то по-другому получить ссылку на фрейм."
   ]
  },
  {
   "cell_type": "code",
   "execution_count": null,
   "metadata": {},
   "outputs": [],
   "source": [
    "inspect.currentframe()"
   ]
  },
  {
   "cell_type": "markdown",
   "metadata": {},
   "source": [
    "Это текущий фрейм. А что если мы хотим получить предыдущий по стеку вызовов фрейм? Для этого у нас есть метод `inspect.stack()`"
   ]
  },
  {
   "cell_type": "code",
   "execution_count": null,
   "metadata": {},
   "outputs": [],
   "source": [
    "def a(i):\n",
    "    if i < 3:\n",
    "        a(i + 1)\n",
    "    else:\n",
    "        frame = inspect.currentframe()\n",
    "        # пройдемся рекурсивно по всем предыдущим фреймам\n",
    "        while frame.f_back:\n",
    "            print(\"Название предыдущего фрейма:\", frame.f_code.co_name)\n",
    "            frame = frame.f_back\n",
    "        print()\n",
    "        print(inspect.stack()[0])\n",
    "        print(inspect.stack()[1])\n",
    "        print(inspect.stack()[2])\n",
    "        print(inspect.stack()[3])\n",
    "        \n",
    "        \n",
    "\n",
    "def b():\n",
    "    a(1)\n",
    "    \n",
    "b()"
   ]
  },
  {
   "cell_type": "markdown",
   "metadata": {},
   "source": [
    "`inspect.stack()` возвращает стек вызовов вплоть до текущей функции. Через него можно смотреть информацию о предыдущих фреймах. Кстати, лямбды - это, конечно, тоже отдельные фреймы"
   ]
  },
  {
   "cell_type": "code",
   "execution_count": null,
   "metadata": {},
   "outputs": [],
   "source": [
    "import threading\n",
    "\n",
    "threading.Thread(target=lambda: print(inspect.stack()[0])).run()\n",
    "threading.Thread(target=lambda: print(inspect.stack()[1])).run()\n",
    "threading.Thread(target=lambda: print(inspect.stack()[2])).run()"
   ]
  }
 ],
 "metadata": {
  "kernelspec": {
   "display_name": "Python 3",
   "language": "python",
   "name": "python3"
  },
  "language_info": {
   "codemirror_mode": {
    "name": "ipython",
    "version": 3
   },
   "file_extension": ".py",
   "mimetype": "text/x-python",
   "name": "python",
   "nbconvert_exporter": "python",
   "pygments_lexer": "ipython3",
   "version": "3.6.5"
  }
 },
 "nbformat": 4,
 "nbformat_minor": 2
}
