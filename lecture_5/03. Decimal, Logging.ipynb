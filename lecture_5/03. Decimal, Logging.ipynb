{
 "cells": [
  {
   "cell_type": "markdown",
   "metadata": {},
   "source": [
    "# Decimal\n",
    "\n",
    "Такая особенность встречается во многих языках программирования:"
   ]
  },
  {
   "cell_type": "code",
   "execution_count": 1,
   "metadata": {},
   "outputs": [
    {
     "data": {
      "text/plain": [
       "3.3000000000000003"
      ]
     },
     "execution_count": 1,
     "metadata": {},
     "output_type": "execute_result"
    }
   ],
   "source": [
    "1.1 + 2.2"
   ]
  },
  {
   "cell_type": "code",
   "execution_count": 2,
   "metadata": {},
   "outputs": [
    {
     "data": {
      "text/plain": [
       "5.551115123125783e-17"
      ]
     },
     "execution_count": 2,
     "metadata": {},
     "output_type": "execute_result"
    }
   ],
   "source": [
    "0.1 + 0.1 + 0.1 - 0.3"
   ]
  },
  {
   "cell_type": "code",
   "execution_count": 3,
   "metadata": {},
   "outputs": [
    {
     "data": {
      "text/plain": [
       "3.3"
      ]
     },
     "execution_count": 3,
     "metadata": {},
     "output_type": "execute_result"
    }
   ],
   "source": [
    "from decimal import Decimal\n",
    "\n",
    "float(Decimal('1.1') + Decimal('2.2'))"
   ]
  },
  {
   "cell_type": "code",
   "execution_count": 4,
   "metadata": {},
   "outputs": [
    {
     "data": {
      "text/plain": [
       "0.0"
      ]
     },
     "execution_count": 4,
     "metadata": {},
     "output_type": "execute_result"
    }
   ],
   "source": [
    "float(Decimal('0.1') + Decimal('0.1') + Decimal('0.1') - Decimal('0.3'))"
   ]
  },
  {
   "cell_type": "markdown",
   "metadata": {},
   "source": [
    "# Logging\n",
    "\n",
    "https://habr.com/ru/post/144566/\n",
    "\n",
    "Когда проект разрастается до определенной степени, появляется необзодимость в ведении журнала событий - лога. Это нужно, чтобы быстро понимать причины ошибок, улавливать нетипичное поведение программы, искать аномалии во входящих данных и т.д.\n",
    "\n",
    "В Python есть встроенная библиотека, которая позволяет удобно логировать события. Изначально представлены 5 уровне логирования:\n",
    "\n",
    "- debug - для отладки\n",
    "- info - просто информационное сообщение\n",
    "- warning - предупреждение\n",
    "- error - ошибка\n",
    "- critical - критическая ошибка"
   ]
  },
  {
   "cell_type": "code",
   "execution_count": null,
   "metadata": {},
   "outputs": [],
   "source": [
    "import logging\n",
    "\n",
    "logging.debug(\"Сообщение для отладки\")\n",
    "logging.info(\"Самое обыкновенное информационное сообщение\")\n",
    "logging.warning(\"Предупреждение\")\n",
    "logging.error(\"Ошибка\")\n",
    "logging.critical(\"Полный крах\")"
   ]
  },
  {
   "cell_type": "markdown",
   "metadata": {},
   "source": [
    "Вывелись не все сообщения, поскольку по умолчанию уровень вывода сообщений - warning. Можем его поменять, но это нужно сделать до первого вызова вывода ошибки."
   ]
  },
  {
   "cell_type": "code",
   "execution_count": null,
   "metadata": {},
   "outputs": [],
   "source": [
    "import logging\n",
    "logging.basicConfig(level=logging.DEBUG)"
   ]
  },
  {
   "cell_type": "code",
   "execution_count": null,
   "metadata": {},
   "outputs": [],
   "source": [
    "logging.debug(\"Сообщение для отладки\")\n",
    "logging.info(\"Самое обыкновенное информационное сообщение\")\n",
    "logging.warning(\"Предупреждение\")\n",
    "logging.error(\"Ошибка\")\n",
    "logging.critical(\"Полный крах\")"
   ]
  },
  {
   "cell_type": "markdown",
   "metadata": {},
   "source": [
    "Есть несколько встроенных в библиотеку значений, которые могут помочь сделать лог более подробным: \n",
    "\n",
    "<table class=\"docutils align-default\">\n",
    "<colgroup>\n",
    "<col style=\"width: 18%\">\n",
    "<col style=\"width: 28%\">\n",
    "<col style=\"width: 53%\">\n",
    "</colgroup>\n",
    "<thead>\n",
    "<tr class=\"row-odd\"><th class=\"head\"><p>Attribute name</p></th>\n",
    "<th class=\"head\"><p>Format</p></th>\n",
    "<th class=\"head\"><p>Description</p></th>\n",
    "</tr>\n",
    "</thead>\n",
    "<tbody>\n",
    "<tr class=\"row-even\"><td><p>args</p></td>\n",
    "<td><p>You shouldn’t need to\n",
    "format this yourself.</p></td>\n",
    "<td><p>The tuple of arguments merged into <code class=\"docutils literal notranslate\"><span class=\"pre\">msg</span></code> to\n",
    "produce <code class=\"docutils literal notranslate\"><span class=\"pre\">message</span></code>, or a dict whose values\n",
    "are used for the merge (when there is only one\n",
    "argument, and it is a dictionary).</p></td>\n",
    "</tr>\n",
    "<tr class=\"row-odd\"><td><p>asctime</p></td>\n",
    "<td><p><code class=\"docutils literal notranslate\"><span class=\"pre\">%(asctime)s</span></code></p></td>\n",
    "<td><p>Human-readable time when the\n",
    "<a class=\"reference internal\" href=\"#logging.LogRecord\" title=\"logging.LogRecord\"><code class=\"xref py py-class docutils literal notranslate\"><span class=\"pre\">LogRecord</span></code></a> was created.  By default\n",
    "this is of the form ‘2003-07-08 16:49:45,896’\n",
    "(the numbers after the comma are millisecond\n",
    "portion of the time).</p></td>\n",
    "</tr>\n",
    "<tr class=\"row-even\"><td><p>created</p></td>\n",
    "<td><p><code class=\"docutils literal notranslate\"><span class=\"pre\">%(created)f</span></code></p></td>\n",
    "<td><p>Time when the <a class=\"reference internal\" href=\"#logging.LogRecord\" title=\"logging.LogRecord\"><code class=\"xref py py-class docutils literal notranslate\"><span class=\"pre\">LogRecord</span></code></a> was created\n",
    "(as returned by <a class=\"reference internal\" href=\"time.html#time.time\" title=\"time.time\"><code class=\"xref py py-func docutils literal notranslate\"><span class=\"pre\">time.time()</span></code></a>).</p></td>\n",
    "</tr>\n",
    "<tr class=\"row-odd\"><td><p>exc_info</p></td>\n",
    "<td><p>You shouldn’t need to\n",
    "format this yourself.</p></td>\n",
    "<td><p>Exception tuple (à la <code class=\"docutils literal notranslate\"><span class=\"pre\">sys.exc_info</span></code>) or,\n",
    "if no exception has occurred, <code class=\"docutils literal notranslate\"><span class=\"pre\">None</span></code>.</p></td>\n",
    "</tr>\n",
    "<tr class=\"row-even\"><td><p>filename</p></td>\n",
    "<td><p><code class=\"docutils literal notranslate\"><span class=\"pre\">%(filename)s</span></code></p></td>\n",
    "<td><p>Filename portion of <code class=\"docutils literal notranslate\"><span class=\"pre\">pathname</span></code>.</p></td>\n",
    "</tr>\n",
    "<tr class=\"row-odd\"><td><p>funcName</p></td>\n",
    "<td><p><code class=\"docutils literal notranslate\"><span class=\"pre\">%(funcName)s</span></code></p></td>\n",
    "<td><p>Name of function containing the logging call.</p></td>\n",
    "</tr>\n",
    "<tr class=\"row-even\"><td><p>levelname</p></td>\n",
    "<td><p><code class=\"docutils literal notranslate\"><span class=\"pre\">%(levelname)s</span></code></p></td>\n",
    "<td><p>Text logging level for the message\n",
    "(<code class=\"docutils literal notranslate\"><span class=\"pre\">'DEBUG'</span></code>, <code class=\"docutils literal notranslate\"><span class=\"pre\">'INFO'</span></code>, <code class=\"docutils literal notranslate\"><span class=\"pre\">'WARNING'</span></code>,\n",
    "<code class=\"docutils literal notranslate\"><span class=\"pre\">'ERROR'</span></code>, <code class=\"docutils literal notranslate\"><span class=\"pre\">'CRITICAL'</span></code>).</p></td>\n",
    "</tr>\n",
    "<tr class=\"row-odd\"><td><p>levelno</p></td>\n",
    "<td><p><code class=\"docutils literal notranslate\"><span class=\"pre\">%(levelno)s</span></code></p></td>\n",
    "<td><p>Numeric logging level for the message\n",
    "(<code class=\"xref py py-const docutils literal notranslate\"><span class=\"pre\">DEBUG</span></code>, <code class=\"xref py py-const docutils literal notranslate\"><span class=\"pre\">INFO</span></code>,\n",
    "<code class=\"xref py py-const docutils literal notranslate\"><span class=\"pre\">WARNING</span></code>, <code class=\"xref py py-const docutils literal notranslate\"><span class=\"pre\">ERROR</span></code>,\n",
    "<code class=\"xref py py-const docutils literal notranslate\"><span class=\"pre\">CRITICAL</span></code>).</p></td>\n",
    "</tr>\n",
    "<tr class=\"row-even\"><td><p>lineno</p></td>\n",
    "<td><p><code class=\"docutils literal notranslate\"><span class=\"pre\">%(lineno)d</span></code></p></td>\n",
    "<td><p>Source line number where the logging call was\n",
    "issued (if available).</p></td>\n",
    "</tr>\n",
    "<tr class=\"row-odd\"><td><p>message</p></td>\n",
    "<td><p><code class=\"docutils literal notranslate\"><span class=\"pre\">%(message)s</span></code></p></td>\n",
    "<td><p>The logged message, computed as <code class=\"docutils literal notranslate\"><span class=\"pre\">msg</span> <span class=\"pre\">%</span>\n",
    "<span class=\"pre\">args</span></code>. This is set when\n",
    "<a class=\"reference internal\" href=\"#logging.Formatter.format\" title=\"logging.Formatter.format\"><code class=\"xref py py-meth docutils literal notranslate\"><span class=\"pre\">Formatter.format()</span></code></a> is invoked.</p></td>\n",
    "</tr>\n",
    "<tr class=\"row-even\"><td><p>module</p></td>\n",
    "<td><p><code class=\"docutils literal notranslate\"><span class=\"pre\">%(module)s</span></code></p></td>\n",
    "<td><p>Module (name portion of <code class=\"docutils literal notranslate\"><span class=\"pre\">filename</span></code>).</p></td>\n",
    "</tr>\n",
    "<tr class=\"row-odd\"><td><p>msecs</p></td>\n",
    "<td><p><code class=\"docutils literal notranslate\"><span class=\"pre\">%(msecs)d</span></code></p></td>\n",
    "<td><p>Millisecond portion of the time when the\n",
    "<a class=\"reference internal\" href=\"#logging.LogRecord\" title=\"logging.LogRecord\"><code class=\"xref py py-class docutils literal notranslate\"><span class=\"pre\">LogRecord</span></code></a> was created.</p></td>\n",
    "</tr>\n",
    "<tr class=\"row-even\"><td><p>msg</p></td>\n",
    "<td><p>You shouldn’t need to\n",
    "format this yourself.</p></td>\n",
    "<td><p>The format string passed in the original\n",
    "logging call. Merged with <code class=\"docutils literal notranslate\"><span class=\"pre\">args</span></code> to\n",
    "produce <code class=\"docutils literal notranslate\"><span class=\"pre\">message</span></code>, or an arbitrary object\n",
    "(see <a class=\"reference internal\" href=\"../howto/logging.html#arbitrary-object-messages\"><span class=\"std std-ref\">Using arbitrary objects as messages</span></a>).</p></td>\n",
    "</tr>\n",
    "<tr class=\"row-odd\"><td><p>name</p></td>\n",
    "<td><p><code class=\"docutils literal notranslate\"><span class=\"pre\">%(name)s</span></code></p></td>\n",
    "<td><p>Name of the logger used to log the call.</p></td>\n",
    "</tr>\n",
    "<tr class=\"row-even\"><td><p>pathname</p></td>\n",
    "<td><p><code class=\"docutils literal notranslate\"><span class=\"pre\">%(pathname)s</span></code></p></td>\n",
    "<td><p>Full pathname of the source file where the\n",
    "logging call was issued (if available).</p></td>\n",
    "</tr>\n",
    "<tr class=\"row-odd\"><td><p>process</p></td>\n",
    "<td><p><code class=\"docutils literal notranslate\"><span class=\"pre\">%(process)d</span></code></p></td>\n",
    "<td><p>Process ID (if available).</p></td>\n",
    "</tr>\n",
    "<tr class=\"row-even\"><td><p>processName</p></td>\n",
    "<td><p><code class=\"docutils literal notranslate\"><span class=\"pre\">%(processName)s</span></code></p></td>\n",
    "<td><p>Process name (if available).</p></td>\n",
    "</tr>\n",
    "<tr class=\"row-odd\"><td><p>relativeCreated</p></td>\n",
    "<td><p><code class=\"docutils literal notranslate\"><span class=\"pre\">%(relativeCreated)d</span></code></p></td>\n",
    "<td><p>Time in milliseconds when the LogRecord was\n",
    "created, relative to the time the logging\n",
    "module was loaded.</p></td>\n",
    "</tr>\n",
    "<tr class=\"row-even\"><td><p>stack_info</p></td>\n",
    "<td><p>You shouldn’t need to\n",
    "format this yourself.</p></td>\n",
    "<td><p>Stack frame information (where available)\n",
    "from the bottom of the stack in the current\n",
    "thread, up to and including the stack frame\n",
    "of the logging call which resulted in the\n",
    "creation of this record.</p></td>\n",
    "</tr>\n",
    "<tr class=\"row-odd\"><td><p>thread</p></td>\n",
    "<td><p><code class=\"docutils literal notranslate\"><span class=\"pre\">%(thread)d</span></code></p></td>\n",
    "<td><p>Thread ID (if available).</p></td>\n",
    "</tr>\n",
    "<tr class=\"row-even\"><td><p>threadName</p></td>\n",
    "<td><p><code class=\"docutils literal notranslate\"><span class=\"pre\">%(threadName)s</span></code></p></td>\n",
    "<td><p>Thread name (if available).</p></td>\n",
    "</tr>\n",
    "</tbody>\n",
    "</table>\n",
    "\n",
    "Применяются они так:"
   ]
  },
  {
   "cell_type": "code",
   "execution_count": null,
   "metadata": {},
   "outputs": [],
   "source": [
    "import logging\n",
    "\n",
    "logging.basicConfig(\n",
    "    format='%(filename)s[LINE:%(lineno)d]# %(levelname)-8s [%(asctime)s]  %(message)s',\n",
    "    level=logging.DEBUG\n",
    ")"
   ]
  },
  {
   "cell_type": "code",
   "execution_count": null,
   "metadata": {},
   "outputs": [],
   "source": [
    "logging.debug(\"Сообщение для отладки\")\n",
    "logging.info(\"Самое обыкновенное информационное сообщение\")\n",
    "logging.warning(\"Предупреждение\")\n",
    "logging.error(\"Ошибка\")\n",
    "logging.critical(\"Полный крах\")"
   ]
  },
  {
   "cell_type": "markdown",
   "metadata": {},
   "source": [
    "## Запись лога в файл\n",
    "\n",
    "Конечно, просто выводить логи на экран - бессмысленная затея. Нужно сохранять их в файл:"
   ]
  },
  {
   "cell_type": "code",
   "execution_count": null,
   "metadata": {},
   "outputs": [],
   "source": [
    "import logging\n",
    "\n",
    "logging.basicConfig(\n",
    "    format='%(filename)s[LINE:%(lineno)d]# %(levelname)-8s [%(asctime)s]  %(message)s',\n",
    "    level=logging.DEBUG,\n",
    "    filename=\"log.txt\",\n",
    "    filemode=\n",
    ")\n",
    "\n",
    "\n",
    "logging.debug(\"Сообщение для отладки\")\n",
    "logging.info(\"Самое обыкновенное информационное сообщение\")\n",
    "logging.warning(\"Предупреждение\")\n",
    "logging.error(\"Ошибка\")\n",
    "logging.critical(\"Полный крах\")"
   ]
  },
  {
   "cell_type": "code",
   "execution_count": null,
   "metadata": {},
   "outputs": [],
   "source": [
    "with open(\"log.txt\") as f:\n",
    "    print(f.read())"
   ]
  },
  {
   "cell_type": "markdown",
   "metadata": {},
   "source": [
    "## Несколько логгеров\n",
    "\n",
    "Использование общей конфигурации для логов на весь проект - плохая идея, поскольку это влияет и на логи окружения, и всё сливается в одну кашу. Лучше завести для каждой отдельной части крупного приложения свой логгер."
   ]
  },
  {
   "cell_type": "code",
   "execution_count": null,
   "metadata": {},
   "outputs": [],
   "source": [
    "import logging\n",
    "\n",
    "# получим логгер для нашего приложения либо создадим новый, если он еще не создан (паттерн Синглтон)\n",
    "logger = logging.getLogger(\"our_app_name\")\n",
    "logger.setLevel(logging.DEBUG)\n",
    "# опишем, куда и как будем сохранять логи: зададим файл и формат\n",
    "handler = logging.FileHandler('our_app_log.txt', 'a', 'utf-8')\n",
    "formatter = logging.Formatter(\"%(filename)s[LINE:%(lineno)d]# %(levelname)-8s [%(asctime)s]  %(message)s\")\n",
    "\n",
    "# установим файлу нужный формат, а нужный файл - логгеру\n",
    "handler.setFormatter(formatter)\n",
    "logger.addHandler(handler)\n",
    "\n",
    "# можно даже записывать сразу в несколько файлов\n",
    "handler2 = logging.FileHandler('our_app_log2.txt', 'a', 'utf-8')\n",
    "handler2.setFormatter(formatter)\n",
    "logger.addHandler(handler2)"
   ]
  },
  {
   "cell_type": "code",
   "execution_count": null,
   "metadata": {},
   "outputs": [],
   "source": [
    "logger.info(\"Наш новый логгер работает\")"
   ]
  }
 ],
 "metadata": {
  "kernelspec": {
   "display_name": "Python 3",
   "language": "python",
   "name": "python3"
  },
  "language_info": {
   "codemirror_mode": {
    "name": "ipython",
    "version": 3
   },
   "file_extension": ".py",
   "mimetype": "text/x-python",
   "name": "python",
   "nbconvert_exporter": "python",
   "pygments_lexer": "ipython3",
   "version": "3.6.5"
  }
 },
 "nbformat": 4,
 "nbformat_minor": 2
}
