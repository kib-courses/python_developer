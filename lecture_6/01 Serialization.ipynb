{
 "cells": [
  {
   "cell_type": "markdown",
   "metadata": {
    "colab_type": "text",
    "id": "3saG1xD4-JfF"
   },
   "source": [
    "# Сериализация\n",
    "\n",
    "## Обработка конфигурационных файлов"
   ]
  },
  {
   "cell_type": "markdown",
   "metadata": {
    "colab_type": "text",
    "id": "M417rJFT-fG3"
   },
   "source": [
    "### json\n",
    "\n",
    "JSON (JavaScript Object Notation) - простой формат обмена данными, основанный на подмножестве синтаксиса JavaScript. Модуль json позволяет кодировать и декодировать данные в удобном формате.\n",
    "\n",
    "Некоторые возможности библиотеки **json**\n",
    "\n",
    "**json.dump**`(obj, fp, skipkeys=False, ensure_ascii=True, check_circular=True, allow_nan=True, cls=None, indent=None, separators=None, default=None, sort_keys=False, **kw)` - сериализует obj как форматированный JSON поток в fp.\n",
    "\n",
    "**json.dumps**`(obj, skipkeys=False, ensure_ascii=True, check_circular=True, allow_nan=True, cls=None, indent=None, separators=None, default=None, sort_keys=False, **kw)` - сериализует obj в строку JSON-формата.\n",
    "\n",
    "**json.load**`(fp, cls=None, object_hook=None, parse_float=None, parse_int=None, parse_constant=None, object_pairs_hook=None, **kw)` - десериализует JSON из fp.\n",
    "\n",
    "**json.loads**`(s, encoding=None, cls=None, object_hook=None, parse_float=None, parse_int=None, parse_constant=None, object_pairs_hook=None, **kw)` - десериализует s (экземпляр str, содержащий документ JSON) в объект Python."
   ]
  },
  {
   "cell_type": "code",
   "execution_count": null,
   "metadata": {
    "colab": {
     "base_uri": "https://localhost:8080/",
     "height": 170
    },
    "colab_type": "code",
    "executionInfo": {
     "elapsed": 976,
     "status": "ok",
     "timestamp": 1575465221468,
     "user": {
      "displayName": "Надежда Демиденко",
      "photoUrl": "https://lh3.googleusercontent.com/a-/AAuE7mA6D7k5OgtG9hzPe8Abs8DfOKAXQoTXaPfn7EY=s64",
      "userId": "05224310221243935536"
     },
     "user_tz": -180
    },
    "id": "gvxfsMJoi5C3",
    "outputId": "cf696a08-e536-4c05-b091-36e5947ea4f5"
   },
   "outputs": [],
   "source": [
    "import json\n",
    "\n",
    "# Кодирование основных объектов Python\n",
    "print(json.dumps(['foo', {'bar': ('baz', None, 1.0, 2)}]))\n",
    "print(json.dumps({\"c\": 0, \"b\": 0, \"a\": 0}, sort_keys=True))\n",
    "\n",
    "# Компактное кодирование\n",
    "print(json.dumps([1,2,3,{'4': 5, '6': 7}], separators=(',', ':')))\n",
    "\n",
    "# Красивый вывод\n",
    "print(json.dumps({'4': 5, '6': 7}, sort_keys=True, indent=4))\n",
    "\n",
    "# Декодирование (парсинг) JSON\n",
    "print(json.loads('[\"foo\", {\"bar\":[\"baz\", null, 1.0, 2]}]'))\n",
    "print(json.loads('\"\\\\\"foo\\\\bar\"'))"
   ]
  },
  {
   "cell_type": "markdown",
   "metadata": {
    "colab_type": "text",
    "id": "ai6CKu-_A16t"
   },
   "source": [
    "### yaml\n",
    "\n",
    "YAML (YAML Ain’t Markup Language) - еще один текстовый формат для записи данных.\n",
    "\n",
    "YAML более приятен для восприятия человеком, чем JSON, поэтому его часто используют для описания сценариев в ПО. Например, в Ansible.\n",
    "\n",
    "Для работы с YAML в Python используется модуль **pyyaml**. Он не входит в стандартную библиотеку модулей, поэтому его нужно установить:\n",
    "\n",
    "`pip install pyyaml`"
   ]
  },
  {
   "cell_type": "code",
   "execution_count": null,
   "metadata": {
    "colab": {},
    "colab_type": "code",
    "id": "F8gvhIQ8l5ZN",
    "outputId": "f10539be-c56f-4a90-ac6a-772c211cf20a"
   },
   "outputs": [],
   "source": [
    "# Чтение из YAML (файл info.yaml)\n",
    "\n",
    "import yaml\n",
    "from pprint import pprint # Модуль pprint позволяет красиво отображать объекты Python\n",
    "\n",
    "with open('info.yaml') as f:\n",
    "    templates = yaml.safe_load(f)\n",
    "\n",
    "pprint(templates) # Использование функции модуля pprint для вывода"
   ]
  },
  {
   "cell_type": "code",
   "execution_count": null,
   "metadata": {
    "colab": {},
    "colab_type": "code",
    "id": "zrzjXmXhl5ZP",
    "outputId": "3b65519e-c3df-44af-b262-cc6fa58a4db3"
   },
   "outputs": [],
   "source": [
    "# Запись в YAML\n",
    "\n",
    "trunk_template = [\n",
    "    'switchport trunk encapsulation dot1q', 'switchport mode trunk',\n",
    "    'switchport trunk native vlan 999', 'switchport trunk allowed vlan'\n",
    "]\n",
    "\n",
    "access_template = [\n",
    "    'switchport mode access', 'switchport access vlan',\n",
    "    'switchport nonegotiate', 'spanning-tree portfast',\n",
    "    'spanning-tree bpduguard enable'\n",
    "]\n",
    "\n",
    "to_yaml = {'trunk': trunk_template, 'access': access_template}\n",
    "\n",
    "with open('sw_templates.yaml', 'w') as f:\n",
    "    yaml.dump(to_yaml, f)\n",
    "\n",
    "with open('sw_templates.yaml') as f:\n",
    "    print(f.read())"
   ]
  },
  {
   "cell_type": "markdown",
   "metadata": {
    "colab_type": "text",
    "id": "hro87YF3CKLN"
   },
   "source": [
    "### ini\n",
    "\n",
    "Как правило, ini-файлы используют для хранения настроек приложения или операционной системы. Библиотека в ядре Python включает в себя модуль, под названием **configparser**, который вы можете использовать для создания и работы с файлами конфигурации."
   ]
  },
  {
   "cell_type": "code",
   "execution_count": null,
   "metadata": {
    "colab": {
     "base_uri": "https://localhost:8080/",
     "height": 238
    },
    "colab_type": "code",
    "executionInfo": {
     "elapsed": 980,
     "status": "ok",
     "timestamp": 1575465679176,
     "user": {
      "displayName": "Надежда Демиденко",
      "photoUrl": "https://lh3.googleusercontent.com/a-/AAuE7mA6D7k5OgtG9hzPe8Abs8DfOKAXQoTXaPfn7EY=s64",
      "userId": "05224310221243935536"
     },
     "user_tz": -180
    },
    "id": "PB1plBV8CYE-",
    "outputId": "3f709612-cbf4-4de2-f434-47202994d2ad"
   },
   "outputs": [],
   "source": [
    "import configparser\n",
    "\n",
    "# Создание конфигурационного файла\n",
    "config = configparser.ConfigParser()\n",
    "config.add_section(\"Settings\")\n",
    "config.set(\"Settings\", \"font\", \"Courier\")\n",
    "config.set(\"Settings\", \"font_size\", \"10\")\n",
    "config.set(\"Settings\", \"font_style\", \"Normal\")\n",
    "config.set(\"Settings\", \"font_info\",\n",
    "           \"You are using %(font)s at %(font_size)s pt\")\n",
    "    \n",
    "with open('my_settings.ini', 'w') as config_file:\n",
    "    config.write(config_file)\n",
    "\n",
    "# ===Выведем содержимое файла===\n",
    "with open('my_settings.ini', 'r') as config_file:\n",
    "    print(config_file.read())\n",
    "\n",
    "\n",
    "\n",
    "# Чтение конфигурационного файла\n",
    "config = configparser.ConfigParser()\n",
    "config.read('my_settings.ini')\n",
    "    \n",
    "# Читаем некоторые значения из конфиг. файла.\n",
    "font = config.get(\"Settings\", \"font\")\n",
    "font_size = config.get(\"Settings\", \"font_size\")\n",
    "\n",
    "# Меняем значения из конфиг. файла.\n",
    "config.set(\"Settings\", \"font_size\", \"12\")\n",
    "\n",
    "# Удаляем значение из конфиг. файла.\n",
    "config.remove_option(\"Settings\", \"font_style\")\n",
    " \n",
    "# Вносим изменения в конфиг. файл.\n",
    "with open('my_settings.ini', \"w\") as config_file:\n",
    "    config.write(config_file)\n",
    "\n",
    "# ===Выведем содержимое файла===\n",
    "with open('my_settings.ini', 'r') as config_file:\n",
    "    print(config_file.read())"
   ]
  },
  {
   "cell_type": "markdown",
   "metadata": {
    "colab_type": "text",
    "id": "7HYnq7_0fMez"
   },
   "source": [
    "## Консервация объектов\n",
    "\n",
    "Модуль `pickle` (англ. pickle - консервировать) реализует мощный алгоритм сериализации и десериализации объектов Python. \"Pickling\" - процесс преобразования объекта Python в поток байтов, а \"unpickling\" - обратная операция, в результате которой поток байтов преобразуется обратно в Python-объект. Так как поток байтов легко можно записать в файл, модуль `pickle` широко применяется для сохранения и загрузки сложных объектов в Python.\n",
    "\n",
    "Модуль pickle предоставляет следующие функции для удобства сохранения/загрузки объектов:\n",
    "\n",
    "- `pickle.dump(obj, file, protocol=None, *, fix_imports=True)`\\\n",
    "Записывает сериализованный объект в файл. Дополнительный аргумент protocol указывает используемый протокол. По умолчанию равен 3 и именно он рекомендован для использования в Python 3 (несмотря на то, что в Python 3.4 добавили протокол версии 4 с некоторыми оптимизациями). В любом случае, записывать и загружать надо с одним и тем же протоколом.\n",
    "\n",
    "- `pickle.dumps(obj, protocol=None, *, fix_imports=True)`\\\n",
    "Возвращает сериализованный объект. Впоследствии вы его можете использовать как угодно.\n",
    "\n",
    "- `pickle.load(file, *, fix_imports=True, encoding=\"ASCII\", errors=\"strict\")`\\\n",
    "Загружает объект из файла.\n",
    "\n",
    "- `pickle.loads(bytes_object, *, fix_imports=True, encoding=\"ASCII\", errors=\"strict\")`\\\n",
    "Загружает объект из потока байт.\n",
    "\n",
    "Модуль `pickle` также определяет несколько исключений:\n",
    "\n",
    "`pickle.PickleError`\n",
    "- `pickle.PicklingError` - случились проблемы с сериализацией объекта.\n",
    "- `pickle.UnpicklingError` - случились проблемы с десериализацией объекта.\n",
    "\n",
    "Этих функций вполне достаточно для сохранения и загрузки встроенных типов данных.\n",
    "\n"
   ]
  },
  {
   "cell_type": "code",
   "execution_count": null,
   "metadata": {
    "colab": {
     "base_uri": "https://localhost:8080/",
     "height": 34
    },
    "colab_type": "code",
    "executionInfo": {
     "elapsed": 1532,
     "status": "ok",
     "timestamp": 1575808672530,
     "user": {
      "displayName": "Надежда Демиденко",
      "photoUrl": "https://lh3.googleusercontent.com/a-/AAuE7mA6D7k5OgtG9hzPe8Abs8DfOKAXQoTXaPfn7EY=s64",
      "userId": "05224310221243935536"
     },
     "user_tz": -180
    },
    "id": "tZdGPehqgtNn",
    "outputId": "f3037b95-629e-46b1-ec5b-d2f7eaa8685d"
   },
   "outputs": [],
   "source": [
    "import pickle\n",
    "data = {\n",
    "    'a': [1, 2.0, 3, 4+6j],\n",
    "    'b': (\"character string\", b\"byte string\"),\n",
    "    'c': {None, True, False}\n",
    "}\n",
    "\n",
    "with open('data.pickle', 'wb') as f:\n",
    "    pickle.dump(data, f)\n",
    "\n",
    "with open('data.pickle', 'rb') as f:\n",
    "    data_new = pickle.load(f)\n",
    "\n",
    "print(data_new)"
   ]
  }
 ],
 "metadata": {
  "colab": {
   "name": "topic11.ipynb",
   "provenance": []
  },
  "kernelspec": {
   "display_name": "Python 3",
   "language": "python",
   "name": "python3"
  },
  "language_info": {
   "codemirror_mode": {
    "name": "ipython",
    "version": 3
   },
   "file_extension": ".py",
   "mimetype": "text/x-python",
   "name": "python",
   "nbconvert_exporter": "python",
   "pygments_lexer": "ipython3",
   "version": "3.6.5"
  }
 },
 "nbformat": 4,
 "nbformat_minor": 1
}
