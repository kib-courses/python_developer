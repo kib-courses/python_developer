{
 "cells": [
  {
   "cell_type": "markdown",
   "metadata": {
    "colab_type": "text",
    "id": "HDxLZmF5LnUq"
   },
   "source": [
    "# Тестирование приложений. Инструкция assert. Библиотеки unittest, pytest"
   ]
  },
  {
   "cell_type": "markdown",
   "metadata": {
    "colab_type": "text",
    "id": "Quv01HVLXUqz"
   },
   "source": [
    "## Unit – тестирование\n",
    "\n",
    "Как должно быть:\n",
    "\n",
    "![Как должно быть](17/18-02.png)\n",
    "\n",
    "Принципы автоматизации тестов\n",
    "\n",
    "- Атомарность\n",
    "- Независимость\n",
    "- Изолированность/герметичность"
   ]
  },
  {
   "cell_type": "code",
   "execution_count": 0,
   "metadata": {
    "colab": {},
    "colab_type": "code",
    "id": "X_iIPNi3LZUC"
   },
   "outputs": [],
   "source": [
    "# Атомарность\n",
    "# Тесты должны быть атомарными, каждый из них должен проверять \n",
    "# ровно один тестовый случай. \n",
    "# Громоздкие и сложные тесты необходимо разбивать на несколько более мелких.\n",
    "\n",
    "def test_add_smth():\n",
    "    user = create_new_user(email='some@ema.il')\t\n",
    "    # user.register() # лишнее\n",
    "    # user.auth() # лишнее\n",
    "    smth = user.create_smth()\n",
    "    smth.add()\n",
    "    # assert user.is_authorized() # лишнее\n",
    "    assert smth.is_added()\n",
    "    # assert user.email == 'some@ema.il' # лишнее"
   ]
  },
  {
   "cell_type": "markdown",
   "metadata": {
    "colab_type": "text",
    "id": "WDtxpV_haOws"
   },
   "source": [
    "### Независимость\n",
    "\n",
    "```\n",
    "test1 -> test2 -> test3\n",
    "test2 -> test1 -> test3\n",
    "test3 -> test2 -> test1\n",
    "test1 -> test3 -> test2\n",
    "test3 -> test1 -> test2\n",
    "test2 -> test3 -> test1\n",
    "```"
   ]
  },
  {
   "cell_type": "markdown",
   "metadata": {
    "colab_type": "text",
    "id": "fzvVKBvofHVD"
   },
   "source": [
    "### Изолированность/герметичность\n",
    "\n",
    "![Изолированность](17/18-00.png)\n",
    "\n",
    "![Изолированность](17/18-01.png)"
   ]
  },
  {
   "cell_type": "markdown",
   "metadata": {
    "colab_type": "text",
    "id": "bd0hXIXfgj7-"
   },
   "source": [
    "## Как придумать тесты?\n",
    "\n",
    "- Разбор тестируемоего метода\n",
    "- Определение граничных значении\n",
    "- Определение классов эквивалентности\n",
    "\n",
    "> Какие тесты сделать для функции a / b?"
   ]
  },
  {
   "cell_type": "markdown",
   "metadata": {
    "colab_type": "text",
    "id": "G93AkfuQg6KI"
   },
   "source": [
    "## Инструменты для тестирования в Python\n",
    "\n",
    "- Unittest\n",
    "- Pytest"
   ]
  },
  {
   "cell_type": "markdown",
   "metadata": {
    "colab_type": "text",
    "id": "JdzVIFumA7rl"
   },
   "source": [
    "## Unittest"
   ]
  },
  {
   "cell_type": "code",
   "execution_count": 2,
   "metadata": {
    "colab": {},
    "colab_type": "code",
    "id": "V3iGDfajA_3N"
   },
   "outputs": [],
   "source": [
    "import unittest\n",
    "\n",
    "class TestStringMethods(unittest.TestCase):\n",
    "    def test_upper(self):\n",
    "        self.assertEqual('foo'.upper(), 'FOO')\n",
    "\n",
    "    def test_isupper(self):\n",
    "        self.assertTrue('FOO'.isupper())\n",
    "        self.assertFalse('Foo'.isupper())\n",
    "\n",
    "    def test_split(self):\n",
    "        s = 'hello world'\n",
    "        self.assertEqual(s.split(), ['hello', 'world'])\n",
    "        # check that s.split fails when the separator is not a string\n",
    "        with self.assertRaises(TypeError):\n",
    "            s.split(2)\n",
    "          \n",
    "    def something(self):\n",
    "        1 / 0"
   ]
  },
  {
   "cell_type": "markdown",
   "metadata": {
    "colab_type": "text",
    "id": "ZfrBKRYHCX4V"
   },
   "source": [
    "Подготовка состояния (фикстуры)\n",
    "\n",
    "- setUp()\n",
    "- tearDown()\n",
    "- setUpClass()\n",
    "- tearDownClass()\n",
    "- setUpModule()\n",
    "- tearDownModule()\n",
    "\n",
    "Проверка результата\n",
    "\n",
    "|Метод|Проверяет|Версия|\n",
    "|:---|:---|:---:|\n",
    "|assertEqual(a,b)|`a == b`||\n",
    "|assertNotEqual(a,b)|`a != b`||\n",
    "|assertTrue(x)|`bool(x) is True`||\n",
    "|assertFalse(x)|`bool(x) is False`||\n",
    "|assertIs(a, b)|`a is b`|3.1|\n",
    "|assertIsNot(a, b)|`a is not b`|3.1|\n",
    "|assertIsNone(x)|`x is None`|3.1|\n",
    "|assertIsNotNone(x)|`x is not None`|3.1|\n",
    "|assertIn(a, b)|`a in b`|3.1|\n",
    "|asertNotIn(a, b)|`a not in b`|3.1|\n",
    "|assertIsInstance(a, b)|`instance(a, b)`|3.2|\n",
    "|assertNotIsInstance(a, b)|`not instance(a, b)`|3.2|"
   ]
  },
  {
   "cell_type": "markdown",
   "metadata": {
    "colab_type": "text",
    "id": "y3gRb4MjFfB1"
   },
   "source": [
    "### Запуск unittest\n",
    "\n",
    "```\n",
    ">>> python -m unittest unit/test_simple.py\n",
    "```"
   ]
  },
  {
   "cell_type": "code",
   "execution_count": 10,
   "metadata": {},
   "outputs": [],
   "source": [
    "import unittest\n",
    "\n",
    "\n",
    "class TestStringMethods(unittest.TestCase):\n",
    "    def test_upper(self):\n",
    "        self.assertEqual('foo'.upper(), 'FOO')\n",
    "\n",
    "    def test_isupper(self):\n",
    "        self.assertTrue('FOO'.isupper())\n",
    "        self.assertFalse('Foo'.isupper())\n",
    "\n",
    "    def test_split(self):\n",
    "        s = 'hello world'\n",
    "        self.assertEqual(s.split(), ['hello', 'world'])\n",
    "        # check that s.split fails when the separator is not a string\n",
    "        with self.assertRaises(TypeError):\n",
    "            s.split(2)"
   ]
  },
  {
   "cell_type": "markdown",
   "metadata": {
    "colab_type": "text",
    "id": "B4167KX-GIJK"
   },
   "source": [
    "Почему unittest не очень удобен:\n",
    "\n",
    "- 1 класс – 1 тест\n",
    "- Fixtures в формате setUp tearDown\n",
    "- Скоуп фикстуры\n",
    "- Приходится наследоваться если у тестов\n",
    "одинаковый setUp\n",
    "- Сложные assert\n",
    "\n",
    "![скрин](17/18-03.png)"
   ]
  },
  {
   "cell_type": "markdown",
   "metadata": {
    "colab_type": "text",
    "id": "PA1qP6e_GziQ"
   },
   "source": [
    "## Pytest"
   ]
  },
  {
   "cell_type": "code",
   "execution_count": 3,
   "metadata": {
    "colab": {},
    "colab_type": "code",
    "id": "6nx-QuAWG3E5"
   },
   "outputs": [],
   "source": [
    "def test_upper():\n",
    "    assert 'foo'.upper() == 'FOO'\n",
    "\n",
    "def test_isupper():\n",
    "    assert 'FOO'.isupper()\n",
    "    assert not 'Foo'.isupper()\n",
    "\n",
    "def test_split():\n",
    "    s = 'hello world'\n",
    "    assert s.split() == ['hello', 'world']\n",
    "\n",
    "    try:\n",
    "        s.split(1)\n",
    "        assert False\n",
    "    except TypeError:\n",
    "        assert True"
   ]
  },
  {
   "cell_type": "markdown",
   "metadata": {
    "colab_type": "text",
    "id": "-CKF8_-SHj3g"
   },
   "source": [
    "Подготовка состояния (фикстуры)"
   ]
  },
  {
   "cell_type": "code",
   "execution_count": 4,
   "metadata": {
    "colab": {},
    "colab_type": "code",
    "id": "MF6E1mQARrpO"
   },
   "outputs": [],
   "source": [
    "import pytest\n",
    "\n",
    "@pytest.fixture(scope='function', autouse=False)\n",
    "def f():\n",
    "    print(1)\n",
    "    yield\n",
    "    print(2)"
   ]
  },
  {
   "cell_type": "markdown",
   "metadata": {
    "colab_type": "text",
    "id": "dJv-iKeDSDz9"
   },
   "source": [
    "Проверка результата"
   ]
  },
  {
   "cell_type": "markdown",
   "metadata": {
    "colab": {},
    "colab_type": "code",
    "id": "FTtpfA1HSGHg"
   },
   "source": [
    "<code>\n",
    "    assert res is None\n",
    "    assert res is False\n",
    "    assert res == {}\n",
    "    assert res == []\n",
    "    assert isinstance(res, list)\n",
    "</code>"
   ]
  },
  {
   "cell_type": "markdown",
   "metadata": {
    "colab_type": "text",
    "id": "vDmvIquuTF8p"
   },
   "source": [
    "```\n",
    ">>> python -m pytest test_simple.py\n",
    "```"
   ]
  },
  {
   "cell_type": "code",
   "execution_count": 17,
   "metadata": {},
   "outputs": [],
   "source": [
    "import pytest\n",
    "\n",
    "\n",
    "@pytest.fixture()\n",
    "def f():\n",
    "    print(1)\n",
    "\n",
    "\n",
    "@pytest.mark.usefixtures('f')\n",
    "def test_success():\n",
    "    assert True\n",
    "\n",
    "\n",
    "@pytest.mark.parametrize('a,b,res', [\n",
    "    (5, 2, 2.5),\n",
    "    (0, 2, 0),\n",
    "    (4, 2, 2),\n",
    "    (-4, 2, -2)\n",
    "])\n",
    "def test_div(a, b, res):\n",
    "    assert a / b == res"
   ]
  },
  {
   "cell_type": "markdown",
   "metadata": {
    "colab_type": "text",
    "id": "eatjhF0uT8bg"
   },
   "source": [
    "## Антипаттерны\n",
    "\n",
    "- Liar\n",
    "- Giant\n",
    "- Secret Catcher\n",
    "- Enumerator\n",
    "- Slowpoke "
   ]
  },
  {
   "cell_type": "markdown",
   "metadata": {
    "colab_type": "text",
    "id": "aec2QIRJUJs4"
   },
   "source": [
    "### Liar"
   ]
  },
  {
   "cell_type": "code",
   "execution_count": 7,
   "metadata": {
    "colab": {},
    "colab_type": "code",
    "id": "PvB2PzICUMkn"
   },
   "outputs": [],
   "source": [
    "def test_some_smth():\n",
    "    do_smth()\n",
    "    assert True"
   ]
  },
  {
   "cell_type": "markdown",
   "metadata": {
    "colab_type": "text",
    "id": "0sjK8zRhUPyK"
   },
   "source": [
    "### Giant\n",
    "\n",
    "![Giant](17/18-05.png)"
   ]
  },
  {
   "cell_type": "markdown",
   "metadata": {
    "colab_type": "text",
    "id": "XU3kfKmtUjCC"
   },
   "source": [
    "### The Secret Catcher"
   ]
  },
  {
   "cell_type": "code",
   "execution_count": 0,
   "metadata": {
    "colab": {},
    "colab_type": "code",
    "id": "-v5fPDvlUkB6"
   },
   "outputs": [],
   "source": [
    "def test_smth_one_two_three():\n",
    "    do_smth1()\n",
    "    do_smth2()\n",
    "    do_smth3()"
   ]
  },
  {
   "cell_type": "markdown",
   "metadata": {
    "colab_type": "text",
    "id": "tqeuj7X1UtDk"
   },
   "source": [
    "### Enumerator"
   ]
  },
  {
   "cell_type": "code",
   "execution_count": 18,
   "metadata": {
    "colab": {},
    "colab_type": "code",
    "id": "eIaAqT1rUu7Y"
   },
   "outputs": [],
   "source": [
    "def test1():\n",
    "    pass\n",
    "def test2():\n",
    "    pass\n",
    "def test3():\n",
    "    pass"
   ]
  },
  {
   "cell_type": "markdown",
   "metadata": {
    "colab_type": "text",
    "id": "8MSXp8g9UyyG"
   },
   "source": [
    "### Slowpoke"
   ]
  },
  {
   "cell_type": "code",
   "execution_count": 19,
   "metadata": {
    "colab": {},
    "colab_type": "code",
    "id": "_Zs8LXEuVRZm"
   },
   "outputs": [],
   "source": [
    "def test_pokemon():\n",
    "    do_smth1()\n",
    "    time.sleep(N)\n",
    "    assert True"
   ]
  },
  {
   "cell_type": "markdown",
   "metadata": {
    "colab_type": "text",
    "id": "pvcQRL6EVX9l"
   },
   "source": [
    "## Тесты на тесты\n",
    "\n",
    "Анализ покрытия:\n",
    "\n",
    "- По файлам\n",
    "- По классам\n",
    "- По методам\n",
    "- По строкам\n",
    "- По ветвям\n",
    "\n",
    "### Mutation testing\n",
    "\n",
    "Метод тестирования основанный на внесении\n",
    "небольших измененийв код программы."
   ]
  },
  {
   "cell_type": "markdown",
   "metadata": {
    "colab_type": "text",
    "id": "ZJdJQzk-V8rt"
   },
   "source": [
    "## Зачем писать тесты?\n",
    "\n",
    "- Улучшение качества\n",
    "- Облегчение внесения изменений\n",
    "- Документация на продукт\n",
    "\n",
    "![зачем писать тесты](17/18-06.png)"
   ]
  },
  {
   "cell_type": "markdown",
   "metadata": {
    "colab_type": "text",
    "id": "0qVUbEMnWicE"
   },
   "source": [
    "###### Блокнот подготовлен по материалам Опрышко Александра"
   ]
  }
 ],
 "metadata": {
  "colab": {
   "name": "topic18.ipynb",
   "provenance": []
  },
  "kernelspec": {
   "display_name": "Python 3",
   "language": "python",
   "name": "python3"
  },
  "language_info": {
   "codemirror_mode": {
    "name": "ipython",
    "version": 3
   },
   "file_extension": ".py",
   "mimetype": "text/x-python",
   "name": "python",
   "nbconvert_exporter": "python",
   "pygments_lexer": "ipython3",
   "version": "3.6.5"
  }
 },
 "nbformat": 4,
 "nbformat_minor": 1
}
