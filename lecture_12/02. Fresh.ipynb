{
 "cells": [
  {
   "cell_type": "markdown",
   "metadata": {},
   "source": [
    "# Новые возможности Python 3.7 и 3.8\n",
    "\n",
    "## Классы данных (3.7)\n",
    "\n",
    "https://habr.com/ru/post/415829/\n",
    "\n",
    "Часто в конструкторе класса можно наблюдать следующую ситуацию:"
   ]
  },
  {
   "cell_type": "code",
   "execution_count": null,
   "metadata": {},
   "outputs": [],
   "source": [
    "class SomeThing:\n",
    "    def __init__(self, value1, value2):\n",
    "        self.value1 = value1\n",
    "        self.value2 = value2"
   ]
  },
  {
   "cell_type": "markdown",
   "metadata": {},
   "source": [
    "В Python 3.7 появились классы данных, в которых не нужно писать все эти однотипные присвоения. Они задаются декотратором `@dataclass`"
   ]
  },
  {
   "cell_type": "code",
   "execution_count": null,
   "metadata": {},
   "outputs": [],
   "source": [
    "from dataclasses import dataclass\n",
    "\n",
    "@dataclass\n",
    "class SomeThing:\n",
    "    value1: int\n",
    "    value2: str\n",
    "        \n",
    "\n",
    "s = SomeThing(1, \"abc\")\n",
    "s.value1, s.value2"
   ]
  },
  {
   "cell_type": "markdown",
   "metadata": {},
   "source": [
    "Аннотации типов обязательны, иначе поля игнорируются декоратором (да и NameError возникает)"
   ]
  },
  {
   "cell_type": "code",
   "execution_count": null,
   "metadata": {},
   "outputs": [],
   "source": [
    "@dataclass\n",
    "class SomeThing:\n",
    "    value1: int\n",
    "    value2: str\n",
    "    value3\n",
    "        \n",
    "\n",
    "s = SomeThing(1, \"abc\")\n",
    "s.value1, s.value2, s.value3"
   ]
  },
  {
   "cell_type": "markdown",
   "metadata": {},
   "source": [
    "### make_dataclass\n",
    "\n",
    "Библиотека dataclass предоставляет функцию, которая позволяет создавать класс данных следующим образом:"
   ]
  },
  {
   "cell_type": "code",
   "execution_count": null,
   "metadata": {},
   "outputs": [],
   "source": [
    "from dataclasses import make_dataclass\n",
    "\n",
    "SomeThing = make_dataclass(\"SomeThing\", [\"value1\", \"value2\"])\n",
    "s = SomeThing(1, \"abc\")\n",
    "s.value1, s.value2"
   ]
  },
  {
   "cell_type": "markdown",
   "metadata": {},
   "source": [
    "### Значения по умолчанию\n",
    "\n",
    "В синтаксисе датакласса можно указать значения по умолчанию:"
   ]
  },
  {
   "cell_type": "code",
   "execution_count": null,
   "metadata": {},
   "outputs": [],
   "source": [
    "@dataclass\n",
    "class SomeThing:\n",
    "    value1: int = 1\n",
    "    value2: str = \"abc\"\n",
    "        \n",
    "a = SomeThing(45)\n",
    "b = SomeThing(value2=\"abcde\")\n",
    "\n",
    "print(a.value1, a.value2)\n",
    "print(b.value1, b.value2)"
   ]
  },
  {
   "cell_type": "markdown",
   "metadata": {},
   "source": [
    "Но надо помнить о том, что аргументы по умолчанию всегда должны следовать после всех позиционных аргументов. Это касается и конструктора, генерируемого декоратором dataclass."
   ]
  },
  {
   "cell_type": "code",
   "execution_count": null,
   "metadata": {},
   "outputs": [],
   "source": [
    "@dataclass\n",
    "class SomeThing:\n",
    "    value1: int = 1\n",
    "    value2: str\n",
    "        \n",
    "a = SomeThing(45)\n",
    "b = SomeThing(value2=\"abcde\")\n",
    "\n",
    "print(a.value1, a.value2)\n",
    "print(b.value1, b.value2)"
   ]
  },
  {
   "cell_type": "markdown",
   "metadata": {},
   "source": [
    "### Frozen Data Class\n",
    "\n",
    "Отличный способ, чтобы хранить константы: объекты датаклассов, созданных таким образом, неизменяемы."
   ]
  },
  {
   "cell_type": "code",
   "execution_count": null,
   "metadata": {},
   "outputs": [],
   "source": [
    "@dataclass(frozen=True)\n",
    "class SomeThing:\n",
    "    value1: int\n",
    "    value2: str\n",
    "        \n",
    "        \n",
    "s = SomeThing(value1=256, value2=\"abc\")\n",
    "s.value2 = \"abcde\""
   ]
  },
  {
   "cell_type": "code",
   "execution_count": null,
   "metadata": {},
   "outputs": [],
   "source": [
    "s.value3 = 2"
   ]
  },
  {
   "cell_type": "markdown",
   "metadata": {},
   "source": [
    "### Параметры класса данных\n",
    "\n",
    "- `init: bool = True` - создать или не создать конструктор\n",
    "- `repr: bool = True` - создать или не создать `__repr__`\n",
    "- `eq: bool = True` - создать или не создать метод `__eq__`\n",
    "- `order: bool = False` - создать или не создать методы сравнения объектов\n",
    "- `unsafe_hash: bool: False` - создать или не создать метод `__hash__`. Само создание метода зависит также от параметров `eq` и `frozen`\n",
    "- `frozen: bool = False` - запрет изменения атрибутов класса\n",
    "\n",
    "Посмотрим, что из себя представляют `__eq__`, `__lt__` и остальные, сгенерированные автоматически"
   ]
  },
  {
   "cell_type": "code",
   "execution_count": null,
   "metadata": {},
   "outputs": [],
   "source": [
    "@dataclass(eq=True, order=True, unsafe_hash=True)\n",
    "class SomeThing:\n",
    "    value1: int\n",
    "    value2: str\n",
    "\n",
    "SomeThing(1, 2) == SomeThing(1, 2)"
   ]
  },
  {
   "cell_type": "code",
   "execution_count": null,
   "metadata": {},
   "outputs": [],
   "source": [
    "SomeThing(1, 2) > SomeThing(2, 1)"
   ]
  },
  {
   "cell_type": "code",
   "execution_count": null,
   "metadata": {},
   "outputs": [],
   "source": [
    "SomeThing(1, 2) < SomeThing(2, 1)"
   ]
  },
  {
   "cell_type": "markdown",
   "metadata": {},
   "source": [
    "По умолчанию у таких классов сравниваются кортежи значений в том порядке, в котором они были изначально заданы. Посмотреть OrderedDict параметров можно через поле `__dataclass_fields__`"
   ]
  },
  {
   "cell_type": "code",
   "execution_count": null,
   "metadata": {},
   "outputs": [],
   "source": [
    "SomeThing(100, \"abc\").__dataclass_fields__"
   ]
  },
  {
   "cell_type": "markdown",
   "metadata": {},
   "source": [
    "А что с хешами?"
   ]
  },
  {
   "cell_type": "code",
   "execution_count": null,
   "metadata": {},
   "outputs": [],
   "source": [
    "@dataclass(eq=True, unsafe_hash=True)\n",
    "class SomeThing:\n",
    "    value1: int\n",
    "    value2: str\n",
    "\n",
    "\n",
    "print(hash(SomeThing(1, 2)) == hash(SomeThing(1, 2)))\n",
    "print(hash(SomeThing(1, 2)) == hash(SomeThing(2, 2)))"
   ]
  },
  {
   "cell_type": "code",
   "execution_count": null,
   "metadata": {},
   "outputs": [],
   "source": [
    "@dataclass(eq=False, unsafe_hash=True)\n",
    "class SomeThing:\n",
    "    value1: int\n",
    "    value2: str\n",
    "\n",
    "\n",
    "print(hash(SomeThing(1, 2)) == hash(SomeThing(1, 2)))\n",
    "print(hash(SomeThing(1, 2)) == hash(SomeThing(2, 2)))"
   ]
  },
  {
   "cell_type": "code",
   "execution_count": null,
   "metadata": {},
   "outputs": [],
   "source": [
    "@dataclass(frozen=True, eq=True, unsafe_hash=True)\n",
    "class SomeThing:\n",
    "    value1: int\n",
    "    value2: str\n",
    "\n",
    "\n",
    "print(hash(SomeThing(1, 2)) == hash(SomeThing(1, 2)))\n",
    "print(hash(SomeThing(1, 2)) == hash(SomeThing(2, 2)))"
   ]
  },
  {
   "cell_type": "code",
   "execution_count": null,
   "metadata": {},
   "outputs": [],
   "source": [
    "@dataclass(frozen=True, eq=False, unsafe_hash=True)\n",
    "class SomeThing:\n",
    "    value1: int\n",
    "    value2: str\n",
    "\n",
    "\n",
    "print(hash(SomeThing(1, 2)) == hash(SomeThing(1, 2)))\n",
    "print(hash(SomeThing(1, 2)) == hash(SomeThing(2, 2)))"
   ]
  },
  {
   "cell_type": "code",
   "execution_count": null,
   "metadata": {},
   "outputs": [],
   "source": [
    "@dataclass(frozen=True, eq=False)\n",
    "class SomeThing:\n",
    "    value1: int\n",
    "    value2: str\n",
    "\n",
    "\n",
    "print(hash(SomeThing(1, 2)) == hash(SomeThing(1, 2)))\n",
    "print(hash(SomeThing(1, 2)) == hash(SomeThing(2, 2)))"
   ]
  },
  {
   "cell_type": "code",
   "execution_count": null,
   "metadata": {},
   "outputs": [],
   "source": [
    "@dataclass(frozen=False, eq=False, unsafe_hash=False)\n",
    "class SomeThing:\n",
    "    value1: int\n",
    "    value2: str\n",
    "\n",
    "\n",
    "print(hash(SomeThing(1, 2)) == hash(SomeThing(1, 2)))\n",
    "print(hash(SomeThing(1, 2)) == hash(SomeThing(2, 2)))"
   ]
  },
  {
   "cell_type": "code",
   "execution_count": null,
   "metadata": {},
   "outputs": [],
   "source": [
    "@dataclass(frozen=False, eq=True, unsafe_hash=False)\n",
    "class SomeThing:\n",
    "    value1: int\n",
    "    value2: str\n",
    "\n",
    "\n",
    "print(hash(SomeThing(1, 2)) == hash(SomeThing(1, 2)))\n",
    "print(hash(SomeThing(1, 2)) == hash(SomeThing(2, 2)))"
   ]
  },
  {
   "cell_type": "code",
   "execution_count": null,
   "metadata": {},
   "outputs": [],
   "source": [
    "@dataclass(frozen=True, eq=True, unsafe_hash=False)\n",
    "class SomeThing:\n",
    "    value1: int\n",
    "    value2: str\n",
    "\n",
    "\n",
    "print(hash(SomeThing(1, 2)) == hash(SomeThing(1, 2)))\n",
    "print(hash(SomeThing(1, 2)) == hash(SomeThing(2, 2)))"
   ]
  },
  {
   "cell_type": "markdown",
   "metadata": {},
   "source": [
    "### Изменяемые значения по умолчанию\n",
    "\n",
    "Как мы знаем, использовать изменяемые объекты в качестве значений по умолчанию - плохая идея, поскольку они инстанцируются только один раз при объявлении функции. Dataclass это учитывает:"
   ]
  },
  {
   "cell_type": "code",
   "execution_count": null,
   "metadata": {},
   "outputs": [],
   "source": [
    "from typing import List\n",
    "\n",
    "@dataclass\n",
    "class SomeThing:\n",
    "    value: List[int] = []"
   ]
  },
  {
   "cell_type": "markdown",
   "metadata": {},
   "source": [
    "Библиотека предлагает использовать default_factory:"
   ]
  },
  {
   "cell_type": "code",
   "execution_count": null,
   "metadata": {},
   "outputs": [],
   "source": [
    "from dataclasses import field\n",
    "\n",
    "@dataclass\n",
    "class SomeThing:\n",
    "    value: List[int] = field(default_factory=list)\n",
    "        \n",
    "SomeThing().value"
   ]
  },
  {
   "cell_type": "markdown",
   "metadata": {},
   "source": [
    "#### Параметры field\n",
    "- `default`: значение по умолчанию. Этот параметр необходим, так как вызов `field` заменяет задание значения поля по умолчанию\n",
    "- `init`: включает (задан по умолчанию) использование поля в методе `__init__`\n",
    "- `repr`: включает (задан по умолчанию) использование поля в методе `__repr__`\n",
    "compare включает (задан по умолчанию) использование поля в методах сравнения (`__eq__`, `__le__` и других)\n",
    "- `hash`: может быть булевое значение или None. Если он равен True, поле используется при вычислении хэша. Если указано None (по умолчанию) — используется значение параметра compare.\n",
    "Одной из причин указать `hash=False` при заданном `compare=True` может быть сложность вычисления хэша поля при том, что оно необходимо для сравнения.\n",
    "- `metadata`: произвольный словарь или None. Значение оборачивается в MappingProxyType, чтобы оно стало неизменяемым. Этот параметр не используется самими классами данных и предназначен для работы сторонних расширений.\n"
   ]
  },
  {
   "cell_type": "markdown",
   "metadata": {},
   "source": [
    "### Обработка после инициализации\n",
    "\n",
    "В классах данных автоматически создается метод `__init__`, в котором исплоняется код присвоения значений в поля объекта: `self.value = value`. Но что если мы хотим использовать датакласс, но дополнить конструктор какими-то еще действиями? Для этого можем задать метод `__post_init__`"
   ]
  },
  {
   "cell_type": "code",
   "execution_count": null,
   "metadata": {},
   "outputs": [],
   "source": [
    "@dataclass\n",
    "class Book:\n",
    "    title: str\n",
    "    author: str\n",
    "    desc: str = None\n",
    "\n",
    "    def __post_init__(self):\n",
    "        self.desc = self.desc or \"`%s` by %s\" % (self.title, self.author)\n",
    "        \n",
    "        \n",
    "Book(\"Название\", \"Автор\").desc"
   ]
  },
  {
   "cell_type": "markdown",
   "metadata": {},
   "source": [
    "В этом методе можно использовать дополнительные аргументы конструктора, которые не нужно записывать в self. Для этого предназначен класс `dataclasses.InitVar`:"
   ]
  },
  {
   "cell_type": "code",
   "execution_count": null,
   "metadata": {},
   "outputs": [],
   "source": [
    "from dataclasses import InitVar\n",
    "\n",
    "@dataclass\n",
    "class Book:\n",
    "    title: str\n",
    "    author: str\n",
    "    gen_desc: InitVar[bool] = True\n",
    "    desc: str = None\n",
    "\n",
    "    def __post_init__(self, gen_desc: str):\n",
    "        if gen_desc and self.desc is None:\n",
    "            self.desc = \"`%s` by %s\" % (self.title, self.author)\n",
    "            \n",
    "            \n",
    "print(Book(\"Название\", \"Автор\", True).desc)\n",
    "print(Book(\"Название\", \"Автор\", False).desc)"
   ]
  },
  {
   "cell_type": "markdown",
   "metadata": {},
   "source": [
    "### Наследование в датаклассах\n",
    "\n",
    "Если датакласс наследуется от другого датакласса, то он складывает OrderedDict'ы обоих классов и использует полученный общий OrderedDict во всех генерируемых методах."
   ]
  },
  {
   "cell_type": "code",
   "execution_count": null,
   "metadata": {},
   "outputs": [],
   "source": [
    "from typing import Any\n",
    "\n",
    "\n",
    "@dataclass\n",
    "class BaseBook:\n",
    "    title: Any = None\n",
    "    author: str = None\n",
    "\n",
    "@dataclass\n",
    "class Book(BaseBook):\n",
    "    desc: str = None\n",
    "    title: str = \"Unknown\"\n",
    "        \n",
    "        \n",
    "Book()"
   ]
  },
  {
   "cell_type": "code",
   "execution_count": null,
   "metadata": {},
   "outputs": [],
   "source": [
    "Book().__dataclass_fields__"
   ]
  },
  {
   "cell_type": "markdown",
   "metadata": {},
   "source": [
    "# Новое в Python 3.8\n",
    "\n",
    "https://habr.com/ru/post/483276/\n",
    "\n",
    "## Моржовый оператор\n",
    "\n",
    "Оператор присваивания - как в паскале. Служит для улучшения читаемости кода."
   ]
  },
  {
   "cell_type": "code",
   "execution_count": null,
   "metadata": {},
   "outputs": [],
   "source": [
    "a = 6\n",
    "\n",
    "# Код ниже присваивает b значение a ** 2\n",
    "# и проверяет, если b > 0\n",
    "if (b := a ** 2) > 0: \n",
    "    print(f'Квадрат {a} это {b}.') # Квадрат 6 это 36."
   ]
  },
  {
   "cell_type": "markdown",
   "metadata": {},
   "source": [
    "## Только позиционные аргументы\n",
    "\n",
    "Всё, что записано в сигнатуре функции до знака /, можно передавать только как позиционные аргументы. По имени - нельзя, будет ошибка."
   ]
  },
  {
   "cell_type": "code",
   "execution_count": null,
   "metadata": {},
   "outputs": [],
   "source": [
    "def my_func(a, b, /, c, d, *, e, f):\n",
    "    return a+b+c+d+e+f\n",
    "  \n",
    "my_func(1, 2, 3, 4, 5, 6)         # ошибка: e, f должны быть именованными\n",
    "my_func(a=1, b=2, 3, 4, e=5, f=6) # ошибка: a, b должны быть позиционными\n",
    "my_func(1, 2, c=3, 4, e=5, f=6)   # returns 21\n",
    "my_unc(1, 2, c=3, d=4, e=5, f=6)  # returns 21"
   ]
  },
  {
   "cell_type": "markdown",
   "metadata": {},
   "source": [
    "## Улучшенный дебаг print'ом =)\n",
    "\n",
    "Новый синтаксис f-строк позволяет выводить сразу имя переменной и ее значение:"
   ]
  },
  {
   "cell_type": "code",
   "execution_count": null,
   "metadata": {},
   "outputs": [],
   "source": [
    "pi = 3  # В военное время может быть и так\n",
    "\n",
    "print(f'pi={pi}')  # так мы делали раньше\n",
    "print(f'{pi=}')     # а так можно делать теперь"
   ]
  },
  {
   "cell_type": "markdown",
   "metadata": {},
   "source": [
    "## reversed()\n",
    "\n",
    "теперь можно вызывать не только над объектами, в которых реализован метод `__reversed__`, но и над теми, в которых описаны `__len__` и `__getitem__`. В числе таких объектов - словари."
   ]
  },
  {
   "cell_type": "markdown",
   "metadata": {},
   "source": [
    "## Получение метаданных из других модулей\n",
    "\n",
    "Новый модуль importlib.metadata позволит получать метаданные (например, версию) из сторонних пакетов."
   ]
  },
  {
   "cell_type": "markdown",
   "metadata": {},
   "source": [
    "## Использование continue в блоке finally"
   ]
  },
  {
   "cell_type": "code",
   "execution_count": null,
   "metadata": {},
   "outputs": [],
   "source": [
    "for i in range(2):\n",
    "    try:\n",
    "        print(i)\n",
    "    finally:\n",
    "        print('Тест.')\n",
    "        continue\n",
    "        print('Эту строку вы не увидите.')"
   ]
  }
 ],
 "metadata": {
  "kernelspec": {
   "display_name": "Python 3",
   "language": "python",
   "name": "python3"
  },
  "language_info": {
   "codemirror_mode": {
    "name": "ipython",
    "version": 3
   },
   "file_extension": ".py",
   "mimetype": "text/x-python",
   "name": "python",
   "nbconvert_exporter": "python",
   "pygments_lexer": "ipython3",
   "version": "3.7.4"
  }
 },
 "nbformat": 4,
 "nbformat_minor": 2
}
