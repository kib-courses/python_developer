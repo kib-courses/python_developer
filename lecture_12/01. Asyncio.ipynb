{
 "cells": [
  {
   "attachments": {
    "thread.svg": {
     "image/svg+xml": [
      "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"
     ]
    }
   },
   "cell_type": "markdown",
   "metadata": {},
   "source": [
    "# Асинхронное программирование в Python\n",
    "\n",
    "https://medium.com/analytics-vidhya/asyncio-threading-and-multiprocessing-in-python-4f5ff6ca75e8\n",
    "\n",
    "## Определения\n",
    "\n",
    "__Поток__ - наименьшая единица обработки, которую может назначить ядро операционной системы. Несколько потоков могут исполняться внутри одного процесса.\n",
    "\n",
    "![thread.svg](attachment:thread.svg)\n",
    "\n",
    "__Процесс__ — экземпляр программы во время выполнения, независимый объект, которому выделены системные ресурсы.\n",
    "\n",
    "Практическая разница между ними заключается в том, что процессы не делят между собой память (т.е. у каждого процесса свой контекст исполнения, и они не могут обращаться к переменным друг друга), а разные потоки могут взаимодействовать с одними и теми же ресурсами.\n",
    "\n",
    "## GIL - Global Interpreter Lock\n",
    "\n",
    "В многопоточном приложении сразу несколько потоков могут изменять счетчик ссылок на объект, а это может привести к его непредвиденному удалению. Блокировка счетчика ссылок отдельных объектов - плохой вариант, поскольку это может привести к взаимной блокировке двух объектов. Поэтому в питоне используется GIL - глобальная блокировка самого интерпретатора. Таким образом, многопоточные приложения всё равно исполняются последовательно.\n",
    "\n",
    "# Общие концепты\n",
    "\n",
    "# Многопоточность\n",
    "\n",
    "Несмотря на последовательное исполнение всех потоков в интерпретаторе, многопоточность несет в себе смысл. Иногда в коде появляются долгие операции, которые приостанавливают собой всё остальное выполнение программы. Их нужно выносить в отдельный поток, чтобы остальная часть программы могла исполняться в прерываниях того потока.\n",
    "\n",
    "Напишем простую однопоточную программу:"
   ]
  },
  {
   "cell_type": "code",
   "execution_count": null,
   "metadata": {},
   "outputs": [],
   "source": [
    "import logging\n",
    "import time\n",
    "\n",
    "logger_format = '%(asctime)s:%(threadName)s:%(message)s'\n",
    "logging.basicConfig(format=logger_format, level=logging.INFO, datefmt=\"%H:%M:%S\")\n",
    "\n",
    "\n",
    "def delay(delay, message):\n",
    "    logging.info(f\"{message} received\")\n",
    "    time.sleep(delay)\n",
    "    logging.info(f\"Printing {message}\")\n",
    "    return message\n",
    "\n",
    "def main():\n",
    "    logging.info(\"Main started\")\n",
    "    delay(2, \"TWO SECONDS DELAY\")\n",
    "    delay(3, \"THREE SECONDS DELAY\")\n",
    "    logging.info(\"Main Ended\")\n",
    "\n",
    "main()"
   ]
  },
  {
   "cell_type": "markdown",
   "metadata": {},
   "source": [
    "Запишем ту же логику с использованием модуля threading, который отвечает за работу с потоками. Получим 2 секунды выигрыша, поскольку прерывание исполнения и передача управления другому потоку происходит во время \"сна\" потока."
   ]
  },
  {
   "cell_type": "code",
   "execution_count": null,
   "metadata": {},
   "outputs": [],
   "source": [
    "import threading\n",
    "\n",
    "def main():\n",
    "    logging.info(\"Main started\")\n",
    "    threads = [\n",
    "        threading.Thread(target=delay, args=(3, \"THREE SECONDS DELAY\")),\n",
    "        threading.Thread(target=delay, args=(2, \"TWO SECONDS DELAY\")),\n",
    "    ]\n",
    "    for thread in threads:\n",
    "        thread.start()\n",
    "    logging.info(\"А тут мы видим, что главный поток тоже продолжает исполняться\")\n",
    "    for thread in threads:\n",
    "        thread.join() # waits for thread to complete its task\n",
    "    logging.info(\"Main Ended\")\n",
    "    \n",
    "main()"
   ]
  },
  {
   "cell_type": "markdown",
   "metadata": {},
   "source": [
    "### Футуры\n",
    "\n",
    "Создание потоков - достаточно затратная операция, поэтому под каждый вызов функции создавать свой поток - долго. Футуры позволяют создать пул потоков, в котором отработавшие потоки будут переиспользоваться в новых заданиях. В них хранится текущий результат выполнения какой-либо задачи."
   ]
  },
  {
   "cell_type": "code",
   "execution_count": null,
   "metadata": {},
   "outputs": [],
   "source": [
    "import concurrent.futures as cf\n",
    "\n",
    "def main():\n",
    "    with cf.ThreadPoolExecutor(max_workers=2) as executor:\n",
    "        future_to_mapping = {\n",
    "            executor.submit(delay, 3, \"THREE SECONDS DELAY\"): \"3 secs\",\n",
    "            executor.submit(delay, 2, \"TWO SECONDS DELAY\"): \"2 secs\",\n",
    "        }\n",
    "        for future in cf.as_completed(future_to_mapping):\n",
    "            logging.info(f\"{future.result()} Done\")\n",
    "            \n",
    "main()"
   ]
  },
  {
   "cell_type": "markdown",
   "metadata": {},
   "source": [
    "# Asyncio\n",
    "\n",
    "Библиотека, которая появилась в Python 3.4 и позволяет создавать асинхронные приложения с минимальными усилиями. В asyncio используются три основные сущности:\n",
    "\n",
    "1. __Корутины__ - специальные функции, от которых ожидается передача управления в цикл событий, из которого они были запущены.\n",
    "2. __Цикл событий__ - корутина, которая управляет вызовом остальных корутин.\n",
    "3. __Awaitable объект__ - объект, который умеет \"ожидать\" результат.\n",
    "\n",
    "Корутины можно задавать в стиле генератора:"
   ]
  },
  {
   "cell_type": "code",
   "execution_count": null,
   "metadata": {},
   "outputs": [],
   "source": [
    "def grep(pattern):\n",
    "    print(\"Searching for\", pattern)\n",
    "    while True:\n",
    "        line = (yield)\n",
    "        if pattern in line:\n",
    "            print(line)\n",
    "            \n",
    "            \n",
    "search = grep('coroutine')\n",
    "next(search)\n",
    "search.send(\"I love you\")\n",
    "search.send(\"Don't you love me?\")\n",
    "search.send(\"I love coroutines instead!\")\n",
    "search.close()"
   ]
  },
  {
   "cell_type": "markdown",
   "metadata": {},
   "source": [
    "Но лучше для этого использовать ключевые слова `async def`, которые появились в Python 3.5."
   ]
  },
  {
   "cell_type": "code",
   "execution_count": null,
   "metadata": {},
   "outputs": [],
   "source": [
    "import asyncio\n",
    "import time\n",
    "\n",
    "\n",
    "async def delay_message(delay, message):\n",
    "    logging.info(f\"{message} received\")\n",
    "    await asyncio.sleep(delay) # time.sleep is blocking call. Hence, it cannot be awaited and we have to use asyncio.sleep\n",
    "    logging.info(f\"Printing {message}\")\n",
    "    \n",
    "async def main():\n",
    "    logging.info(\"Main started\")\n",
    "    logging.info(f'Текущие зарегистрированные задания: {len(asyncio.all_tasks())}')\n",
    "    logging.info(\"Создадим задания\")\n",
    "    task_1 = asyncio.create_task(delay_message(2, \"TWO SECONDS AWAIT\") )\n",
    "    task_2 = asyncio.create_task(delay_message(3, \"THREE SECONDS AWAIT\"))\n",
    "    logging.info(f'Текущие зарегистрированные задания: {len(asyncio.all_tasks())}')\n",
    "    await task_1\n",
    "    await task_2\n",
    "    logging.info(\"Main Ended\")\n",
    "\n",
    "\n",
    "# asyncio.run(main()) # creates an event loop\n",
    "    \n",
    "await main()"
   ]
  },
  {
   "cell_type": "markdown",
   "metadata": {},
   "source": [
    "Еще удобней использовать `asyncio.gather` для создания заданий:"
   ]
  },
  {
   "cell_type": "code",
   "execution_count": null,
   "metadata": {},
   "outputs": [],
   "source": [
    "async def main():\n",
    "    logging.info(\"Main started\")\n",
    "    logging.info(\"Создаем несколько заданий с помощью asyncio.gather\")\n",
    "    await asyncio.gather(*[delay_message(i, f\"WAITING {i} SECONDS\") for i in range(6, 0, -1)])\n",
    "    logging.info(\"Main Ended\")\n",
    "    \n",
    "\n",
    "# asyncio.run(main()) # creates an event loop\n",
    "\n",
    "await main()"
   ]
  },
  {
   "cell_type": "markdown",
   "metadata": {},
   "source": [
    "## Блокировка ресурсов\n",
    "\n",
    "Во время исполнения задание asyncio забирает себе все доступные ресурсы для процесса, в котором оно находится. Поэтому если сделать блокирующий вызов time.sleep, приостановится весь процесс, включая \"параллельные\" задачи:"
   ]
  },
  {
   "cell_type": "code",
   "execution_count": null,
   "metadata": {},
   "outputs": [],
   "source": [
    "import asyncio\n",
    "import time\n",
    "\n",
    "\n",
    "async def delay_message(delay, message):\n",
    "    logging.info(f\"{message} received\")\n",
    "    if '6' not in message:\n",
    "        await asyncio.sleep(delay) # неблокирующий вызов - контекст передается в другой фрейм\n",
    "    else:\n",
    "        time.sleep(delay) # блокирующий вызов\n",
    "    logging.info(f\"Printing {message}\")\n",
    "\n",
    "\n",
    "async def main():\n",
    "    logging.info(\"Main started\")\n",
    "    logging.info(\"Creating multiple tasks with asyncio.gather\")\n",
    "    await asyncio.gather(*[delay_message(i, f\"WAITING {i} SECONDS\") for i in range(10, 0, -1)])\n",
    "    logging.info(\"Main Ended\")\n",
    "\n",
    "\n",
    "# asyncio.run(main())\n",
    "await main()"
   ]
  },
  {
   "cell_type": "markdown",
   "metadata": {},
   "source": [
    "## Блокировка потока (threading)\n",
    "\n",
    "Объект `db` ниже - общий ресурс для двух потоков. В следующем примере мы пытаемся изменить значение `value` дважды, каждый раз по формуле `value ** 2 + 1`. Но еще до первого изменения контекст передается во второй вызов функции, в котором value всё еще равно изначальному нулю. Поэтому после обоих изменений значение изменится как после одного раза."
   ]
  },
  {
   "cell_type": "code",
   "execution_count": null,
   "metadata": {},
   "outputs": [],
   "source": [
    "import concurrent.futures as cf\n",
    "import time\n",
    "\n",
    "\n",
    "class DbUpdate:\n",
    "    def __init__(self):\n",
    "        self.value = 0\n",
    "\n",
    "    def update(self):\n",
    "        logging.info(\"Update Started\")\n",
    "        logging.info(\"Sleeping\")\n",
    "        time.sleep(2) # thread gets switched\n",
    "        logging.info(\"Reading Value From Db\")\n",
    "        tmp = self.value**2 + 1\n",
    "        logging.info(\"Updating Value\")\n",
    "        self.value = tmp\n",
    "        logging.info(\"Update Finished\")\n",
    "\n",
    "\n",
    "db = DbUpdate()\n",
    "with cf.ThreadPoolExecutor(max_workers=5) as executor:\n",
    "    updates = [executor.submit(db.update), executor.submit(db.update)]\n",
    "logging.info(f\"Final value is {db.value}\")"
   ]
  },
  {
   "cell_type": "markdown",
   "metadata": {},
   "source": [
    "Для того, чтобы избежать таких ситуаций, на время изменения нужно заблокировать общий ресурс value на чтение и запись."
   ]
  },
  {
   "cell_type": "code",
   "execution_count": null,
   "metadata": {},
   "outputs": [],
   "source": [
    "LOCK = threading.Lock()\n",
    "\n",
    "\n",
    "class DbUpdate:\n",
    "    def __init__(self):\n",
    "        self.value = 0\n",
    "\n",
    "    def update(self):\n",
    "        logging.info(\"Update Started\")\n",
    "        logging.info(\"Sleeping\")\n",
    "        time.sleep(2) # переключение потоков\n",
    "        with LOCK:\n",
    "            logging.info(\"Reading Value From Db\")\n",
    "            tmp = self.value**2 + 1\n",
    "            logging.info(\"Updating Value\")\n",
    "            self.value = tmp\n",
    "            logging.info(\"Update Finished\")\n",
    "        \n",
    "db = DbUpdate()\n",
    "with cf.ThreadPoolExecutor(max_workers=5) as executor:\n",
    "    updates = [executor.submit(db.update) for _ in range(2)]\n",
    "logging.info(f\"Final value is {db.value}\")"
   ]
  },
  {
   "cell_type": "markdown",
   "metadata": {},
   "source": [
    "## Совместные ресурсы в asyncio\n",
    "\n",
    "В asyncio о блокировках думать не нужно. Во время исполнения await'a контекст исполнения не прерывается. Поэтому такой код будет сразу работать так, как запланировано:"
   ]
  },
  {
   "cell_type": "code",
   "execution_count": null,
   "metadata": {},
   "outputs": [],
   "source": [
    "class DbUpdate:\n",
    "    def __init__(self):\n",
    "        self.value = 0\n",
    "\n",
    "    async def update(self):\n",
    "        logging.info(\"Update Started\")\n",
    "        logging.info(\"Sleeping\")\n",
    "        await asyncio.sleep(1)\n",
    "        logging.info(\"Reading Value From Db\")\n",
    "        tmp = self.value**2 + 1\n",
    "        logging.info(\"Updating Value\")\n",
    "        self.value = tmp\n",
    "        logging.info(\"Update Finished\")\n",
    "        \n",
    "async def main():\n",
    "    db = DbUpdate()\n",
    "    await asyncio.gather(*[db.update() for _ in range(2)])\n",
    "    logging.info(f\"Final value is {db.value}\")\n",
    "    \n",
    "# asyncio.run(main())\n",
    "await main()"
   ]
  },
  {
   "cell_type": "markdown",
   "metadata": {},
   "source": [
    "### Deadlock\n",
    "\n",
    "Тем не менее корутины asyncio могут оказаться в ситуации dead lock - когда одна корутина ожидает исполнения второй, а вторая - первой. Таких случаев нужно избегать в коде, поскольку это приводит к RecursionError."
   ]
  },
  {
   "cell_type": "code",
   "execution_count": null,
   "metadata": {},
   "outputs": [],
   "source": [
    "async def foo():\n",
    "    await boo()\n",
    "    \n",
    "async def boo():\n",
    "    await foo()\n",
    "    \n",
    "async def main():\n",
    "    await asyncio.gather(*[foo(), boo()])\n",
    "    \n",
    "# asyncio.run(main())\n",
    "await main()"
   ]
  },
  {
   "cell_type": "markdown",
   "metadata": {},
   "source": [
    "# Multiprocessing\n",
    "\n",
    "Использование нескольких процессов разумно применять тогда, когда обрабатываются тяжелые для процессора операции. В следующем примере представлена сортировка слиянием очень больших списков. Рассмотрим преджде синхронный вариант. "
   ]
  },
  {
   "cell_type": "code",
   "execution_count": null,
   "metadata": {},
   "outputs": [],
   "source": [
    "import concurrent.futures as cf\n",
    "import logging\n",
    "import math\n",
    "import numpy as np\n",
    "import time\n",
    "import threading\n",
    "\n",
    "logger_format = '%(asctime)s:%(threadName)s:%(message)s'\n",
    "logging.basicConfig(format=logger_format, level=logging.INFO, datefmt=\"%H:%M:%S\")\n",
    "\n",
    "r_lists = [[np.random.randint(500000) for _ in range(30000)] for _ in range(1000)]\n",
    "\n",
    "def merge(l_1, l_2):\n",
    "    out = []\n",
    "    key_1 = 0\n",
    "    key_2 = 0\n",
    "    for i in range(len(l_1) + len(l_2)):\n",
    "        if l_1[key_1] < l_2[key_2]:\n",
    "            out.append(l_1[key_1])\n",
    "            key_1 += 1\n",
    "            if key_1 == len(l_1):\n",
    "                out = out + l_2[key_2:]\n",
    "                break\n",
    "        else:\n",
    "            out.append(l_2[key_2])\n",
    "            key_2 += 1\n",
    "            if key_2 == len(l_2):\n",
    "                out = out + l_1[key_1:]\n",
    "                break\n",
    "    return out\n",
    "\n",
    "def merge_sort(l):\n",
    "    if len(l) == 1:\n",
    "        return l\n",
    "    mid_point = math.floor((len(l) + 1) / 2)\n",
    "    l_1, l_2 = merge_sort(l[:mid_point]), merge_sort(l[mid_point:])\n",
    "    out = merge(l_1, l_2)\n",
    "    del l_1, l_2\n",
    "    return out\n",
    "\n",
    "logging.info(\"Starting Sorting\")\n",
    "for r_list in r_lists:\n",
    "    _ = merge_sort(r_list)\n",
    "logging.info(\"Sorting Completed\")"
   ]
  },
  {
   "cell_type": "markdown",
   "metadata": {},
   "source": [
    "И асинхронная версия. По умолчанию количество процессов равняется количеству ядер процессора на компьютере, но оптимальное количество процессов нужно подбирать эмпирически."
   ]
  },
  {
   "cell_type": "code",
   "execution_count": null,
   "metadata": {},
   "outputs": [],
   "source": [
    "import math\n",
    "import numpy as np\n",
    "\n",
    "\n",
    "r_lists = [[np.random.randint(500000) for _ in range(30000)] for _ in range(1000)]\n",
    "\n",
    "def merge(l_1, l_2):\n",
    "    out = []\n",
    "    key_1 = 0\n",
    "    key_2 = 0\n",
    "    for i in range(len(l_1) + len(l_2)):\n",
    "        if l_1[key_1] < l_2[key_2]:\n",
    "            out.append(l_1[key_1])\n",
    "            key_1 += 1\n",
    "            if key_1 == len(l_1):\n",
    "                out = out + l_2[key_2:]\n",
    "                break\n",
    "        else:\n",
    "            out.append(l_2[key_2])\n",
    "            key_2 += 1\n",
    "            if key_2 == len(l_2):\n",
    "                out = out + l_1[key_1:]\n",
    "                break\n",
    "    return out\n",
    "\n",
    "def merge_sort(l):\n",
    "    if len(l) == 1:\n",
    "        return l\n",
    "    mid_point = math.floor((len(l) + 1) / 2)\n",
    "    l_1, l_2 = merge_sort(l[:mid_point]), merge_sort(l[mid_point:])\n",
    "    out = merge(l_1, l_2)\n",
    "    del l_1, l_2\n",
    "    return out\n",
    "\n",
    "logging.info(\"Starting Sorting\")\n",
    "with cf.ProcessPoolExecutor() as executor:\n",
    "    sorted_lists_futures = [executor.submit(merge_sort, r_list) for r_list in r_lists]\n",
    "logging.info(\"Sorting Completed\")"
   ]
  },
  {
   "cell_type": "markdown",
   "metadata": {},
   "source": [
    "# Asyncio API\n",
    "\n",
    "Рассмотрим использование библиотеки более подробно.\n",
    "\n",
    "http://onreader.mdl.ru/UsingAsyncioPython3/content/Ch03.html"
   ]
  },
  {
   "cell_type": "code",
   "execution_count": null,
   "metadata": {},
   "outputs": [],
   "source": [
    "import time\n",
    "import asyncio\n",
    "\n",
    "async def main():\n",
    "    print(f'{time.ctime()} Hello!')\n",
    "    await asyncio.sleep(1.0)\n",
    "    print(f'{time.ctime()} Goodbye!')\n",
    "    loop.stop()\n",
    "\n",
    "# 1. Прежде всего необходим экземпляр цикла событий. Если он уже запущен, мы можем его получить с помощью\n",
    "# get_event_loop. Если нет - нужно создать новый\n",
    "def get_or_create_loop():\n",
    "    loop = asyncio.get_event_loop()\n",
    "    if loop.is_closed():\n",
    "        loop = asyncio.new_event_loop()\n",
    "        asyncio.set_event_loop(loop)\n",
    "    return loop\n",
    "\n",
    "loop = get_or_create_loop()\n",
    "# 2. Создаем задание. Этот код пока не исполняет корутину main, но регистрирует ее в цикле событий\n",
    "loop.create_task(main())\n",
    "# 3. Запускаем цикл событий на исполнение без критериев останова цикла\n",
    "loop.run_forever()\n",
    "# 4. Выберем все задания, относящиеся к данному циклу\n",
    "pending = asyncio.Task.all_tasks(loop=loop)\n",
    "# 5. Функция gather собирает все пока еще не законченные задания и оборачивает их в футуры\n",
    "group = asyncio.gather(*pending, return_exceptions=True)\n",
    "# 6. run_until_complete завершает все поданные задания\n",
    "loop.run_until_complete(group)\n",
    "# 7. останавливаем цикл событий\n",
    "loop.close()"
   ]
  },
  {
   "cell_type": "markdown",
   "metadata": {},
   "source": [
    "### Обработка блокирующих операций\n",
    "\n",
    "Иногда внутри некоторого кода, который мы хотим исполнить асинхронно, попадаются блокирующие вызовы. Чтобы они не останавливали наш event loop, мы должны запускать их в отдельном executor:"
   ]
  },
  {
   "cell_type": "code",
   "execution_count": null,
   "metadata": {},
   "outputs": [],
   "source": [
    "async def main():\n",
    "    print(f'{time.ctime()} Hello!')\n",
    "    await asyncio.sleep(5)\n",
    "    print(f'{time.ctime()} Goodbye!')\n",
    "    loop.stop()\n",
    "\n",
    "def blocking():\n",
    "    time.sleep(3)\n",
    "    print(f\"{time.ctime()} Hello from a thread!\")\n",
    "\n",
    "loop = get_or_create_loop()\n",
    "\n",
    "loop.create_task(main())\n",
    "loop.run_in_executor(None, blocking)\n",
    "loop.run_forever()\n",
    "\n",
    "pending = asyncio.Task.all_tasks(loop=loop)\n",
    "group = asyncio.gather(*pending)\n",
    "loop.run_until_complete(group)\n",
    "loop.close()"
   ]
  },
  {
   "cell_type": "markdown",
   "metadata": {},
   "source": [
    "Важный нюанс предыдущего кода состоит в том, что корутина main выполняется дольше, чем функция blocking. А что будет, если сделать наоборот?"
   ]
  },
  {
   "cell_type": "code",
   "execution_count": null,
   "metadata": {},
   "outputs": [],
   "source": [
    "async def main():\n",
    "    print(f'{time.ctime()} Hello!')\n",
    "    await asyncio.sleep(3)\n",
    "    print(f'{time.ctime()} Goodbye!')\n",
    "    loop.stop()\n",
    "\n",
    "def blocking():\n",
    "    time.sleep(6)\n",
    "    print(f\"{time.ctime()} Hello from a thread!\")\n",
    "\n",
    "\n",
    "loop = get_or_create_loop()\n",
    "\n",
    "loop.create_task(main())\n",
    "\n",
    "loop.run_in_executor(None, blocking)\n",
    "loop.run_forever()\n",
    "tasks = asyncio.Task.all_tasks(loop=loop)\n",
    "group = asyncio.gather(*tasks, return_exceptions=True)\n",
    "loop.run_until_complete(group)\n",
    "loop.close()"
   ]
  },
  {
   "cell_type": "markdown",
   "metadata": {},
   "source": [
    "Эта ошибка возникает из-за того, что функция `run_in_executor` не создает экземпляр Task. Соответственно, из `asyncio.Task.all_tasks()` его не возвращает, и `run_until_complete` не ждет завершения этой функции. Есть несколько вариантов, что с этим делать.\n",
    "\n",
    "Вариант 1 - добавить новую корутину, которую мы будем регистрировать в цикле событий, в которой будет исполняться блокирующий код в новом executor'e."
   ]
  },
  {
   "cell_type": "code",
   "execution_count": null,
   "metadata": {},
   "outputs": [],
   "source": [
    "async def main():\n",
    "    print(f'{time.ctime()} Hello!')\n",
    "    await asyncio.sleep(3)\n",
    "    print(f'{time.ctime()} Goodbye!')\n",
    "    loop.stop()\n",
    "\n",
    "def blocking():\n",
    "    time.sleep(6)\n",
    "    print(f\"{time.ctime()} Hello from a thread!\")\n",
    "\n",
    "async def run_blocking():\n",
    "    await loop.run_in_executor(None, blocking)\n",
    "\n",
    "loop = get_or_create_loop()\n",
    "loop.create_task(main())\n",
    "loop.create_task(run_blocking())\n",
    "loop.run_forever()\n",
    "tasks = asyncio.Task.all_tasks(loop=loop)\n",
    "group = asyncio.gather(*tasks, return_exceptions=False)\n",
    "loop.run_until_complete(group)\n",
    "loop.close()"
   ]
  },
  {
   "cell_type": "markdown",
   "metadata": {},
   "source": [
    "Вариант 2 - вручную добавить нашу футуру в цикл событий"
   ]
  },
  {
   "cell_type": "code",
   "execution_count": null,
   "metadata": {},
   "outputs": [],
   "source": [
    "async def main():\n",
    "    print(f'{time.ctime()} Hello!')\n",
    "    await asyncio.sleep(3)\n",
    "    print(f'{time.ctime()} Goodbye!')\n",
    "    loop.stop()\n",
    "\n",
    "def blocking():\n",
    "    time.sleep(6)\n",
    "    print(f\"{time.ctime()} Hello from a thread!\")\n",
    "\n",
    "loop = get_or_create_loop()\n",
    "loop.create_task(main())\n",
    "future = loop.run_in_executor(None, blocking)\n",
    "loop.run_forever()\n",
    "tasks = asyncio.Task.all_tasks(loop=loop)\n",
    "for t in tasks:\n",
    "    t.cancel()\n",
    "group_tasks = asyncio.gather(*tasks, return_exceptions=True)\n",
    "# вот тут\n",
    "group = asyncio.gather(group_tasks, future)\n",
    "loop.run_until_complete(group)\n",
    "loop.close()"
   ]
  },
  {
   "cell_type": "markdown",
   "metadata": {},
   "source": [
    "## Корутины\n",
    "\n",
    "По способу работы корутины похожи на генераторы. Async def функция возвращает объект-корутину, так же, как функция с yield возвращает генератор:"
   ]
  },
  {
   "cell_type": "code",
   "execution_count": null,
   "metadata": {},
   "outputs": [],
   "source": [
    "main()"
   ]
  },
  {
   "cell_type": "markdown",
   "metadata": {},
   "source": [
    "### Что исполняет цикл событий у корутины\n",
    "\n",
    "Выполнение корутины также похоже на исполнение генератора: в конце вызывается StopIteration. А начало исполнения запускается методом `send` с аргументом `None`. Именно это и вызывает у корутины цикл событий, когда мы его запускаем либо ставим корутину на ожидание результата оператором await."
   ]
  },
  {
   "cell_type": "code",
   "execution_count": null,
   "metadata": {},
   "outputs": [],
   "source": [
    "async def f():\n",
    "    return \"abc\"\n",
    "\n",
    "coroutine = f()\n",
    "try:\n",
    "    coroutine.send(None)\n",
    "except StopIteration as e:\n",
    "    print(e.value)"
   ]
  },
  {
   "cell_type": "markdown",
   "metadata": {},
   "source": [
    "### Await\n",
    "\n",
    "Новый поток запускается из цикла событий. Если нам нужно последовательно выполнять корутины в этом потоке, мы можем использовать ключевое слово await. Оно принимает единственный объект - корутину либо любой другой объект, реализующий интерфейс `__await__() -> Iterator`."
   ]
  },
  {
   "cell_type": "code",
   "execution_count": null,
   "metadata": {},
   "outputs": [],
   "source": [
    "async def f():\n",
    "    print(\"f\")\n",
    "    await asyncio.sleep(1.0)\n",
    "    print(\"f end\")\n",
    "    loop.stop()\n",
    "    return 123\n",
    "\n",
    "async def main():\n",
    "    print(\"main\")\n",
    "    result = await f()\n",
    "    print(\"main end\")\n",
    "    return result\n",
    "\n",
    "\n",
    "loop = get_or_create_loop()\n",
    "loop.create_task(main())\n",
    "loop.run_forever()\n",
    "tasks = asyncio.Task.all_tasks(loop=loop)\n",
    "group = asyncio.gather(*tasks, return_exceptions=False)\n",
    "loop.run_until_complete(group)\n"
   ]
  },
  {
   "cell_type": "markdown",
   "metadata": {},
   "source": [
    "### Прекращение корутины\n",
    "\n",
    "Внутрь корутины можно пробросить исключение, которое будет вызвано внутри корутины во время ее await. В asyncio предусмотрен специальный тип исключения, который используется для отмены исполнения корутины."
   ]
  },
  {
   "cell_type": "code",
   "execution_count": null,
   "metadata": {},
   "outputs": [],
   "source": [
    "async def f():\n",
    "    try:\n",
    "        while True:\n",
    "            await asyncio.sleep(0)\n",
    "    except asyncio.CancelledError:\n",
    "        print('I was cancelled!')\n",
    "    else:\n",
    "        return 111\n",
    "\n",
    "coro = f()\n",
    "coro.send(None)\n",
    "coro.send(None)\n",
    "coro.throw(asyncio.CancelledError)"
   ]
  },
  {
   "cell_type": "markdown",
   "metadata": {},
   "source": [
    "## Асинхронные менеджеры контекста\n",
    "\n",
    "используются тогда, когда `__enter__` и/или `__exit__` должны использовать await в своем коде. Чтобы класс стал классом асинхронного менеджера контекста, он должен реализовать следующий интерфейс. Кстати, по аналогии с `@contextlib.contextmanager` для упрощенного создания асинхронных менеджеров контекста существует декоратор `@contextlib.asynccontextmanager`. Единственное отличие в применении - им оборачиваются корутины."
   ]
  },
  {
   "cell_type": "code",
   "execution_count": null,
   "metadata": {},
   "outputs": [],
   "source": [
    "class Connection:\n",
    "    def __init__(self, host, port):\n",
    "        self.host = host\n",
    "        self.port = port\n",
    "        \n",
    "    async def __aenter__(self):\n",
    "        self.conn = await get_conn(self.host, self.port)\n",
    "        return conn\n",
    "    \n",
    "    async def __aexit__(self, exc_type, exc, tb):\n",
    "        await self.conn.close()\n",
    "\n",
    "async with Connection('localhost', 9001) as conn:\n",
    "    <do stuff with conn>"
   ]
  },
  {
   "cell_type": "markdown",
   "metadata": {},
   "source": [
    "## Асинхронный итератор и генератор (async for)\n",
    "\n",
    "Мы можем написать итератор или генератор, итерироваться по которому можно асинхронно. Для этого реализуется следующий интерфейс:\n",
    "`__aiter__` и `__anext__`."
   ]
  },
  {
   "cell_type": "code",
   "execution_count": null,
   "metadata": {},
   "outputs": [],
   "source": [
    "async def mygen(u: int = 10):\n",
    "    i = 0\n",
    "    while i < u:\n",
    "        yield i\n",
    "        i += 1\n",
    "        await asyncio.sleep(2)\n",
    "\n",
    "        \n",
    "async def main():\n",
    "    async for i in mygen(15):\n",
    "        print(i)\n",
    "        loop.stop()\n",
    "\n",
    "loop = get_or_create_loop()\n",
    "\n",
    "loop.create_task(main())\n",
    "\n",
    "loop.run_forever()\n",
    "tasks = asyncio.Task.all_tasks(loop=loop)\n",
    "group = asyncio.gather(*tasks, return_exceptions=True)\n",
    "loop.run_until_complete(group)\n",
    "loop.close()"
   ]
  },
  {
   "cell_type": "markdown",
   "metadata": {},
   "source": [
    "Но асинхронность здесь заключается не в изменении порядка следования элементов, по которым мы итерируемся, а в том, что параллельно с итерациями может исполняться другой асинхронный код."
   ]
  },
  {
   "cell_type": "code",
   "execution_count": null,
   "metadata": {},
   "outputs": [],
   "source": [
    "async def mygen(u: int = 10):\n",
    "    i = 0\n",
    "    while i < u:\n",
    "        yield i\n",
    "        i += 1\n",
    "        await asyncio.sleep(1)\n",
    "    loop.stop()\n",
    "\n",
    "        \n",
    "async def main():\n",
    "    async for i in mygen(15):\n",
    "        print(i)\n",
    "        \n",
    "        \n",
    "async def sth_else():\n",
    "    for j in 'abcdefghjklmnop':\n",
    "        print(j)\n",
    "        await asyncio.sleep(0.5)\n",
    "\n",
    "loop = get_or_create_loop()\n",
    "\n",
    "t1 = loop.create_task(main())\n",
    "t2 = loop.create_task(sth_else())\n",
    "\n",
    "loop.run_forever()\n",
    "group = asyncio.gather(t1, t2, return_exceptions=True)\n",
    "loop.run_until_complete(group)\n",
    "loop.stop()\n",
    "loop.close()"
   ]
  },
  {
   "cell_type": "markdown",
   "metadata": {},
   "source": [
    "Async for можно также исползовать в генераторах коллекций"
   ]
  },
  {
   "cell_type": "code",
   "execution_count": null,
   "metadata": {},
   "outputs": [],
   "source": [
    "async def doubler(n):\n",
    "    for i in range(n):\n",
    "        yield i, i * 2\n",
    "        await asyncio.sleep(0.1)\n",
    "        \n",
    "        \n",
    "async def main():\n",
    "    result = [x async for x in doubler(5)]\n",
    "    print(result)\n",
    "    \n",
    "    result = {x: y async for x, y in doubler(3)}\n",
    "    print(result)\n",
    "    \n",
    "    result = {x async for x in doubler(3)}\n",
    "    print(result)\n",
    "    \n",
    "get_or_create_loop().run_until_complete(main())"
   ]
  },
  {
   "cell_type": "markdown",
   "metadata": {},
   "source": [
    "# Asyncio и http-запросы\n",
    "\n",
    "Для работы с http асинхронно есть библиотека aiohttp."
   ]
  },
  {
   "cell_type": "code",
   "execution_count": null,
   "metadata": {},
   "outputs": [],
   "source": [
    "!pip install aiohttp "
   ]
  },
  {
   "cell_type": "code",
   "execution_count": null,
   "metadata": {
    "scrolled": true
   },
   "outputs": [],
   "source": [
    "import aiohttp\n",
    "import asyncio\n",
    "\n",
    "async def main():\n",
    "    print(\"before 1st request\")\n",
    "\n",
    "    async with aiohttp.request('GET', \"http://python.org\") as response:\n",
    "        print(\"Python.org:\", response.status)\n",
    "        \n",
    "    print(\"before 2nd request\")\n",
    "        \n",
    "    async with aiohttp.request('GET', \"http://microsoft.com\") as response:\n",
    "        print(\"microsoft.com:\", response.status)\n",
    "\n",
    "loop = get_or_create_loop()\n",
    "loop.run_until_complete(main())\n",
    "\n",
    "# await main()"
   ]
  },
  {
   "cell_type": "markdown",
   "metadata": {},
   "source": [
    "## Задание\n",
    "\n",
    "Написать скрипт, который асинхронно скачивает заданные в списке файлы."
   ]
  },
  {
   "cell_type": "code",
   "execution_count": null,
   "metadata": {},
   "outputs": [],
   "source": []
  }
 ],
 "metadata": {
  "kernelspec": {
   "display_name": "Python 3",
   "language": "python",
   "name": "python3"
  },
  "language_info": {
   "codemirror_mode": {
    "name": "ipython",
    "version": 3
   },
   "file_extension": ".py",
   "mimetype": "text/x-python",
   "name": "python",
   "nbconvert_exporter": "python",
   "pygments_lexer": "ipython3",
   "version": "3.6.5"
  }
 },
 "nbformat": 4,
 "nbformat_minor": 2
}
