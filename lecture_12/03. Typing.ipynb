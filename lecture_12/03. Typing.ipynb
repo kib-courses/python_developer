{
 "cells": [
  {
   "cell_type": "markdown",
   "metadata": {},
   "source": [
    "# Модуль typing\n",
    "\n",
    "https://habr.com/ru/company/lamoda/blog/432656/\n",
    "\n",
    "Создан для того, чтобы отслеживать правильность типов передаваемых аргументов в функции. Аннотации функций появились в Python 3.6, модуль typing - в 3.7.\n",
    "\n",
    "Аннотации типов призваны помочь программисту быстрее понять сигнатуру функции, но не предотвращают ошибок в передаваемых данных. Также они поддерживаются PyCharm'ом и линтерами."
   ]
  },
  {
   "cell_type": "code",
   "execution_count": null,
   "metadata": {
    "scrolled": true
   },
   "outputs": [],
   "source": [
    "def upper(s: str) -> str:\n",
    "    print(\"entered\")\n",
    "    return s.upper()\n",
    "\n",
    "upper(12342)"
   ]
  },
  {
   "cell_type": "markdown",
   "metadata": {},
   "source": [
    "Установим популярный статический анализатор mypy:"
   ]
  },
  {
   "cell_type": "code",
   "execution_count": null,
   "metadata": {},
   "outputs": [],
   "source": [
    "!pip install mypy"
   ]
  },
  {
   "cell_type": "markdown",
   "metadata": {},
   "source": [
    "Код из предыдущей ячейки записан в файле 07/typing1.py. Попробуем прогнать его через mypy:"
   ]
  },
  {
   "cell_type": "code",
   "execution_count": null,
   "metadata": {},
   "outputs": [],
   "source": [
    "!mypy 07/typing1.py"
   ]
  },
  {
   "cell_type": "markdown",
   "metadata": {},
   "source": [
    "### Алиасы типов\n",
    "\n",
    "Благодаря возможностям библиотеки typing, можно часто используемые составные типы записывать в переменные:"
   ]
  },
  {
   "cell_type": "code",
   "execution_count": null,
   "metadata": {},
   "outputs": [],
   "source": [
    "from typing import List\n",
    "Vector = List[float]\n",
    "\n",
    "def scale(scalar: float, vector: Vector) -> Vector:\n",
    "    return [scalar * num for num in vector]\n",
    "\n",
    "\n",
    "scale(2, [1, -4.2, 5.2])"
   ]
  },
  {
   "cell_type": "markdown",
   "metadata": {},
   "source": [
    "## Структуры типов модуля typing\n",
    "\n",
    "- `Any` - произвольный тип\n",
    "- `List[int]` - список, который содержит только один тип данных int\n",
    "- `Tuple[int, str]` - кортеж, который может содержать несколько типов данных\n",
    "- `Union[str, bytes]` - можно подавать либо строку, либо bytes\n",
    "- `Callable[[int, int], float]` - вызываемый объект, который на вход принимает два аргумента int, а возвращает float\n",
    "- `Iterable[T]` - Iterable со значениями типа T\n",
    "- `Mapping[K, V]`, `Dict[K, V]` - словарь с ключами типа K и значениями типа V\n",
    "- `Awaitable[T_co]`\n",
    "- `Type[T]` - тип/класс\n",
    "\n",
    "\n",
    "- `Optional[T]` - показывает, что переменная может быть None\n",
    "\n",
    "### Optional\n",
    "\n",
    "По умолчанию аннотированный тип не может быть None:"
   ]
  },
  {
   "cell_type": "code",
   "execution_count": null,
   "metadata": {},
   "outputs": [],
   "source": [
    "from typing import Optional\n",
    "\n",
    "amount: int\n",
    "amount = None  # Incompatible types in assignment (expression has type \"None\", variable has type \"int\")\n",
    "\n",
    "price: Optional[int]\n",
    "price = None"
   ]
  },
  {
   "cell_type": "code",
   "execution_count": null,
   "metadata": {},
   "outputs": [],
   "source": [
    "!mypy -c \"amount: int = None\""
   ]
  },
  {
   "cell_type": "code",
   "execution_count": null,
   "metadata": {},
   "outputs": [],
   "source": [
    "!mypy -c \"from typing import Optional; amount: Optional[int] = None\""
   ]
  },
  {
   "cell_type": "markdown",
   "metadata": {},
   "source": [
    "### Any\n",
    "\n",
    "Если мы берем на себя ручную обработку типов, можем аннотировать переменную классом Any, тогда она сможет принимать любые значения"
   ]
  },
  {
   "cell_type": "code",
   "execution_count": null,
   "metadata": {},
   "outputs": [],
   "source": [
    "from typing import Any\n",
    "\n",
    "amount: Any\n",
    "amount = 1\n",
    "amount = \"Some\"\n",
    "amount = None"
   ]
  },
  {
   "cell_type": "code",
   "execution_count": null,
   "metadata": {},
   "outputs": [],
   "source": [
    "!mypy -c \"from typing import Any; amount: Any; amount = 1; amount = 'Some'; amount = None\""
   ]
  },
  {
   "cell_type": "markdown",
   "metadata": {},
   "source": [
    "### Union\n",
    "\n",
    "Предназначен для случаев, когда можно использовать только некоторые типы"
   ]
  },
  {
   "cell_type": "code",
   "execution_count": null,
   "metadata": {},
   "outputs": [],
   "source": [
    "from typing import Union, Dict\n",
    "\n",
    "def some_func(arg: Union[Dict[str, str], str]) -> int:\n",
    "    return len(arg)\n",
    "\n",
    "\n",
    "some_func({\"a\": \"b\"})\n",
    "some_func(\"abc\")\n",
    "some_func({\"a\": 1})"
   ]
  },
  {
   "cell_type": "code",
   "execution_count": null,
   "metadata": {},
   "outputs": [],
   "source": [
    "!mypy 07/typing2.py"
   ]
  },
  {
   "cell_type": "markdown",
   "metadata": {},
   "source": [
    "## Generic-типы\n",
    "\n",
    "Иногда нужно просто указать, что данные должны быть однотипными, без жесткой фиксации типов. Для этого используется TypeVar:"
   ]
  },
  {
   "cell_type": "code",
   "execution_count": null,
   "metadata": {},
   "outputs": [],
   "source": [
    "from typing import TypeVar, Generic\n",
    "\n",
    "T = TypeVar(\"T\")\n",
    "\n",
    "class LinkedList(Generic[T]):\n",
    "    data: T\n",
    "    next: \"LinkedList[T]\"\n",
    "\n",
    "    def __init__(self, data: T):\n",
    "        self.data = data\n",
    "\n",
    "head_int: LinkedList[int] = LinkedList(1)\n",
    "head_int.next = LinkedList(2)\n",
    "head_int.next = 2  # error: Incompatible types in assignment (expression has type \"int\", variable has type \"LinkedList[int]\")\n",
    "head_int.data += 1\n",
    "head_int.data.replace(\"0\", \"1\")  # error: \"int\" has no attribute \"replace\"\n",
    "\n",
    "head_str: LinkedList[str] = LinkedList(\"1\")\n",
    "head_str.data.replace(\"0\", \"1\")\n",
    "\n",
    "head_str = LinkedList[str](1)  # error: Argument 1 to \"LinkedList\" has incompatible type \"int\"; expected \"str\""
   ]
  },
  {
   "cell_type": "code",
   "execution_count": null,
   "metadata": {},
   "outputs": [],
   "source": [
    "!mypy 07/typing3.py"
   ]
  },
  {
   "cell_type": "markdown",
   "metadata": {},
   "source": [
    "Еще один пример - пара объектов для любых конкретных типов:"
   ]
  },
  {
   "cell_type": "code",
   "execution_count": null,
   "metadata": {},
   "outputs": [],
   "source": [
    "from typing import TypeVar, Generic\n",
    "\n",
    "K = TypeVar('K')\n",
    "V = TypeVar('V')\n",
    "\n",
    "class Pair(Generic[K, V]):\n",
    "    def __init__(self, key: K, value: V):\n",
    "        self._key = key\n",
    "        self._value = value\n",
    "\n",
    "    @property\n",
    "    def key(self) -> K:\n",
    "        return self._key\n",
    "\n",
    "    @property\n",
    "    def value(self) -> V:\n",
    "        return self._value\n",
    "\n",
    "\n",
    "class IntPair(Pair[int, int]):\n",
    "    pass\n",
    "\n",
    "p = IntPair(\"1\", \"2\")"
   ]
  },
  {
   "cell_type": "markdown",
   "metadata": {},
   "source": [
    "## Cast\n",
    "\n",
    "Иногда статический анализатор не может однозначно определить тип переменной. Чтобы показать анализатору, что возвращается действительно заявленный тип, можно в коде использовать функцию cast."
   ]
  },
  {
   "cell_type": "code",
   "execution_count": null,
   "metadata": {},
   "outputs": [],
   "source": [
    "from typing import List, cast\n",
    "\n",
    "def find_first_str(a: List[object]) -> str:\n",
    "    index = next(i for i, x in enumerate(a) if isinstance(x, str))\n",
    "    return cast(str, a[index])"
   ]
  },
  {
   "cell_type": "markdown",
   "metadata": {},
   "source": [
    "Это полезно для декораторов, поскольку анализатору может быть непонятно, что представляет собой обобщенный wrapper:"
   ]
  },
  {
   "cell_type": "code",
   "execution_count": null,
   "metadata": {},
   "outputs": [],
   "source": [
    "MyCallable = TypeVar(\"MyCallable\", bound=Callable)\n",
    "\n",
    "def logged(func: MyCallable) -> MyCallable:\n",
    "    @wraps(func)\n",
    "    def wrapper(*args, **kwargs):\n",
    "        print(func.__name__, args, kwargs)\n",
    "        return func(*args, **kwargs)\n",
    "\n",
    "    return cast(MyCallable, wrapper)\n",
    "\n",
    "@logged\n",
    "def mysum(a: int, b: int) -> int:\n",
    "    return a + b\n",
    "\n",
    "mysum(a=1)  # error: Missing positional argument \"b\" in call to \"mysum\""
   ]
  }
 ],
 "metadata": {
  "kernelspec": {
   "display_name": "Python 3",
   "language": "python",
   "name": "python3"
  },
  "language_info": {
   "codemirror_mode": {
    "name": "ipython",
    "version": 3
   },
   "file_extension": ".py",
   "mimetype": "text/x-python",
   "name": "python",
   "nbconvert_exporter": "python",
   "pygments_lexer": "ipython3",
   "version": "3.6.5"
  }
 },
 "nbformat": 4,
 "nbformat_minor": 2
}
