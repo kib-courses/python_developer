{
 "cells": [
  {
   "cell_type": "code",
   "execution_count": 169,
   "metadata": {},
   "outputs": [],
   "source": [
    "#from collections.abc import Sequence\n",
    "import random\n",
    "from random import randint\n",
    "from array import typecodes\n",
    "\n",
    "import numpy\n",
    "\n",
    "import array\n",
    "\n",
    "class ArrayList():\n",
    "\n",
    "    def __init__(self):\n",
    "        self.length = randint(10,20)\n",
    "        self.data = array.array('i',[randint(0,200) for i in range(self.length)])\n",
    "#не получается сделать и целые, и строки, и вещественные. array.array может или только i-int,\n",
    "#или u-str или f-float иметь в TypeCode. Я думала, создать отдельно строки, числа и объединить, \n",
    "#но так вряд ли нужно\n",
    "\n",
    "    def __len__(self):\n",
    "        return self.length\n",
    "  \n",
    "    def __iter__(self):\n",
    "        return (i for i in self.data)\n",
    "    \n",
    "    def __reversed__(self):\n",
    "        return (self.data[i] for i in range(self.length-1,-1,-1))\n",
    "    \n",
    "    def __getitem__(self, val): \n",
    "        return self.data[val] \n",
    "\n",
    "    def __contains__(self, item):\n",
    "            return item in self.data\n",
    "\n",
    "    def count(self,c):\n",
    "        k=0\n",
    "        for i in self.data:\n",
    "            if c==i:\n",
    "                k+=1\n",
    "        return k\n",
    "\n",
    "    def index(self, c, start,end):\n",
    "        f=0\n",
    "        for i in range(start,end):\n",
    "            if c==self.data[i]:\n",
    "                ind=i\n",
    "                f=1\n",
    "                return ind\n",
    "        if f==0:\n",
    "            return 'did not find' "
   ]
  },
  {
   "cell_type": "code",
   "execution_count": 170,
   "metadata": {},
   "outputs": [],
   "source": [
    "al=ArrayList()"
   ]
  },
  {
   "cell_type": "code",
   "execution_count": 171,
   "metadata": {},
   "outputs": [
    {
     "name": "stdout",
     "output_type": "stream",
     "text": [
      "***length =  13\n"
     ]
    }
   ],
   "source": [
    "# len also works\n",
    "\n",
    "print('***length = ', end=' ')\n",
    "\n",
    "print(len(al))\n",
    "\n"
   ]
  },
  {
   "cell_type": "code",
   "execution_count": 172,
   "metadata": {},
   "outputs": [
    {
     "name": "stdout",
     "output_type": "stream",
     "text": [
      "***iter works\n",
      "43\n",
      "44\n",
      "38\n",
      "33\n",
      "23\n",
      "43\n",
      "42\n",
      "139\n",
      "125\n",
      "10\n",
      "6\n",
      "135\n",
      "57\n"
     ]
    }
   ],
   "source": [
    "#iter works\n",
    "\n",
    "print('***iter works')\n",
    "\n",
    "for i in al:\n",
    "    print(i)"
   ]
  },
  {
   "cell_type": "code",
   "execution_count": 173,
   "metadata": {},
   "outputs": [
    {
     "name": "stdout",
     "output_type": "stream",
     "text": [
      "***reversed works\n",
      "57\n",
      "135\n",
      "6\n",
      "10\n",
      "125\n",
      "139\n",
      "42\n",
      "43\n",
      "23\n",
      "33\n",
      "38\n",
      "44\n",
      "43\n"
     ]
    }
   ],
   "source": [
    "#итерация в обратном порядке:reversed\n",
    "\n",
    "print('***reversed works')\n",
    "\n",
    "for i in range(len(al)-1,-1,-1):\n",
    "\n",
    "    print(al[i])"
   ]
  },
  {
   "cell_type": "code",
   "execution_count": 174,
   "metadata": {},
   "outputs": [
    {
     "name": "stdout",
     "output_type": "stream",
     "text": [
      "***getitem works\n",
      "al[0] is  43\n"
     ]
    }
   ],
   "source": [
    "# getitem works\n",
    "\n",
    "print('***getitem works')\n",
    "\n",
    "print('al[0] is ', al[0])\n",
    "\n"
   ]
  },
  {
   "cell_type": "code",
   "execution_count": 180,
   "metadata": {},
   "outputs": [
    {
     "name": "stdout",
     "output_type": "stream",
     "text": [
      "al[0:10:2] is  [43, 44, 38, 33, 23, 43, 42, 139, 125, 10, 6, 135, 57]\n"
     ]
    }
   ],
   "source": [
    "print('al[0:10:2] is ', al[0:len(al)].tolist())\n"
   ]
  },
  {
   "cell_type": "code",
   "execution_count": 181,
   "metadata": {},
   "outputs": [
    {
     "name": "stdout",
     "output_type": "stream",
     "text": [
      "***contains works\n",
      "does al contains 100:  False\n"
     ]
    }
   ],
   "source": [
    "#есть ли в нашем массиве 100\n",
    "\n",
    "print('***contains works')\n",
    "\n",
    "print('does al contains 100: ',end=' ')\n",
    "\n",
    "print(100 in al)\n",
    "\n"
   ]
  },
  {
   "cell_type": "code",
   "execution_count": 182,
   "metadata": {},
   "outputs": [
    {
     "name": "stdout",
     "output_type": "stream",
     "text": [
      "does al contains a=al[0]:  True\n"
     ]
    }
   ],
   "source": [
    "#проверка принадлежности нулевого элемент массиву(должно быть,конечно, TRUE)\n",
    "\n",
    "a = al[0]\n",
    "\n",
    "print('does al contains a=al[0]: ',end=' ')\n",
    "\n",
    "print(a in al)"
   ]
  },
  {
   "cell_type": "code",
   "execution_count": 183,
   "metadata": {},
   "outputs": [
    {
     "name": "stdout",
     "output_type": "stream",
     "text": [
      "***count works\n",
      "count of 171:  0\n"
     ]
    }
   ],
   "source": [
    "#поиск количевств вхождений 171 и нулевого элемента\n",
    "\n",
    "print('***count works')\n",
    "\n",
    "print('count of 171: ',al.count(171))\n",
    "\n"
   ]
  },
  {
   "cell_type": "code",
   "execution_count": 184,
   "metadata": {},
   "outputs": [
    {
     "name": "stdout",
     "output_type": "stream",
     "text": [
      "count of al[0]:  2\n"
     ]
    }
   ],
   "source": [
    "#поиск количевств вхождений нулевого элемента\n",
    "print('count of al[0]: ',al.count(al[0]))"
   ]
  },
  {
   "cell_type": "code",
   "execution_count": 185,
   "metadata": {},
   "outputs": [
    {
     "name": "stdout",
     "output_type": "stream",
     "text": [
      "***index works\n",
      "index of 24:  did not find\n"
     ]
    }
   ],
   "source": [
    "\n",
    "#поиск первого индекса вводимого элемента, вид: (элемент, начало,конец поиска)\n",
    "\n",
    "#если нет вхождений возвращает ´did not find'\n",
    "\n",
    "print('***index works')\n",
    "\n",
    "print('index of 24: ',al.index(24,0,len(al)))\n",
    "\n"
   ]
  },
  {
   "cell_type": "code",
   "execution_count": 186,
   "metadata": {},
   "outputs": [
    {
     "name": "stdout",
     "output_type": "stream",
     "text": [
      "index of al[0]:  0\n"
     ]
    }
   ],
   "source": [
    "print('index of al[0]: ',al.index(al[0],0,len(al)))"
   ]
  },
  {
   "cell_type": "code",
   "execution_count": null,
   "metadata": {},
   "outputs": [],
   "source": []
  }
 ],
 "metadata": {
  "kernelspec": {
   "display_name": "Python 3",
   "language": "python",
   "name": "python3"
  },
  "language_info": {
   "codemirror_mode": {
    "name": "ipython",
    "version": 3
   },
   "file_extension": ".py",
   "mimetype": "text/x-python",
   "name": "python",
   "nbconvert_exporter": "python",
   "pygments_lexer": "ipython3",
   "version": "3.7.3"
  }
 },
 "nbformat": 4,
 "nbformat_minor": 2
}
